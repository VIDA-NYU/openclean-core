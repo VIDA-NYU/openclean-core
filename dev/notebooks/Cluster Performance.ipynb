{
 "cells": [
  {
   "cell_type": "code",
   "execution_count": 1,
   "id": "logical-commodity",
   "metadata": {},
   "outputs": [
    {
     "data": {
      "text/html": [
       "<div>\n",
       "<style scoped>\n",
       "    .dataframe tbody tr th:only-of-type {\n",
       "        vertical-align: middle;\n",
       "    }\n",
       "\n",
       "    .dataframe tbody tr th {\n",
       "        vertical-align: top;\n",
       "    }\n",
       "\n",
       "    .dataframe thead th {\n",
       "        text-align: right;\n",
       "    }\n",
       "</style>\n",
       "<table border=\"1\" class=\"dataframe\">\n",
       "  <thead>\n",
       "    <tr style=\"text-align: right;\">\n",
       "      <th></th>\n",
       "      <th>Street</th>\n",
       "    </tr>\n",
       "  </thead>\n",
       "  <tbody>\n",
       "    <tr>\n",
       "      <th>0</th>\n",
       "      <td>E 5 ST</td>\n",
       "    </tr>\n",
       "    <tr>\n",
       "      <th>1</th>\n",
       "      <td>MARINE AVENUE</td>\n",
       "    </tr>\n",
       "    <tr>\n",
       "      <th>2</th>\n",
       "      <td>56 ST</td>\n",
       "    </tr>\n",
       "    <tr>\n",
       "      <th>3</th>\n",
       "      <td>56 ST</td>\n",
       "    </tr>\n",
       "    <tr>\n",
       "      <th>4</th>\n",
       "      <td>ANDREWS AVE</td>\n",
       "    </tr>\n",
       "    <tr>\n",
       "      <th>5</th>\n",
       "      <td>BROADWAY</td>\n",
       "    </tr>\n",
       "    <tr>\n",
       "      <th>6</th>\n",
       "      <td>34 AVE</td>\n",
       "    </tr>\n",
       "    <tr>\n",
       "      <th>7</th>\n",
       "      <td>THOMAS BOYLAND ST</td>\n",
       "    </tr>\n",
       "    <tr>\n",
       "      <th>8</th>\n",
       "      <td>7 AVE</td>\n",
       "    </tr>\n",
       "    <tr>\n",
       "      <th>9</th>\n",
       "      <td>FT HAMILTON PKWY</td>\n",
       "    </tr>\n",
       "  </tbody>\n",
       "</table>\n",
       "</div>"
      ],
      "text/plain": [
       "              Street\n",
       "0             E 5 ST\n",
       "1      MARINE AVENUE\n",
       "2              56 ST\n",
       "3              56 ST\n",
       "4        ANDREWS AVE\n",
       "5           BROADWAY\n",
       "6             34 AVE\n",
       "7  THOMAS BOYLAND ST\n",
       "8              7 AVE\n",
       "9   FT HAMILTON PKWY"
      ]
     },
     "execution_count": 1,
     "metadata": {},
     "output_type": "execute_result"
    }
   ],
   "source": [
    "datafile = '../../examples/notebooks/parking-violations/jt7v-77mi.tsv.gz'\n",
    "\n",
    "from openclean.pipeline import stream\n",
    "\n",
    "df = stream(datafile)\n",
    "\n",
    "df.select('Street').head()"
   ]
  },
  {
   "cell_type": "code",
   "execution_count": 2,
   "id": "potential-folder",
   "metadata": {},
   "outputs": [
    {
     "name": "stdout",
     "output_type": "stream",
     "text": [
      "115567 distinct street names\n"
     ]
    }
   ],
   "source": [
    "streets = list(df.select('Street').distinct())\n",
    "print('{} distinct street names'.format(len(streets)))"
   ]
  },
  {
   "cell_type": "code",
   "execution_count": 3,
   "id": "wired-fruit",
   "metadata": {},
   "outputs": [],
   "source": [
    "from openclean.function.token.key import Fingerprint\n",
    "import time"
   ]
  },
  {
   "cell_type": "code",
   "execution_count": 4,
   "id": "filled-pennsylvania",
   "metadata": {},
   "outputs": [
    {
     "name": "stdout",
     "output_type": "stream",
     "text": [
      "1.0051497947999906\n"
     ]
    }
   ],
   "source": [
    "# Runtime for computig the fingerprint for all street values.\n",
    "\n",
    "f = Fingerprint()\n",
    "\n",
    "total_time = 0\n",
    "for i in range(10):\n",
    "    start = time.perf_counter()\n",
    "    for str in streets:\n",
    "        f(str)\n",
    "    end = time.perf_counter()\n",
    "    total_time += (end - start)\n",
    "    \n",
    "print(total_time/10)"
   ]
  },
  {
   "cell_type": "code",
   "execution_count": 5,
   "id": "soviet-bleeding",
   "metadata": {},
   "outputs": [
    {
     "name": "stdout",
     "output_type": "stream",
     "text": [
      "1.169703000499976\n"
     ]
    }
   ],
   "source": [
    "# Use a standard list to collect key-value pairs and then sort the\n",
    "# list for cluster generation.\n",
    "\n",
    "total_time = 0\n",
    "for i in range(10):\n",
    "    start = time.perf_counter()\n",
    "    values = [(f(val), val) for val in streets]\n",
    "    values.sort(key=lambda v:v[0])\n",
    "    result = list()\n",
    "    pk, v = values[0]\n",
    "    cluster = [v]\n",
    "    for i in range(1, len(values)):\n",
    "        k, v = values[i]\n",
    "        if k == pk:\n",
    "            cluster.append(v)\n",
    "        else:\n",
    "            if len(cluster) > 1:\n",
    "                result.append(cluster)\n",
    "            cluster = [v]\n",
    "            pk = k\n",
    "    if len(cluster) > 1:\n",
    "        result.append(cluster)\n",
    "    end = time.perf_counter()\n",
    "    total_time += (end - start)\n",
    "    \n",
    "print(total_time/10)"
   ]
  },
  {
   "cell_type": "code",
   "execution_count": 6,
   "id": "social-philosophy",
   "metadata": {},
   "outputs": [
    {
     "name": "stdout",
     "output_type": "stream",
     "text": [
      "1.8657956258000012\n"
     ]
    }
   ],
   "source": [
    "# Use a sorted list to collect key-value pairs for cluster generation.\n",
    "\n",
    "from sortedcontainers import SortedList\n",
    "\n",
    "total_time = 0\n",
    "for i in range(10):\n",
    "    start = time.perf_counter()\n",
    "    values = SortedList(key=lambda v:v[0])\n",
    "    for val in streets:\n",
    "        values.add((f(val), val))\n",
    "    result = list()\n",
    "    pk, v = values[0]\n",
    "    cluster = [v]\n",
    "    for i in range(1, len(values)):\n",
    "        k, v = values[i]\n",
    "        if k == pk:\n",
    "            cluster.append(v)\n",
    "        else:\n",
    "            if len(cluster) > 1:\n",
    "                result.append(cluster)\n",
    "            cluster = [v]\n",
    "            pk = k\n",
    "    if len(cluster) > 1:\n",
    "        result.append(cluster)\n",
    "    end = time.perf_counter()\n",
    "    total_time += (end - start)\n",
    "    \n",
    "print(total_time/10)"
   ]
  },
  {
   "cell_type": "code",
   "execution_count": 7,
   "id": "interested-guitar",
   "metadata": {},
   "outputs": [
    {
     "name": "stdout",
     "output_type": "stream",
     "text": [
      "1.169829982400006\n"
     ]
    }
   ],
   "source": [
    "# Use a default dictionary to generate clusters without sorting.\n",
    "\n",
    "from collections import defaultdict\n",
    "\n",
    "total_time = 0\n",
    "\n",
    "for i in range(10):\n",
    "    start = time.perf_counter()\n",
    "    values = defaultdict(list)\n",
    "    for val in streets:\n",
    "        values[f(val)].append(val)\n",
    "    result = [c for c in values.values() if len(c) > 1]\n",
    "    end = time.perf_counter()\n",
    "    total_time += (end - start)\n",
    "    \n",
    "print(total_time/10)"
   ]
  },
  {
   "cell_type": "code",
   "execution_count": 10,
   "id": "artistic-corpus",
   "metadata": {},
   "outputs": [
    {
     "name": "stdout",
     "output_type": "stream",
     "text": [
      "0.7203427761000512 for 2 CPUs\n",
      "0.6470907872001135 for 3 CPUs\n",
      "0.628707971599988 for 4 CPUs\n"
     ]
    }
   ],
   "source": [
    "# Parallel key generation.\n",
    "\n",
    "import multiprocessing as mp\n",
    "\n",
    "f = Fingerprint()\n",
    "\n",
    "def key_value_pair(value):\n",
    "    return f(val), val\n",
    "    \n",
    "\n",
    "for cpus in [2, 3, 4]:\n",
    "    p = mp.Pool(processes=cpus)\n",
    "    total_time = 0\n",
    "    for i in range(10):\n",
    "        start = time.perf_counter()\n",
    "        values = p.map(key_value_pair, streets)\n",
    "        end = time.perf_counter()\n",
    "        total_time += (end - start)\n",
    "\n",
    "    print('{} for {} CPUs'.format(total_time/10, cpus))"
   ]
  },
  {
   "cell_type": "code",
   "execution_count": null,
   "id": "aggressive-longer",
   "metadata": {},
   "outputs": [],
   "source": []
  }
 ],
 "metadata": {
  "kernelspec": {
   "display_name": "Python 3",
   "language": "python",
   "name": "python3"
  },
  "language_info": {
   "codemirror_mode": {
    "name": "ipython",
    "version": 3
   },
   "file_extension": ".py",
   "mimetype": "text/x-python",
   "name": "python",
   "nbconvert_exporter": "python",
   "pygments_lexer": "ipython3",
   "version": "3.9.1"
  }
 },
 "nbformat": 4,
 "nbformat_minor": 5
}
