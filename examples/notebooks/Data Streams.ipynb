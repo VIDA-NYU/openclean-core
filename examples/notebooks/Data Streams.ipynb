{
 "cells": [
  {
   "cell_type": "code",
   "execution_count": 1,
   "metadata": {},
   "outputs": [],
   "source": [
    "# Open the 311.tsv dataset as a data stream.\n",
    "\n",
    "from openclean.data.load import stream\n",
    "\n",
    "ds = stream('../data/311.tsv')"
   ]
  },
  {
   "cell_type": "code",
   "execution_count": 2,
   "metadata": {},
   "outputs": [
    {
     "data": {
      "text/plain": [
       "['closed_date',\n",
       " 'descriptor',\n",
       " 'borough',\n",
       " 'complaint_type',\n",
       " 'incident_zip',\n",
       " 'school_zip',\n",
       " 'longitude',\n",
       " 'park_facility_name',\n",
       " 'unique_key',\n",
       " 'school_phone_number',\n",
       " 'school_region',\n",
       " 'school_state',\n",
       " 'resolution_action_updated_date',\n",
       " 'community_board',\n",
       " 'school_number',\n",
       " 'bridge_highway_direction',\n",
       " 'status',\n",
       " 'school_code',\n",
       " 'city',\n",
       " 'latitude',\n",
       " 'intersection_street_2',\n",
       " 'school_city',\n",
       " 'intersection_street_1',\n",
       " 'x_coordinate_state_plane_',\n",
       " 'school_address',\n",
       " 'facility_type',\n",
       " 'y_coordinate_state_plane_',\n",
       " 'agency_name',\n",
       " 'agency',\n",
       " 'address_type',\n",
       " 'school_name',\n",
       " 'location_type',\n",
       " 'park_borough',\n",
       " 'location/latitude',\n",
       " 'location/longitude',\n",
       " 'created_date',\n",
       " 'cross_street_2',\n",
       " 'cross_street_1',\n",
       " 'street_name',\n",
       " 'incident_address',\n",
       " 'landmark',\n",
       " 'school_or_citywide_complaint',\n",
       " 'taxi_pick_up_location',\n",
       " 'ferry_direction',\n",
       " 'due_date',\n",
       " 'bridge_highway_name']"
      ]
     },
     "execution_count": 2,
     "metadata": {},
     "output_type": "execute_result"
    }
   ],
   "source": [
    "# Print list of columns in the dataset.\n",
    "\n",
    "ds.columns"
   ]
  },
  {
   "cell_type": "code",
   "execution_count": 3,
   "metadata": {},
   "outputs": [
    {
     "data": {
      "text/plain": [
       "999"
      ]
     },
     "execution_count": 3,
     "metadata": {},
     "output_type": "execute_result"
    }
   ],
   "source": [
    "# Count the number of rows in the stream.\n",
    "\n",
    "ds.count()"
   ]
  },
  {
   "cell_type": "code",
   "execution_count": 4,
   "metadata": {},
   "outputs": [
    {
     "data": {
      "text/plain": [
       "Counter({'MANHATTAN': 332,\n",
       "         'QUEENS': 212,\n",
       "         'BRONX': 112,\n",
       "         'BROOKLYN': 231,\n",
       "         'Unspecified': 50,\n",
       "         'STATEN ISLAND': 62})"
      ]
     },
     "execution_count": 4,
     "metadata": {},
     "output_type": "execute_result"
    }
   ],
   "source": [
    "# Get frequency counts for distinct values in clolumn 'borough'.\n",
    "\n",
    "ds.distinct('borough')"
   ]
  },
  {
   "cell_type": "code",
   "execution_count": 5,
   "metadata": {},
   "outputs": [
    {
     "data": {
      "text/html": [
       "<div>\n",
       "<style scoped>\n",
       "    .dataframe tbody tr th:only-of-type {\n",
       "        vertical-align: middle;\n",
       "    }\n",
       "\n",
       "    .dataframe tbody tr th {\n",
       "        vertical-align: top;\n",
       "    }\n",
       "\n",
       "    .dataframe thead th {\n",
       "        text-align: right;\n",
       "    }\n",
       "</style>\n",
       "<table border=\"1\" class=\"dataframe\">\n",
       "  <thead>\n",
       "    <tr style=\"text-align: right;\">\n",
       "      <th></th>\n",
       "      <th>borough</th>\n",
       "      <th>city</th>\n",
       "    </tr>\n",
       "  </thead>\n",
       "  <tbody>\n",
       "    <tr>\n",
       "      <th>0</th>\n",
       "      <td>MANHATTAN</td>\n",
       "      <td>NEW YORK</td>\n",
       "    </tr>\n",
       "    <tr>\n",
       "      <th>1</th>\n",
       "      <td>QUEENS</td>\n",
       "      <td>FLUSHING</td>\n",
       "    </tr>\n",
       "    <tr>\n",
       "      <th>2</th>\n",
       "      <td>QUEENS</td>\n",
       "      <td>EAST ELMHURST</td>\n",
       "    </tr>\n",
       "    <tr>\n",
       "      <th>3</th>\n",
       "      <td>BRONX</td>\n",
       "      <td>BRONX</td>\n",
       "    </tr>\n",
       "    <tr>\n",
       "      <th>4</th>\n",
       "      <td>BROOKLYN</td>\n",
       "      <td>BROOKLYN</td>\n",
       "    </tr>\n",
       "    <tr>\n",
       "      <th>5</th>\n",
       "      <td>Unspecified</td>\n",
       "      <td></td>\n",
       "    </tr>\n",
       "    <tr>\n",
       "      <th>6</th>\n",
       "      <td>BROOKLYN</td>\n",
       "      <td>BROOKLYN</td>\n",
       "    </tr>\n",
       "    <tr>\n",
       "      <th>7</th>\n",
       "      <td>BROOKLYN</td>\n",
       "      <td>BROOKLYN</td>\n",
       "    </tr>\n",
       "    <tr>\n",
       "      <th>8</th>\n",
       "      <td>BROOKLYN</td>\n",
       "      <td>BROOKLYN</td>\n",
       "    </tr>\n",
       "    <tr>\n",
       "      <th>9</th>\n",
       "      <td>MANHATTAN</td>\n",
       "      <td>NEW YORK</td>\n",
       "    </tr>\n",
       "  </tbody>\n",
       "</table>\n",
       "</div>"
      ],
      "text/plain": [
       "       borough           city\n",
       "0    MANHATTAN       NEW YORK\n",
       "1       QUEENS       FLUSHING\n",
       "2       QUEENS  EAST ELMHURST\n",
       "3        BRONX          BRONX\n",
       "4     BROOKLYN       BROOKLYN\n",
       "5  Unspecified               \n",
       "6     BROOKLYN       BROOKLYN\n",
       "7     BROOKLYN       BROOKLYN\n",
       "8     BROOKLYN       BROOKLYN\n",
       "9    MANHATTAN       NEW YORK"
      ]
     },
     "execution_count": 5,
     "metadata": {},
     "output_type": "execute_result"
    }
   ],
   "source": [
    "# Show the values for columns 'borough' and 'city' for the\n",
    "# first 10 rows in the dataset.\n",
    "\n",
    "ds.select('borough', 'city').head()"
   ]
  },
  {
   "cell_type": "code",
   "execution_count": 6,
   "metadata": {},
   "outputs": [
    {
     "data": {
      "text/plain": [
       "Counter({('MANHATTAN', 'NEW YORK'): 304,\n",
       "         ('QUEENS', 'FLUSHING'): 21,\n",
       "         ('QUEENS', 'EAST ELMHURST'): 10,\n",
       "         ('Unspecified', ''): 50,\n",
       "         ('QUEENS', 'QUEENS VILLAGE'): 6,\n",
       "         ('QUEENS', 'MASPETH'): 10,\n",
       "         ('MANHATTAN', ''): 19,\n",
       "         ('QUEENS', 'RICHMOND HILL'): 6,\n",
       "         ('QUEENS', 'KEW GARDENS'): 3,\n",
       "         ('QUEENS', 'FOREST HILLS'): 8,\n",
       "         ('BROOKLYN', ''): 8,\n",
       "         ('QUEENS', 'ROSEDALE'): 4,\n",
       "         ('QUEENS', 'WOODSIDE'): 7,\n",
       "         ('QUEENS', ''): 15,\n",
       "         ('STATEN ISLAND', ''): 3,\n",
       "         ('QUEENS', 'CORONA'): 6,\n",
       "         ('QUEENS', 'JAMAICA'): 25,\n",
       "         ('QUEENS', 'COLLEGE POINT'): 3,\n",
       "         ('QUEENS', 'RIDGEWOOD'): 6,\n",
       "         ('QUEENS', 'JACKSON HEIGHTS'): 5,\n",
       "         ('QUEENS', 'LITTLE NECK'): 3,\n",
       "         ('QUEENS', 'OAKLAND GARDENS'): 2,\n",
       "         ('QUEENS', 'OZONE PARK'): 5,\n",
       "         ('QUEENS', 'NY'): 2,\n",
       "         ('MANHATTAN', 'NY'): 7,\n",
       "         ('QUEENS', 'FRESH MEADOWS'): 2,\n",
       "         ('QUEENS', 'MIDDLE VILLAGE'): 7,\n",
       "         ('QUEENS', 'ROCKAWAY PARK'): 2,\n",
       "         ('QUEENS', 'REGO PARK'): 3,\n",
       "         ('QUEENS', 'WOODHAVEN'): 1,\n",
       "         ('QUEENS', 'ASTORIA'): 10,\n",
       "         ('QUEENS', 'BAYSIDE'): 5,\n",
       "         ('BRONX', ''): 5,\n",
       "         ('QUEENS', 'FAR ROCKAWAY'): 4,\n",
       "         ('QUEENS', 'HOWARD BEACH'): 2,\n",
       "         ('QUEENS', 'SOUTH RICHMOND HILL'): 4,\n",
       "         ('MANHATTAN', 'N/A'): 1,\n",
       "         ('QUEENS', 'ELMHURST'): 5,\n",
       "         ('BROOKLYN', 'NY'): 2,\n",
       "         ('QUEENS', 'LONG ISLAND CITY'): 3,\n",
       "         ('QUEENS', 'SOUTH OZONE PARK'): 2,\n",
       "         ('QUEENS', 'GLEN OAKS'): 1,\n",
       "         ('QUEENS', 'SAINT ALBANS'): 4,\n",
       "         ('QUEENS', 'ARVERNE'): 1,\n",
       "         ('QUEENS', 'SUNNYSIDE'): 3,\n",
       "         ('QUEENS', 'SPRINGFIELD GARDENS'): 1,\n",
       "         ('QUEENS', 'CAMBRIA HEIGHTS'): 1,\n",
       "         ('QUEENS', 'WHITESTONE'): 3,\n",
       "         ('MANHATTAN', 'BY'): 1})"
      ]
     },
     "execution_count": 6,
     "metadata": {},
     "output_type": "execute_result"
    }
   ],
   "source": [
    "# A more complex example that selects two columns, then removes rows\n",
    "# where 'borough' equals 'city' and the pronts frequency counts for\n",
    "# the different (borough, city) pairs in the remaining rows.\n",
    "\n",
    "from openclean.function.eval.base import Col\n",
    "\n",
    "ds.select('borough', 'city').filter(Col('borough') != Col('city')).distinct()"
   ]
  },
  {
   "cell_type": "code",
   "execution_count": 7,
   "metadata": {},
   "outputs": [
    {
     "name": "stdout",
     "output_type": "stream",
     "text": [
      "0 ['MANHATTAN', 'NEW YORK']\n",
      "1 ['QUEENS', 'FLUSHING']\n",
      "2 ['QUEENS', 'EAST ELMHURST']\n",
      "5 ['Unspecified', '']\n",
      "9 ['MANHATTAN', 'NEW YORK']\n",
      "11 ['MANHATTAN', 'NEW YORK']\n",
      "15 ['QUEENS', 'FLUSHING']\n",
      "18 ['QUEENS', 'QUEENS VILLAGE']\n",
      "19 ['MANHATTAN', 'NEW YORK']\n",
      "22 ['QUEENS', 'MASPETH']\n"
     ]
    }
   ],
   "source": [
    "# Iterate over the first ten rows in the filtered data stream.\n",
    "\n",
    "from openclean.function.eval.base import Col\n",
    "\n",
    "for rowid, row in ds.select('borough', 'city').filter(Col('borough') != Col('city')).limit(10).iterrows():\n",
    "    print('{} {}'.format(rowid, row))"
   ]
  },
  {
   "cell_type": "code",
   "execution_count": 8,
   "metadata": {},
   "outputs": [],
   "source": [
    "# Write names of neighborhoods in Queens to file (note that this does\n",
    "# not remove duplicates at this time).\n",
    "\n",
    "ds.select('borough', 'city').filter(Col('borough') == 'QUEENS').select('city').write('../data/queens.tsv')"
   ]
  },
  {
   "cell_type": "code",
   "execution_count": null,
   "metadata": {},
   "outputs": [],
   "source": []
  }
 ],
 "metadata": {
  "kernelspec": {
   "display_name": "Python 3",
   "language": "python",
   "name": "python3"
  },
  "language_info": {
   "codemirror_mode": {
    "name": "ipython",
    "version": 3
   },
   "file_extension": ".py",
   "mimetype": "text/x-python",
   "name": "python",
   "nbconvert_exporter": "python",
   "pygments_lexer": "ipython3",
   "version": "3.8.5"
  }
 },
 "nbformat": 4,
 "nbformat_minor": 4
}
