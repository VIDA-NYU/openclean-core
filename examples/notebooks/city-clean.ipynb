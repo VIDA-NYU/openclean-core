{
 "cells": [
  {
   "cell_type": "code",
   "execution_count": 1,
   "metadata": {},
   "outputs": [],
   "source": [
    "from openclean import dataset"
   ]
  },
  {
   "cell_type": "code",
   "execution_count": 2,
   "metadata": {},
   "outputs": [],
   "source": [
    "ds = dataset('./examples/data/DOB_Permit_Issuance.tsv')"
   ]
  },
  {
   "cell_type": "code",
   "execution_count": 3,
   "metadata": {},
   "outputs": [
    {
     "name": "stdout",
     "output_type": "stream",
     "text": [
      "owner_s_business_type\tborough\n",
      "CONDO/CO-OP\tMANHATTAN\n",
      "INDIVIDUAL\tQUEENS\n",
      "INDIVIDUAL\tQUEENS\n",
      "CONDO/CO-OP\tMANHATTAN\n",
      "CONDO/CO-OP\tMANHATTAN\n",
      "CORPORATION\tQUEENS\n",
      "INDIVIDUAL\tQUEENS\n",
      "INDIVIDUAL\tQUEENS\n",
      "CORPORATION\tMANHATTAN\n",
      "INDIVIDUAL\tSTATEN ISLAND\n"
     ]
    }
   ],
   "source": [
    "ds.select(['owner_s_business_type', 'borough']).head()"
   ]
  },
  {
   "cell_type": "code",
   "execution_count": 4,
   "metadata": {},
   "outputs": [],
   "source": [
    "values = ds.distinct(columns=['borough'], count=True)\n",
    "ds.values(Distinct(columns=['borough'], count=True))"
   ]
  },
  {
   "cell_type": "code",
   "execution_count": 5,
   "metadata": {},
   "outputs": [
    {
     "name": "stdout",
     "output_type": "stream",
     "text": [
      "MANHATTAN (count:426)\n",
      "QUEENS (count:197)\n",
      "STATEN ISLAND (count:37)\n",
      "BROOKLYN (count:255)\n",
      "BRONX (count:84)\n"
     ]
    }
   ],
   "source": [
    "values.show()"
   ]
  },
  {
   "cell_type": "code",
   "execution_count": 6,
   "metadata": {},
   "outputs": [
    {
     "name": "stdout",
     "output_type": "stream",
     "text": [
      "\n",
      "CLEAN\n",
      "-----\n",
      "INDIVIDUAL (count:124)\n",
      "CORPORATION (count:69)\n",
      "OTHER GOV'T AGENCY (count:8)\n",
      "PARTNERSHIP (count:57)\n",
      "CONDO/CO-OP (count:6)\n",
      "GOV - OTHER (count:10)\n",
      "HPD (count:1)\n",
      "NYCHA (count:1)\n",
      "NYCHA/HHC (count:1)\n",
      "DOE (count:1)\n",
      " (count:1)\n",
      "OTHER (count:1)\n",
      "DCAS (count:1)\n",
      "\n",
      "DIRTY\n",
      "-----\n",
      "CONDO/CO-OP (count:35)\n",
      "CORPORATION (count:218)\n",
      "INDIVIDUAL (count:179)\n",
      "GOV - OTHER (count:16)\n",
      "PARTNERSHIP (count:224)\n",
      "HHC (count:2)\n",
      "OTHER (count:12)\n",
      " (count:4)\n",
      "OTHER GOV'T AGENCY (count:7)\n",
      "NYCHA/HHC (count:8)\n",
      "DOE (count:1)\n",
      "NYCHA (count:7)\n",
      "HPD (count:1)\n",
      "NYC AGENCY (count:4)\n"
     ]
    }
   ],
   "source": [
    "from openclean.constraint.domain import DomainChecker\n",
    "from openclean.base.value import ValueSet\n",
    "\n",
    "clean, dirty = ds.split(DomainChecker('borough', ValueSet(values=['QUEENS', 'BRONX'])))\n",
    "print('\\nCLEAN\\n-----')\n",
    "clean.select(['owner_s_business_type']).distinct(count=True).show()\n",
    "print('\\nDIRTY\\n-----')\n",
    "dirty.select(['owner_s_business_type']).distinct(count=True).show()"
   ]
  },
  {
   "cell_type": "code",
   "execution_count": null,
   "metadata": {},
   "outputs": [],
   "source": []
  }
 ],
 "metadata": {
  "kernelspec": {
   "display_name": "Python 3",
   "language": "python",
   "name": "python3"
  },
  "language_info": {
   "codemirror_mode": {
    "name": "ipython",
    "version": 3
   },
   "file_extension": ".py",
   "mimetype": "text/x-python",
   "name": "python",
   "nbconvert_exporter": "python",
   "pygments_lexer": "ipython3",
   "version": "3.8.1"
  }
 },
 "nbformat": 4,
 "nbformat_minor": 4
}
