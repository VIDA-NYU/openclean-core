{
 "cells": [
  {
   "cell_type": "markdown",
   "metadata": {},
   "source": [
    "# Functional Dependency Violations\n",
    "\n",
    "Example showing how to detect functional dependency violations. Uses the **NYC Parking Violations Issued - Fiscal Year 2014** dataset to identify violations of the functional dependency `Meter Number -> Registration State, Street`."
   ]
  },
  {
   "cell_type": "code",
   "execution_count": 1,
   "metadata": {},
   "outputs": [
    {
     "name": "stdout",
     "output_type": "stream",
     "text": [
      "Downloading ...\n",
      "\n",
      "Parking Violations Issued - Fiscal Year 2014\n",
      "\n",
      "Parking Violations Issuance datasets contain violations issued during the respective fiscal year.  The Issuance datasets are not updated to reflect violation status, the information only represents the violation(s) at the time they are issued. Since appearing on an issuance dataset, a violation may have been paid, dismissed via a hearing, statutorily expired, or had other changes to its status. To see the current status of outstanding parking violations, please look at the Open Parking & Camera Violations dataset.</p>\r\n",
      "• Parking Violations Issued Fiscal Year 2020 can be found <a href=\"https://data.cityofnewyork.us/City-Government/Parking-Violations-Issued-Fiscal-Year-2020/pvqr-7yc4\">here</a>\r\n",
      "• Parking Violations Issued Fiscal Year 2019 can be found <a href=\"https://data.cityofnewyork.us/City-Government/Parking-Violations-Issued-Fiscal-Year-2019/faiq-9dfq\">here</a>\r\n",
      "• Parking Violations Issued Fiscal Year 2018 can be found <a href=\"https://data.cityofnewyork.us/City-Government/Parking-Violations-Issued-Fiscal-Year-2018/a5td-mswe\">here</a>\r\n",
      "• Parking Violations Issued Fiscal Year 2017 can be found <a href=\"https://data.cityofnewyork.us/City-Government/Parking-Violations-Issued-Fiscal-Year-2017/2bnn-yakx\">here</a>\r\n",
      "• Parking Violations Issued Fiscal Year 2016 can be found <a href=\"https://data.cityofnewyork.us/City-Government/Parking-Violations-Issued-Fiscal-Year-2016/kiv2-tbus\">here</a>\r\n",
      "• Parking Violations Issued Fiscal Year 2015 can be found <a href=\"https://data.cityofnewyork.us/City-Government/Parking-Violations-Issued-Fiscal-Year-2015/c284-tqph\">here</a>\r\n",
      "• Parking Violations Issued Fiscal Year 2014 can be found <a href=\"https://data.cityofnewyork.us/City-Government/Parking-Violations-Issued-Fiscal-Year-2014/jt7v-77mi\">here</a>\n"
     ]
    }
   ],
   "source": [
    "# Download the full 'DOB Job Application Fiings' dataset.\n",
    "\n",
    "import gzip\n",
    "\n",
    "from openclean.data.source.socrata import Socrata\n",
    "\n",
    "datafile = './jt7v-77mi.tsv.gz'\n",
    "\n",
    "with gzip.open(datafile, 'wb') as f:\n",
    "    ds = Socrata().dataset('jt7v-77mi')\n",
    "    print('Downloading ...\\n')\n",
    "    print(ds.name + '\\n')\n",
    "    print(ds.description)\n",
    "    ds.write(f)\n",
    "\n",
    "\n",
    "# As an alternative, you can also use the smaller dataset sample that is\n",
    "# included in the repository.\n",
    "#\n",
    "# datafile = './data/jt7v-77mi.tsv.gz'"
   ]
  },
  {
   "cell_type": "code",
   "execution_count": 2,
   "metadata": {},
   "outputs": [
    {
     "name": "stdout",
     "output_type": "stream",
     "text": [
      "Schema\n",
      "------\n",
      "  'Summons Number'\n",
      "  'Plate ID'\n",
      "  'Registration State'\n",
      "  'Plate Type'\n",
      "  'Issue Date'\n",
      "  'Violation Code'\n",
      "  'Vehicle Body Type'\n",
      "  'Vehicle Make'\n",
      "  'Issuing Agency'\n",
      "  'Street Code1'\n",
      "  'Street Code2'\n",
      "  'Street Code3'\n",
      "  'Vehicle Expiration Date'\n",
      "  'Violation Location'\n",
      "  'Violation Precinct'\n",
      "  'Issuer Precinct'\n",
      "  'Issuer Code'\n",
      "  'Issuer Command'\n",
      "  'Issuer Squad'\n",
      "  'Violation Time'\n",
      "  'Time First Observed'\n",
      "  'Violation County'\n",
      "  'Violation In Front Of Or Opposite'\n",
      "  'Number'\n",
      "  'Street'\n",
      "  'Intersecting Street'\n",
      "  'Date First Observed'\n",
      "  'Law Section'\n",
      "  'Sub Division'\n",
      "  'Violation Legal Code'\n",
      "  'Days Parking In Effect    '\n",
      "  'From Hours In Effect'\n",
      "  'To Hours In Effect'\n",
      "  'Vehicle Color'\n",
      "  'Unregistered Vehicle?'\n",
      "  'Vehicle Year'\n",
      "  'Meter Number'\n",
      "  'Feet From Curb'\n",
      "  'Violation Post Code'\n",
      "  'Violation Description'\n",
      "  'No Standing or Stopping Violation'\n",
      "  'Hydrant Violation'\n",
      "  'Double Parking Violation'\n",
      "\n",
      "9100278 rows.\n"
     ]
    }
   ],
   "source": [
    "# Verify that the download was successful. Print dataset columns and number of rows.\n",
    "# This example makes use of the streaming option to avoid loading the full data frame\n",
    "# into memory.\n",
    "\n",
    "from openclean.pipeline import stream\n",
    "\n",
    "df = stream(datafile)\n",
    "\n",
    "\n",
    "print('Schema\\n------')\n",
    "for col in df.columns:\n",
    "    print(\"  '{}'\".format(col))\n",
    "    \n",
    "print('\\n{} rows.'.format(df.count()))"
   ]
  },
  {
   "cell_type": "code",
   "execution_count": 3,
   "metadata": {},
   "outputs": [
    {
     "data": {
      "text/html": [
       "<div>\n",
       "<style scoped>\n",
       "    .dataframe tbody tr th:only-of-type {\n",
       "        vertical-align: middle;\n",
       "    }\n",
       "\n",
       "    .dataframe tbody tr th {\n",
       "        vertical-align: top;\n",
       "    }\n",
       "\n",
       "    .dataframe thead th {\n",
       "        text-align: right;\n",
       "    }\n",
       "</style>\n",
       "<table border=\"1\" class=\"dataframe\">\n",
       "  <thead>\n",
       "    <tr style=\"text-align: right;\">\n",
       "      <th></th>\n",
       "      <th>Plate ID</th>\n",
       "      <th>Registration State</th>\n",
       "      <th>Plate Type</th>\n",
       "      <th>Meter Number</th>\n",
       "      <th>Street</th>\n",
       "    </tr>\n",
       "  </thead>\n",
       "  <tbody>\n",
       "    <tr>\n",
       "      <th>661</th>\n",
       "      <td>FXY1858</td>\n",
       "      <td>NY</td>\n",
       "      <td>PAS</td>\n",
       "      <td>407-3018</td>\n",
       "      <td>QUEENS BLVD</td>\n",
       "    </tr>\n",
       "    <tr>\n",
       "      <th>780</th>\n",
       "      <td>89988JX</td>\n",
       "      <td>NY</td>\n",
       "      <td>COM</td>\n",
       "      <td>3  -</td>\n",
       "      <td>FRESH POND TRD</td>\n",
       "    </tr>\n",
       "    <tr>\n",
       "      <th>901</th>\n",
       "      <td>FGX2747</td>\n",
       "      <td>NY</td>\n",
       "      <td>PAS</td>\n",
       "      <td>504-3043</td>\n",
       "      <td></td>\n",
       "    </tr>\n",
       "    <tr>\n",
       "      <th>2287</th>\n",
       "      <td>23161JR</td>\n",
       "      <td>NY</td>\n",
       "      <td>COM</td>\n",
       "      <td>144-3942</td>\n",
       "      <td>WEST 42 STREET</td>\n",
       "    </tr>\n",
       "    <tr>\n",
       "      <th>2346</th>\n",
       "      <td>47153MC</td>\n",
       "      <td>NY</td>\n",
       "      <td>COM</td>\n",
       "      <td>144-3987</td>\n",
       "      <td>W 40TH ST</td>\n",
       "    </tr>\n",
       "  </tbody>\n",
       "</table>\n",
       "</div>"
      ],
      "text/plain": [
       "     Plate ID Registration State Plate Type Meter Number          Street\n",
       "661   FXY1858                 NY        PAS     407-3018     QUEENS BLVD\n",
       "780   89988JX                 NY        COM         3  -  FRESH POND TRD\n",
       "901   FGX2747                 NY        PAS     504-3043                \n",
       "2287  23161JR                 NY        COM     144-3942  WEST 42 STREET\n",
       "2346  47153MC                 NY        COM     144-3987       W 40TH ST"
      ]
     },
     "execution_count": 3,
     "metadata": {},
     "output_type": "execute_result"
    }
   ],
   "source": [
    "# Get the first 100 rows. Ignore rows where the meter number is undefined (i.e., either\n",
    "# an empty string or '-').\n",
    "\n",
    "from openclean.function.eval.domain import IsNotIn\n",
    "\n",
    "df = df\\\n",
    "    .select(['Plate ID', 'Registration State', 'Plate Type', 'Meter Number', 'Street'])\\\n",
    "    .where(IsNotIn('Meter Number', set({'-', ''})), limit=100)\\\n",
    "    .to_df()\n",
    "\n",
    "df.head()"
   ]
  },
  {
   "cell_type": "code",
   "execution_count": 4,
   "metadata": {},
   "outputs": [],
   "source": [
    "# Find violations of the functional dependency Meter Number -> Registration State, Street.\n",
    "\n",
    "from openclean.operator.map.violations import fd_violations\n",
    "\n",
    "groups = fd_violations(df, lhs='Meter Number', rhs=['Registration State', 'Street'])"
   ]
  },
  {
   "cell_type": "code",
   "execution_count": 5,
   "metadata": {},
   "outputs": [
    {
     "name": "stdout",
     "output_type": "stream",
     "text": [
      "144-3942 2\n",
      "144-3937 5\n",
      "143-3785 5\n",
      "144-6376 5\n",
      "144-3958 3\n",
      "144-3955 8\n",
      "144-6088 4\n",
      "144-6377 3\n",
      "143-5983 3\n",
      "140-5816 2\n",
      "105-8347 2\n"
     ]
    }
   ],
   "source": [
    "# List meter numbers that have violations and the number of\n",
    "# violating values.\n",
    "\n",
    "for key in groups:\n",
    "    print('{} {}'.format(key, groups.get(key).shape[0]))"
   ]
  },
  {
   "cell_type": "code",
   "execution_count": 6,
   "metadata": {},
   "outputs": [
    {
     "name": "stdout",
     "output_type": "stream",
     "text": [
      "Meter Number | Street (Count)\n",
      "=============|===============\n",
      "144-3942     | 1 x WEST 42 STREET\n",
      "             | 1 x WEST 42 ST\n",
      "-------------|---------------\n",
      "144-3937     | 3 x WEST 42 STREET\n",
      "             | 1 x WEST 42 ST\n",
      "             | 1 x W 42ND ST\n",
      "-------------|---------------\n",
      "143-3785     | 3 x WEST 43RD ST\n",
      "             | 1 x WEST 43 ST\n",
      "             | 1 x W 43RD ST\n",
      "-------------|---------------\n",
      "144-6376     | 3 x 8TH AVENUE\n",
      "             | 2 x 8TH AVE\n",
      "-------------|---------------\n",
      "144-3958     | 2 x WEST 41ST STREET\n",
      "             | 1 x 7TH AVENUE\n",
      "-------------|---------------\n",
      "144-3955     | 4 x W 41 ST\n",
      "             | 3 x W 41ST STREET\n",
      "             | 1 x TIMES SQUARE\n",
      "-------------|---------------\n",
      "144-6088     | 3 x WEST 36 STREET\n",
      "             | 1 x W 36TH ST\n",
      "-------------|---------------\n",
      "144-6377     | 1 x 35 ST\n",
      "             | 1 x W 35 ST\n",
      "             | 1 x 8TH AVENUE\n",
      "-------------|---------------\n",
      "143-5983     | 2 x W 43RD STREET\n",
      "             | 1 x WEST 43RD STREET\n",
      "-------------|---------------\n",
      "140-5816     | 1 x 8TH AVE\n",
      "             | 1 x WEST 45TH STREET\n",
      "-------------|---------------\n",
      "105-8347     | 1 x WEST 181 ST\n",
      "             | 1 x W 181 ST\n",
      "-------------|---------------\n"
     ]
    }
   ],
   "source": [
    "# Show street names that cause violations of the functional dependency.\n",
    "\n",
    "from openclean.operator.collector.count import distinct\n",
    "\n",
    "print('Meter Number | Street (Count)')\n",
    "print('=============|===============')\n",
    "for key in groups:\n",
    "    conflicts = distinct(groups.get(key), 'Street').most_common()\n",
    "    street, count = conflicts[0]\n",
    "    print('{:<12} | {} x {}'.format(key, count, street))\n",
    "    for street, count in conflicts[1:]:\n",
    "        print('             | {} x {}'.format(count, street))\n",
    "    print('-------------|---------------')"
   ]
  }
 ],
 "metadata": {
  "kernelspec": {
   "display_name": "Python 3",
   "language": "python",
   "name": "python3"
  },
  "language_info": {
   "codemirror_mode": {
    "name": "ipython",
    "version": 3
   },
   "file_extension": ".py",
   "mimetype": "text/x-python",
   "name": "python",
   "nbconvert_exporter": "python",
   "pygments_lexer": "ipython3",
   "version": "3.9.1"
  }
 },
 "nbformat": 4,
 "nbformat_minor": 4
}
