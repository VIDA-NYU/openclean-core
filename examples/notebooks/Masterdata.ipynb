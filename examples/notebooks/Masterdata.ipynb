{
 "cells": [
  {
   "cell_type": "markdown",
   "metadata": {},
   "source": [
    "# Masterdata\n",
    "\n",
    "**openclean** provides easy access to several different datasets that are available online for download. Below are a few examples."
   ]
  },
  {
   "cell_type": "code",
   "execution_count": 1,
   "metadata": {},
   "outputs": [
    {
     "name": "stdout",
     "output_type": "stream",
     "text": [
      "Encyclopaedia Britannica (britannica)\n",
      "\tUnited States Cities (us_cities)\n",
      "restcountries.eu (restcountries)\n",
      "\tCountries of the World (countries)\n",
      "Socrata Open Data API (socrata)\n",
      "\tPermitting Dashboard Full Dataset (mcm3-xbid)\n",
      "\tTime Dataset (pt25-zdgd)\n",
      "\tTest Socrata Push 2 (saxa-vwk9)\n",
      "\ttest 1 (k8qb-prdi)\n",
      "\tTest Socrata Push (i6cn-zc28)\n",
      "\tProject Full Dataset - Copy 1 (dx3v-2pvx)\n",
      "\tAccountability Scorecard Time to Complete Data (v38y-irda)\n",
      "\tProject Location Testing 1 (5xty-5v4b)\n",
      "\tCrimes (mjmi-qtn7)\n",
      "\tLicenses (m8b2-td2c)\n"
     ]
    }
   ],
   "source": [
    "# All datasets can be downloaded and accessed via a data repository.\n",
    "# Print the repository names and some example datasets.\n",
    "\n",
    "from openclean.data.source.registry import repositories\n",
    "\n",
    "for repo in repositories():\n",
    "    print('{} ({})'.format(repo.name, repo.identifier))\n",
    "    # The list of datasets for the Socrata Open Data API is very long.\n",
    "    # here we only print information about the first ten datasets.\n",
    "    count = 0;\n",
    "    for ds in repo.catalog():\n",
    "        print('\\t{} ({})'.format(ds.name, ds.identifier))\n",
    "        count += 1\n",
    "        if count == 10:\n",
    "            break"
   ]
  },
  {
   "cell_type": "markdown",
   "metadata": {},
   "source": [
    "## restcountries.eu\n",
    "\n",
    "Dataset of countries in the world that is available from the [restcountries.eu project](http://restcountries.eu/)."
   ]
  },
  {
   "cell_type": "code",
   "execution_count": 2,
   "metadata": {},
   "outputs": [],
   "source": [
    "# Download the countries dataset. By default, the downloaded data is stored\n",
    "# in the $HOME/.openclean/masterdata folder. Set the environment variable\n",
    "# 'OPENCLEAN_MASTERDATA_DIR' to change the default behaviour.\n",
    "\n",
    "import os\n",
    "\n",
    "from openclean.config import ENV_MASTERDATA_DIR\n",
    "\n",
    "os.environ[ENV_MASTERDATA_DIR] = './data'"
   ]
  },
  {
   "cell_type": "code",
   "execution_count": 3,
   "metadata": {
    "scrolled": false
   },
   "outputs": [
    {
     "name": "stdout",
     "output_type": "stream",
     "text": [
      "             name alpha2Code alpha3Code    capital   region        subregion\n",
      "0     Afghanistan         AF        AFG      Kabul     Asia    Southern Asia\n",
      "1   Åland Islands         AX        ALA  Mariehamn   Europe  Northern Europe\n",
      "2         Albania         AL        ALB     Tirana   Europe  Southern Europe\n",
      "3         Algeria         DZ        DZA    Algiers   Africa  Northern Africa\n",
      "4  American Samoa         AS        ASM  Pago Pago  Oceania        Polynesia\n"
     ]
    },
    {
     "data": {
      "text/plain": [
       "<Snapshot (version=0 description='' at=2021-01-11 16:07:13.119980-05:00)>"
      ]
     },
     "execution_count": 3,
     "metadata": {},
     "output_type": "execute_result"
    }
   ],
   "source": [
    "# Download the current listing of country names in the world.\n",
    "\n",
    "from openclean.data.source.restcountries import RestcountriesRepository, COUNTRIES\n",
    "\n",
    "import openclean.data.masterdata as masterdata\n",
    "\n",
    "countries = RestcountriesRepository().dataset(COUNTRIES).load()\n",
    "\n",
    "print(countries.head())\n",
    "\n",
    "archive = masterdata.create('restcountries', primary_key=['alpha3Code'], replace=True)\n",
    "archive.commit(countries)"
   ]
  },
  {
   "cell_type": "code",
   "execution_count": 4,
   "metadata": {},
   "outputs": [
    {
     "data": {
      "text/html": [
       "<div>\n",
       "<style scoped>\n",
       "    .dataframe tbody tr th:only-of-type {\n",
       "        vertical-align: middle;\n",
       "    }\n",
       "\n",
       "    .dataframe tbody tr th {\n",
       "        vertical-align: top;\n",
       "    }\n",
       "\n",
       "    .dataframe thead th {\n",
       "        text-align: right;\n",
       "    }\n",
       "</style>\n",
       "<table border=\"1\" class=\"dataframe\">\n",
       "  <thead>\n",
       "    <tr style=\"text-align: right;\">\n",
       "      <th></th>\n",
       "      <th>name</th>\n",
       "      <th>alpha2Code</th>\n",
       "      <th>alpha3Code</th>\n",
       "      <th>capital</th>\n",
       "      <th>region</th>\n",
       "      <th>subregion</th>\n",
       "    </tr>\n",
       "  </thead>\n",
       "  <tbody>\n",
       "    <tr>\n",
       "      <th>243</th>\n",
       "      <td>Venezuela (Bolivarian Republic of)</td>\n",
       "      <td>VE</td>\n",
       "      <td>VEN</td>\n",
       "      <td>Caracas</td>\n",
       "      <td>Americas</td>\n",
       "      <td>South America</td>\n",
       "    </tr>\n",
       "  </tbody>\n",
       "</table>\n",
       "</div>"
      ],
      "text/plain": [
       "                                   name alpha2Code alpha3Code  capital  \\\n",
       "243  Venezuela (Bolivarian Republic of)         VE        VEN  Caracas   \n",
       "\n",
       "       region      subregion  \n",
       "243  Americas  South America  "
      ]
     },
     "execution_count": 4,
     "metadata": {},
     "output_type": "execute_result"
    }
   ],
   "source": [
    "countries.loc[countries['name'] == 'Venezuela (Bolivarian Republic of)']"
   ]
  },
  {
   "cell_type": "markdown",
   "metadata": {},
   "source": [
    "### Modified Mastedata Copies\n",
    "\n",
    "The user has the option to modify the downloaded data and store the updated dataset version in the local repository."
   ]
  },
  {
   "cell_type": "code",
   "execution_count": 5,
   "metadata": {},
   "outputs": [
    {
     "data": {
      "text/html": [
       "<div>\n",
       "<style scoped>\n",
       "    .dataframe tbody tr th:only-of-type {\n",
       "        vertical-align: middle;\n",
       "    }\n",
       "\n",
       "    .dataframe tbody tr th {\n",
       "        vertical-align: top;\n",
       "    }\n",
       "\n",
       "    .dataframe thead th {\n",
       "        text-align: right;\n",
       "    }\n",
       "</style>\n",
       "<table border=\"1\" class=\"dataframe\">\n",
       "  <thead>\n",
       "    <tr style=\"text-align: right;\">\n",
       "      <th></th>\n",
       "      <th>name</th>\n",
       "      <th>alpha2Code</th>\n",
       "      <th>alpha3Code</th>\n",
       "      <th>capital</th>\n",
       "      <th>region</th>\n",
       "      <th>subregion</th>\n",
       "    </tr>\n",
       "  </thead>\n",
       "  <tbody>\n",
       "    <tr>\n",
       "      <th>243</th>\n",
       "      <td>Venezuela</td>\n",
       "      <td>VE</td>\n",
       "      <td>VEN</td>\n",
       "      <td>Caracas</td>\n",
       "      <td>Americas</td>\n",
       "      <td>South America</td>\n",
       "    </tr>\n",
       "  </tbody>\n",
       "</table>\n",
       "</div>"
      ],
      "text/plain": [
       "          name alpha2Code alpha3Code  capital    region      subregion\n",
       "243  Venezuela         VE        VEN  Caracas  Americas  South America"
      ]
     },
     "execution_count": 5,
     "metadata": {},
     "output_type": "execute_result"
    }
   ],
   "source": [
    "from openclean.operator.transform.update import update\n",
    "\n",
    "# Rename 'Venezuela (Bolivarian Republic of)' to 'Venezuela'\n",
    "countries = update(countries, 'name', {'Venezuela (Bolivarian Republic of)': 'Venezuela'})\n",
    "countries.loc[countries['name'] == 'Venezuela']"
   ]
  },
  {
   "cell_type": "code",
   "execution_count": 6,
   "metadata": {},
   "outputs": [
    {
     "data": {
      "text/html": [
       "<div>\n",
       "<style scoped>\n",
       "    .dataframe tbody tr th:only-of-type {\n",
       "        vertical-align: middle;\n",
       "    }\n",
       "\n",
       "    .dataframe tbody tr th {\n",
       "        vertical-align: top;\n",
       "    }\n",
       "\n",
       "    .dataframe thead th {\n",
       "        text-align: right;\n",
       "    }\n",
       "</style>\n",
       "<table border=\"1\" class=\"dataframe\">\n",
       "  <thead>\n",
       "    <tr style=\"text-align: right;\">\n",
       "      <th></th>\n",
       "      <th>name</th>\n",
       "      <th>alpha2Code</th>\n",
       "      <th>alpha3Code</th>\n",
       "      <th>capital</th>\n",
       "      <th>region</th>\n",
       "      <th>subregion</th>\n",
       "    </tr>\n",
       "  </thead>\n",
       "  <tbody>\n",
       "    <tr>\n",
       "      <th>0</th>\n",
       "      <td>Afghanistan</td>\n",
       "      <td>AF</td>\n",
       "      <td>AFG</td>\n",
       "      <td>Kabul</td>\n",
       "      <td>Asia</td>\n",
       "      <td>Southern Asia</td>\n",
       "    </tr>\n",
       "    <tr>\n",
       "      <th>1</th>\n",
       "      <td>Åland Islands</td>\n",
       "      <td>AX</td>\n",
       "      <td>ALA</td>\n",
       "      <td>Mariehamn</td>\n",
       "      <td>Europe</td>\n",
       "      <td>Northern Europe</td>\n",
       "    </tr>\n",
       "    <tr>\n",
       "      <th>2</th>\n",
       "      <td>Albania</td>\n",
       "      <td>AL</td>\n",
       "      <td>ALB</td>\n",
       "      <td>Tirana</td>\n",
       "      <td>Europe</td>\n",
       "      <td>Southern Europe</td>\n",
       "    </tr>\n",
       "    <tr>\n",
       "      <th>3</th>\n",
       "      <td>Algeria</td>\n",
       "      <td>DZ</td>\n",
       "      <td>DZA</td>\n",
       "      <td>Algiers</td>\n",
       "      <td>Africa</td>\n",
       "      <td>Northern Africa</td>\n",
       "    </tr>\n",
       "    <tr>\n",
       "      <th>4</th>\n",
       "      <td>American Samoa</td>\n",
       "      <td>AS</td>\n",
       "      <td>ASM</td>\n",
       "      <td>Pago Pago</td>\n",
       "      <td>Oceania</td>\n",
       "      <td>Polynesia</td>\n",
       "    </tr>\n",
       "  </tbody>\n",
       "</table>\n",
       "</div>"
      ],
      "text/plain": [
       "             name alpha2Code alpha3Code    capital   region        subregion\n",
       "0     Afghanistan         AF        AFG      Kabul     Asia    Southern Asia\n",
       "1   Åland Islands         AX        ALA  Mariehamn   Europe  Northern Europe\n",
       "2         Albania         AL        ALB     Tirana   Europe  Southern Europe\n",
       "3         Algeria         DZ        DZA    Algiers   Africa  Northern Africa\n",
       "4  American Samoa         AS        ASM  Pago Pago  Oceania        Polynesia"
      ]
     },
     "execution_count": 6,
     "metadata": {},
     "output_type": "execute_result"
    }
   ],
   "source": [
    "countries.head()"
   ]
  },
  {
   "cell_type": "code",
   "execution_count": 7,
   "metadata": {},
   "outputs": [
    {
     "data": {
      "text/plain": [
       "<Snapshot (version=1 description='' at=2021-01-11 16:07:13.335825-05:00)>"
      ]
     },
     "execution_count": 7,
     "metadata": {},
     "output_type": "execute_result"
    }
   ],
   "source": [
    "archive = masterdata.get('restcountries')\n",
    "archive.commit(countries)"
   ]
  },
  {
   "cell_type": "code",
   "execution_count": 8,
   "metadata": {},
   "outputs": [
    {
     "data": {
      "text/html": [
       "<div>\n",
       "<style scoped>\n",
       "    .dataframe tbody tr th:only-of-type {\n",
       "        vertical-align: middle;\n",
       "    }\n",
       "\n",
       "    .dataframe tbody tr th {\n",
       "        vertical-align: top;\n",
       "    }\n",
       "\n",
       "    .dataframe thead th {\n",
       "        text-align: right;\n",
       "    }\n",
       "</style>\n",
       "<table border=\"1\" class=\"dataframe\">\n",
       "  <thead>\n",
       "    <tr style=\"text-align: right;\">\n",
       "      <th></th>\n",
       "      <th>name</th>\n",
       "      <th>alpha2Code</th>\n",
       "      <th>alpha3Code</th>\n",
       "      <th>capital</th>\n",
       "      <th>region</th>\n",
       "      <th>subregion</th>\n",
       "    </tr>\n",
       "  </thead>\n",
       "  <tbody>\n",
       "    <tr>\n",
       "      <th>239</th>\n",
       "      <td>Venezuela</td>\n",
       "      <td>VE</td>\n",
       "      <td>VEN</td>\n",
       "      <td>Caracas</td>\n",
       "      <td>Americas</td>\n",
       "      <td>South America</td>\n",
       "    </tr>\n",
       "  </tbody>\n",
       "</table>\n",
       "</div>"
      ],
      "text/plain": [
       "          name alpha2Code alpha3Code  capital    region      subregion\n",
       "239  Venezuela         VE        VEN  Caracas  Americas  South America"
      ]
     },
     "execution_count": 8,
     "metadata": {},
     "output_type": "execute_result"
    }
   ],
   "source": [
    "countries = masterdata.get('restcountries').checkout()\n",
    "countries.loc[countries['name'] == 'Venezuela']"
   ]
  },
  {
   "cell_type": "code",
   "execution_count": 9,
   "metadata": {},
   "outputs": [
    {
     "name": "stdout",
     "output_type": "stream",
     "text": [
      "<Snapshot (version=0 description='' at=2021-01-11 16:07:13.119980-05:00)>\n",
      "<Snapshot (version=1 description='' at=2021-01-11 16:07:13.335825-05:00)>\n"
     ]
    }
   ],
   "source": [
    "snapshots = masterdata.get('restcountries').snapshots()\n",
    "for s in snapshots:\n",
    "    print(s)"
   ]
  },
  {
   "cell_type": "code",
   "execution_count": 10,
   "metadata": {},
   "outputs": [
    {
     "name": "stdout",
     "output_type": "stream",
     "text": [
      "Schema Changes\n",
      "==============\n",
      "Inserted Columns : 0\n",
      "Deleted Columns  : 0\n",
      "Moved Columns    : 0\n",
      "Renamed Columns  : 0\n",
      "\n",
      "Data Changes\n",
      "============\n",
      "Inserted Rows    : 0\n",
      "Deleted Rows     : 0\n",
      "Moved Rows       : 0\n",
      "Updated Rows     : 1\n",
      "Updated Values   : 1\n"
     ]
    }
   ],
   "source": [
    "prov = masterdata.get('restcountries').diff(0, 1)\n",
    "prov.describe()"
   ]
  },
  {
   "cell_type": "code",
   "execution_count": 11,
   "metadata": {},
   "outputs": [
    {
     "name": "stdout",
     "output_type": "stream",
     "text": [
      "Country name updated from 'Venezuela (Bolivarian Republic of)' to 'Venezuela'\n"
     ]
    }
   ],
   "source": [
    "row = prov.rows().update()[0]\n",
    "old_val, new_val = row.cells[0].values()\n",
    "\n",
    "print(\"Country name updated from '{}' to '{}'\".format(old_val, new_val))"
   ]
  },
  {
   "cell_type": "markdown",
   "metadata": {},
   "source": [
    "## Encyclopaedia Britannica\n",
    "\n",
    "Datasets that are extracted from Web pages of the Encyclopaedia Britannica."
   ]
  },
  {
   "cell_type": "code",
   "execution_count": 12,
   "metadata": {},
   "outputs": [
    {
     "data": {
      "text/html": [
       "<div>\n",
       "<style scoped>\n",
       "    .dataframe tbody tr th:only-of-type {\n",
       "        vertical-align: middle;\n",
       "    }\n",
       "\n",
       "    .dataframe tbody tr th {\n",
       "        vertical-align: top;\n",
       "    }\n",
       "\n",
       "    .dataframe thead th {\n",
       "        text-align: right;\n",
       "    }\n",
       "</style>\n",
       "<table border=\"1\" class=\"dataframe\">\n",
       "  <thead>\n",
       "    <tr style=\"text-align: right;\">\n",
       "      <th></th>\n",
       "      <th>city</th>\n",
       "      <th>state</th>\n",
       "    </tr>\n",
       "  </thead>\n",
       "  <tbody>\n",
       "    <tr>\n",
       "      <th>0</th>\n",
       "      <td>Birmingham</td>\n",
       "      <td>Alabama</td>\n",
       "    </tr>\n",
       "    <tr>\n",
       "      <th>1</th>\n",
       "      <td>Bessemer</td>\n",
       "      <td>Alabama</td>\n",
       "    </tr>\n",
       "    <tr>\n",
       "      <th>2</th>\n",
       "      <td>Scottsboro</td>\n",
       "      <td>Alabama</td>\n",
       "    </tr>\n",
       "    <tr>\n",
       "      <th>3</th>\n",
       "      <td>Florence</td>\n",
       "      <td>Alabama</td>\n",
       "    </tr>\n",
       "    <tr>\n",
       "      <th>4</th>\n",
       "      <td>Athens</td>\n",
       "      <td>Alabama</td>\n",
       "    </tr>\n",
       "  </tbody>\n",
       "</table>\n",
       "</div>"
      ],
      "text/plain": [
       "         city    state\n",
       "0  Birmingham  Alabama\n",
       "1    Bessemer  Alabama\n",
       "2  Scottsboro  Alabama\n",
       "3    Florence  Alabama\n",
       "4      Athens  Alabama"
      ]
     },
     "execution_count": 12,
     "metadata": {},
     "output_type": "execute_result"
    }
   ],
   "source": [
    "# Download dataset with US city names.\n",
    "\n",
    "from openclean.data.source.britannica import EncyclopaediaBritannica, US_CITIES\n",
    "\n",
    "us_cities = EncyclopaediaBritannica().dataset(US_CITIES).load()\n",
    "us_cities.head()"
   ]
  }
 ],
 "metadata": {
  "kernelspec": {
   "display_name": "Python 3",
   "language": "python",
   "name": "python3"
  },
  "language_info": {
   "codemirror_mode": {
    "name": "ipython",
    "version": 3
   },
   "file_extension": ".py",
   "mimetype": "text/x-python",
   "name": "python",
   "nbconvert_exporter": "python",
   "pygments_lexer": "ipython3",
   "version": "3.8.5"
  }
 },
 "nbformat": 4,
 "nbformat_minor": 4
}
