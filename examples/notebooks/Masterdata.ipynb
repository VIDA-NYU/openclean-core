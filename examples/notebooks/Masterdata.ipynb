{
 "cells": [
  {
   "cell_type": "markdown",
   "metadata": {},
   "source": [
    "# Masterdata from Reference Datasets\n",
    "\n",
    "**openclean** integrates the [refdata package](https://github.com/VIDA-NYU/reference-data-repository) to provides easy access to several different reference datasets that are available online for download. Reference datasets are for example a great source for lookup tables and mappings that are used in data cleaning for outlier detection and data standardization."
   ]
  },
  {
   "cell_type": "code",
   "execution_count": 1,
   "metadata": {},
   "outputs": [],
   "source": [
    "# Setup the environment for this demo. All files will be\n",
    "# stored in a subfolder data.\n",
    "\n",
    "import os\n",
    "\n",
    "from openclean.config import ENV_MASTERDATA_DIR\n",
    "from refdata.config import ENV_BASEDIR\n",
    "\n",
    "os.environ[ENV_MASTERDATA_DIR] = './data/archives'\n",
    "os.environ[ENV_BASEDIR] = './data/refdata'"
   ]
  },
  {
   "cell_type": "code",
   "execution_count": 2,
   "metadata": {},
   "outputs": [],
   "source": [
    "# Import the amasterdata and reference data modules.\n",
    "\n",
    "import openclean.data.archive as masterdata\n",
    "import openclean.data.refdata as refdata"
   ]
  },
  {
   "cell_type": "code",
   "execution_count": 3,
   "metadata": {},
   "outputs": [
    {
     "name": "stdout",
     "output_type": "stream",
     "text": [
      "Cities in the U.S. (encyclopaedia_britannica:us_cities)\n",
      "REST Countries (restcountries.eu)\n",
      "C1 Street Suffix Abbreviations (usps:street_abbrev)\n",
      "C2 Secondary Unit Designators (usps:secondary_unit_designators)\n"
     ]
    }
   ],
   "source": [
    "# Print a listing for all dataset in the default\n",
    "# reference data repository.\n",
    "\n",
    "for dataset in refdata.repository():\n",
    "    print('{} ({})'.format(dataset.name, dataset.identifier))"
   ]
  },
  {
   "cell_type": "markdown",
   "metadata": {},
   "source": [
    "## restcountries.eu\n",
    "\n",
    "Dataset of countries in the world that is available from the [restcountries.eu project](http://restcountries.eu/)."
   ]
  },
  {
   "cell_type": "code",
   "execution_count": 4,
   "metadata": {},
   "outputs": [],
   "source": [
    "# Download the countries dataset.\n",
    "\n",
    "refdata.download('restcountries.eu')"
   ]
  },
  {
   "cell_type": "code",
   "execution_count": 5,
   "metadata": {
    "scrolled": false
   },
   "outputs": [
    {
     "name": "stdout",
     "output_type": "stream",
     "text": [
      "             name alpha2Code alpha3Code    capital   region        subregion\n",
      "0     Afghanistan         AF        AFG      Kabul     Asia    Southern Asia\n",
      "1   Åland Islands         AX        ALA  Mariehamn   Europe  Northern Europe\n",
      "2         Albania         AL        ALB     Tirana   Europe  Southern Europe\n",
      "3         Algeria         DZ        DZA    Algiers   Africa  Northern Africa\n",
      "4  American Samoa         AS        ASM  Pago Pago  Oceania        Polynesia\n"
     ]
    }
   ],
   "source": [
    "# Print the first rows in the countries dataset.\n",
    "\n",
    "countries = refdata.load('restcountries.eu').df()\n",
    "\n",
    "print(countries.head())"
   ]
  },
  {
   "cell_type": "code",
   "execution_count": 6,
   "metadata": {},
   "outputs": [
    {
     "data": {
      "text/html": [
       "<div>\n",
       "<style scoped>\n",
       "    .dataframe tbody tr th:only-of-type {\n",
       "        vertical-align: middle;\n",
       "    }\n",
       "\n",
       "    .dataframe tbody tr th {\n",
       "        vertical-align: top;\n",
       "    }\n",
       "\n",
       "    .dataframe thead th {\n",
       "        text-align: right;\n",
       "    }\n",
       "</style>\n",
       "<table border=\"1\" class=\"dataframe\">\n",
       "  <thead>\n",
       "    <tr style=\"text-align: right;\">\n",
       "      <th></th>\n",
       "      <th>name</th>\n",
       "      <th>alpha2Code</th>\n",
       "      <th>alpha3Code</th>\n",
       "      <th>capital</th>\n",
       "      <th>region</th>\n",
       "      <th>subregion</th>\n",
       "    </tr>\n",
       "  </thead>\n",
       "  <tbody>\n",
       "    <tr>\n",
       "      <th>243</th>\n",
       "      <td>Venezuela (Bolivarian Republic of)</td>\n",
       "      <td>VE</td>\n",
       "      <td>VEN</td>\n",
       "      <td>Caracas</td>\n",
       "      <td>Americas</td>\n",
       "      <td>South America</td>\n",
       "    </tr>\n",
       "  </tbody>\n",
       "</table>\n",
       "</div>"
      ],
      "text/plain": [
       "                                   name alpha2Code alpha3Code  capital  \\\n",
       "243  Venezuela (Bolivarian Republic of)         VE        VEN  Caracas   \n",
       "\n",
       "       region      subregion  \n",
       "243  Americas  South America  "
      ]
     },
     "execution_count": 6,
     "metadata": {},
     "output_type": "execute_result"
    }
   ],
   "source": [
    "# Print entry for 'Venezuela'\n",
    "\n",
    "countries.loc[countries['name'] == 'Venezuela (Bolivarian Republic of)']"
   ]
  },
  {
   "cell_type": "markdown",
   "metadata": {},
   "source": [
    "### Modified Mastedata Copies\n",
    "\n",
    "The user has the option to modify the downloaded data and store the updated dataset version in the local masterdata repository."
   ]
  },
  {
   "cell_type": "code",
   "execution_count": 7,
   "metadata": {},
   "outputs": [
    {
     "data": {
      "text/plain": [
       "<Snapshot (version=0 description='' at=2021-02-16 17:28:18.211195-05:00)>"
      ]
     },
     "execution_count": 7,
     "metadata": {},
     "output_type": "execute_result"
    }
   ],
   "source": [
    "# Create a local masterdata archive for the countries dataset.\n",
    "\n",
    "archive = masterdata.create('restcountries', primary_key=['alpha3Code'], replace=True)\n",
    "archive.commit(countries)"
   ]
  },
  {
   "cell_type": "code",
   "execution_count": 8,
   "metadata": {},
   "outputs": [
    {
     "data": {
      "text/html": [
       "<div>\n",
       "<style scoped>\n",
       "    .dataframe tbody tr th:only-of-type {\n",
       "        vertical-align: middle;\n",
       "    }\n",
       "\n",
       "    .dataframe tbody tr th {\n",
       "        vertical-align: top;\n",
       "    }\n",
       "\n",
       "    .dataframe thead th {\n",
       "        text-align: right;\n",
       "    }\n",
       "</style>\n",
       "<table border=\"1\" class=\"dataframe\">\n",
       "  <thead>\n",
       "    <tr style=\"text-align: right;\">\n",
       "      <th></th>\n",
       "      <th>name</th>\n",
       "      <th>alpha2Code</th>\n",
       "      <th>alpha3Code</th>\n",
       "      <th>capital</th>\n",
       "      <th>region</th>\n",
       "      <th>subregion</th>\n",
       "    </tr>\n",
       "  </thead>\n",
       "  <tbody>\n",
       "    <tr>\n",
       "      <th>243</th>\n",
       "      <td>Venezuela</td>\n",
       "      <td>VE</td>\n",
       "      <td>VEN</td>\n",
       "      <td>Caracas</td>\n",
       "      <td>Americas</td>\n",
       "      <td>South America</td>\n",
       "    </tr>\n",
       "  </tbody>\n",
       "</table>\n",
       "</div>"
      ],
      "text/plain": [
       "          name alpha2Code alpha3Code  capital    region      subregion\n",
       "243  Venezuela         VE        VEN  Caracas  Americas  South America"
      ]
     },
     "execution_count": 8,
     "metadata": {},
     "output_type": "execute_result"
    }
   ],
   "source": [
    "# Rename 'Venezuela (Bolivarian Republic of)' to 'Venezuela'.\n",
    "\n",
    "from openclean.operator.transform.update import update\n",
    "\n",
    "countries = update(countries, 'name', {'Venezuela (Bolivarian Republic of)': 'Venezuela'})\n",
    "countries.loc[countries['name'] == 'Venezuela']"
   ]
  },
  {
   "cell_type": "code",
   "execution_count": 9,
   "metadata": {},
   "outputs": [
    {
     "data": {
      "text/html": [
       "<div>\n",
       "<style scoped>\n",
       "    .dataframe tbody tr th:only-of-type {\n",
       "        vertical-align: middle;\n",
       "    }\n",
       "\n",
       "    .dataframe tbody tr th {\n",
       "        vertical-align: top;\n",
       "    }\n",
       "\n",
       "    .dataframe thead th {\n",
       "        text-align: right;\n",
       "    }\n",
       "</style>\n",
       "<table border=\"1\" class=\"dataframe\">\n",
       "  <thead>\n",
       "    <tr style=\"text-align: right;\">\n",
       "      <th></th>\n",
       "      <th>name</th>\n",
       "      <th>alpha2Code</th>\n",
       "      <th>alpha3Code</th>\n",
       "      <th>capital</th>\n",
       "      <th>region</th>\n",
       "      <th>subregion</th>\n",
       "    </tr>\n",
       "  </thead>\n",
       "  <tbody>\n",
       "    <tr>\n",
       "      <th>0</th>\n",
       "      <td>Afghanistan</td>\n",
       "      <td>AF</td>\n",
       "      <td>AFG</td>\n",
       "      <td>Kabul</td>\n",
       "      <td>Asia</td>\n",
       "      <td>Southern Asia</td>\n",
       "    </tr>\n",
       "    <tr>\n",
       "      <th>1</th>\n",
       "      <td>Åland Islands</td>\n",
       "      <td>AX</td>\n",
       "      <td>ALA</td>\n",
       "      <td>Mariehamn</td>\n",
       "      <td>Europe</td>\n",
       "      <td>Northern Europe</td>\n",
       "    </tr>\n",
       "    <tr>\n",
       "      <th>2</th>\n",
       "      <td>Albania</td>\n",
       "      <td>AL</td>\n",
       "      <td>ALB</td>\n",
       "      <td>Tirana</td>\n",
       "      <td>Europe</td>\n",
       "      <td>Southern Europe</td>\n",
       "    </tr>\n",
       "    <tr>\n",
       "      <th>3</th>\n",
       "      <td>Algeria</td>\n",
       "      <td>DZ</td>\n",
       "      <td>DZA</td>\n",
       "      <td>Algiers</td>\n",
       "      <td>Africa</td>\n",
       "      <td>Northern Africa</td>\n",
       "    </tr>\n",
       "    <tr>\n",
       "      <th>4</th>\n",
       "      <td>American Samoa</td>\n",
       "      <td>AS</td>\n",
       "      <td>ASM</td>\n",
       "      <td>Pago Pago</td>\n",
       "      <td>Oceania</td>\n",
       "      <td>Polynesia</td>\n",
       "    </tr>\n",
       "  </tbody>\n",
       "</table>\n",
       "</div>"
      ],
      "text/plain": [
       "             name alpha2Code alpha3Code    capital   region        subregion\n",
       "0     Afghanistan         AF        AFG      Kabul     Asia    Southern Asia\n",
       "1   Åland Islands         AX        ALA  Mariehamn   Europe  Northern Europe\n",
       "2         Albania         AL        ALB     Tirana   Europe  Southern Europe\n",
       "3         Algeria         DZ        DZA    Algiers   Africa  Northern Africa\n",
       "4  American Samoa         AS        ASM  Pago Pago  Oceania        Polynesia"
      ]
     },
     "execution_count": 9,
     "metadata": {},
     "output_type": "execute_result"
    }
   ],
   "source": [
    "countries.head()"
   ]
  },
  {
   "cell_type": "code",
   "execution_count": 10,
   "metadata": {},
   "outputs": [
    {
     "data": {
      "text/plain": [
       "<Snapshot (version=1 description='' at=2021-02-16 17:28:18.359359-05:00)>"
      ]
     },
     "execution_count": 10,
     "metadata": {},
     "output_type": "execute_result"
    }
   ],
   "source": [
    "# Store the modified dataset as a new snapshot in the masterdata\n",
    "# archive.\n",
    "\n",
    "archive = masterdata.get('restcountries')\n",
    "archive.commit(countries)"
   ]
  },
  {
   "cell_type": "code",
   "execution_count": 11,
   "metadata": {},
   "outputs": [
    {
     "data": {
      "text/html": [
       "<div>\n",
       "<style scoped>\n",
       "    .dataframe tbody tr th:only-of-type {\n",
       "        vertical-align: middle;\n",
       "    }\n",
       "\n",
       "    .dataframe tbody tr th {\n",
       "        vertical-align: top;\n",
       "    }\n",
       "\n",
       "    .dataframe thead th {\n",
       "        text-align: right;\n",
       "    }\n",
       "</style>\n",
       "<table border=\"1\" class=\"dataframe\">\n",
       "  <thead>\n",
       "    <tr style=\"text-align: right;\">\n",
       "      <th></th>\n",
       "      <th>name</th>\n",
       "      <th>alpha2Code</th>\n",
       "      <th>alpha3Code</th>\n",
       "      <th>capital</th>\n",
       "      <th>region</th>\n",
       "      <th>subregion</th>\n",
       "    </tr>\n",
       "  </thead>\n",
       "  <tbody>\n",
       "    <tr>\n",
       "      <th>239</th>\n",
       "      <td>Venezuela</td>\n",
       "      <td>VE</td>\n",
       "      <td>VEN</td>\n",
       "      <td>Caracas</td>\n",
       "      <td>Americas</td>\n",
       "      <td>South America</td>\n",
       "    </tr>\n",
       "  </tbody>\n",
       "</table>\n",
       "</div>"
      ],
      "text/plain": [
       "          name alpha2Code alpha3Code  capital    region      subregion\n",
       "239  Venezuela         VE        VEN  Caracas  Americas  South America"
      ]
     },
     "execution_count": 11,
     "metadata": {},
     "output_type": "execute_result"
    }
   ],
   "source": [
    "countries = masterdata.get('restcountries').checkout()\n",
    "countries.loc[countries['name'] == 'Venezuela']"
   ]
  },
  {
   "cell_type": "code",
   "execution_count": 12,
   "metadata": {},
   "outputs": [
    {
     "name": "stdout",
     "output_type": "stream",
     "text": [
      "<Snapshot (version=0 description='' at=2021-02-16 17:28:18.211195-05:00)>\n",
      "<Snapshot (version=1 description='' at=2021-02-16 17:28:18.359359-05:00)>\n"
     ]
    }
   ],
   "source": [
    "snapshots = masterdata.get('restcountries').snapshots()\n",
    "for s in snapshots:\n",
    "    print(s)"
   ]
  },
  {
   "cell_type": "code",
   "execution_count": 13,
   "metadata": {},
   "outputs": [
    {
     "name": "stdout",
     "output_type": "stream",
     "text": [
      "Schema Changes\n",
      "==============\n",
      "Inserted Columns : 0\n",
      "Deleted Columns  : 0\n",
      "Moved Columns    : 0\n",
      "Renamed Columns  : 0\n",
      "\n",
      "Data Changes\n",
      "============\n",
      "Inserted Rows    : 0\n",
      "Deleted Rows     : 0\n",
      "Moved Rows       : 0\n",
      "Updated Rows     : 1\n",
      "Updated Values   : 1\n"
     ]
    }
   ],
   "source": [
    "prov = masterdata.get('restcountries').diff(0, 1)\n",
    "prov.describe()"
   ]
  },
  {
   "cell_type": "code",
   "execution_count": 14,
   "metadata": {},
   "outputs": [
    {
     "name": "stdout",
     "output_type": "stream",
     "text": [
      "Country name updated from 'Venezuela (Bolivarian Republic of)' to 'Venezuela'\n"
     ]
    }
   ],
   "source": [
    "row = prov.rows().update()[0]\n",
    "old_val, new_val = row.cells[0].values()\n",
    "\n",
    "print(\"Country name updated from '{}' to '{}'\".format(old_val, new_val))"
   ]
  },
  {
   "cell_type": "markdown",
   "metadata": {},
   "source": [
    "## Encyclopaedia Britannica\n",
    "\n",
    "Datasets that are extracted from Web pages of the Encyclopaedia Britannica."
   ]
  },
  {
   "cell_type": "code",
   "execution_count": 15,
   "metadata": {},
   "outputs": [
    {
     "data": {
      "text/html": [
       "<div>\n",
       "<style scoped>\n",
       "    .dataframe tbody tr th:only-of-type {\n",
       "        vertical-align: middle;\n",
       "    }\n",
       "\n",
       "    .dataframe tbody tr th {\n",
       "        vertical-align: top;\n",
       "    }\n",
       "\n",
       "    .dataframe thead th {\n",
       "        text-align: right;\n",
       "    }\n",
       "</style>\n",
       "<table border=\"1\" class=\"dataframe\">\n",
       "  <thead>\n",
       "    <tr style=\"text-align: right;\">\n",
       "      <th></th>\n",
       "      <th>city</th>\n",
       "      <th>state</th>\n",
       "    </tr>\n",
       "  </thead>\n",
       "  <tbody>\n",
       "    <tr>\n",
       "      <th>0</th>\n",
       "      <td>Demopolis</td>\n",
       "      <td>Alabama</td>\n",
       "    </tr>\n",
       "    <tr>\n",
       "      <th>1</th>\n",
       "      <td>Sylacauga</td>\n",
       "      <td>Alabama</td>\n",
       "    </tr>\n",
       "    <tr>\n",
       "      <th>2</th>\n",
       "      <td>Troy</td>\n",
       "      <td>Alabama</td>\n",
       "    </tr>\n",
       "    <tr>\n",
       "      <th>3</th>\n",
       "      <td>Dothan</td>\n",
       "      <td>Alabama</td>\n",
       "    </tr>\n",
       "    <tr>\n",
       "      <th>4</th>\n",
       "      <td>Prichard</td>\n",
       "      <td>Alabama</td>\n",
       "    </tr>\n",
       "  </tbody>\n",
       "</table>\n",
       "</div>"
      ],
      "text/plain": [
       "        city    state\n",
       "0  Demopolis  Alabama\n",
       "1  Sylacauga  Alabama\n",
       "2       Troy  Alabama\n",
       "3     Dothan  Alabama\n",
       "4   Prichard  Alabama"
      ]
     },
     "execution_count": 15,
     "metadata": {},
     "output_type": "execute_result"
    }
   ],
   "source": [
    "# Get dataset with US city names. Used the auto_download\n",
    "# option that will fetch the dataset if it has not been\n",
    "# downloaded yet.\n",
    "\n",
    "us_cities = refdata.load(key='encyclopaedia_britannica:us_cities', auto_download=True).df()\n",
    "us_cities.head()"
   ]
  },
  {
   "cell_type": "markdown",
   "metadata": {},
   "source": [
    "## Cleanup"
   ]
  },
  {
   "cell_type": "code",
   "execution_count": 16,
   "metadata": {},
   "outputs": [],
   "source": [
    "# Remove the created data folder.\n",
    "\n",
    "import shutil\n",
    "\n",
    "shutil.rmtree('./data')"
   ]
  }
 ],
 "metadata": {
  "kernelspec": {
   "display_name": "Python 3",
   "language": "python",
   "name": "python3"
  },
  "language_info": {
   "codemirror_mode": {
    "name": "ipython",
    "version": 3
   },
   "file_extension": ".py",
   "mimetype": "text/x-python",
   "name": "python",
   "nbconvert_exporter": "python",
   "pygments_lexer": "ipython3",
   "version": "3.9.1"
  }
 },
 "nbformat": 4,
 "nbformat_minor": 4
}
