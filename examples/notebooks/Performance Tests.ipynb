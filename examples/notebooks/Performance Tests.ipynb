{
 "cells": [
  {
   "cell_type": "code",
   "execution_count": 1,
   "metadata": {},
   "outputs": [],
   "source": [
    "from openclean.data.load import dataset\n",
    "\n",
    "df = dataset('/home/heiko/data/socrata/data.virginia.gov/20200703/tsv/bre9-aqqr.tsv.gz')"
   ]
  },
  {
   "cell_type": "code",
   "execution_count": 2,
   "metadata": {},
   "outputs": [
    {
     "data": {
      "text/html": [
       "<div>\n",
       "<style scoped>\n",
       "    .dataframe tbody tr th:only-of-type {\n",
       "        vertical-align: middle;\n",
       "    }\n",
       "\n",
       "    .dataframe tbody tr th {\n",
       "        vertical-align: top;\n",
       "    }\n",
       "\n",
       "    .dataframe thead th {\n",
       "        text-align: right;\n",
       "    }\n",
       "</style>\n",
       "<table border=\"1\" class=\"dataframe\">\n",
       "  <thead>\n",
       "    <tr style=\"text-align: right;\">\n",
       "      <th></th>\n",
       "      <th>Report Date</th>\n",
       "      <th>FIPS</th>\n",
       "      <th>Locality</th>\n",
       "      <th>VDH Health District</th>\n",
       "      <th>Total Cases</th>\n",
       "      <th>Hospitalizations</th>\n",
       "      <th>Deaths</th>\n",
       "    </tr>\n",
       "  </thead>\n",
       "  <tbody>\n",
       "    <tr>\n",
       "      <th>0</th>\n",
       "      <td>07/02/2020</td>\n",
       "      <td>51001</td>\n",
       "      <td>Accomack</td>\n",
       "      <td>Eastern Shore</td>\n",
       "      <td>1042</td>\n",
       "      <td>72</td>\n",
       "      <td>14</td>\n",
       "    </tr>\n",
       "    <tr>\n",
       "      <th>1</th>\n",
       "      <td>07/02/2020</td>\n",
       "      <td>51003</td>\n",
       "      <td>Albemarle</td>\n",
       "      <td>Thomas Jefferson</td>\n",
       "      <td>412</td>\n",
       "      <td>33</td>\n",
       "      <td>9</td>\n",
       "    </tr>\n",
       "    <tr>\n",
       "      <th>2</th>\n",
       "      <td>07/02/2020</td>\n",
       "      <td>51005</td>\n",
       "      <td>Alleghany</td>\n",
       "      <td>Alleghany</td>\n",
       "      <td>33</td>\n",
       "      <td>5</td>\n",
       "      <td>2</td>\n",
       "    </tr>\n",
       "    <tr>\n",
       "      <th>3</th>\n",
       "      <td>07/02/2020</td>\n",
       "      <td>51007</td>\n",
       "      <td>Amelia</td>\n",
       "      <td>Piedmont</td>\n",
       "      <td>44</td>\n",
       "      <td>11</td>\n",
       "      <td>1</td>\n",
       "    </tr>\n",
       "    <tr>\n",
       "      <th>4</th>\n",
       "      <td>07/02/2020</td>\n",
       "      <td>51009</td>\n",
       "      <td>Amherst</td>\n",
       "      <td>Central Virginia</td>\n",
       "      <td>36</td>\n",
       "      <td>3</td>\n",
       "      <td>0</td>\n",
       "    </tr>\n",
       "    <tr>\n",
       "      <th>...</th>\n",
       "      <td>...</td>\n",
       "      <td>...</td>\n",
       "      <td>...</td>\n",
       "      <td>...</td>\n",
       "      <td>...</td>\n",
       "      <td>...</td>\n",
       "      <td>...</td>\n",
       "    </tr>\n",
       "    <tr>\n",
       "      <th>14359</th>\n",
       "      <td>03/17/2020</td>\n",
       "      <td>51800</td>\n",
       "      <td>Suffolk</td>\n",
       "      <td>Western Tidewater</td>\n",
       "      <td>0</td>\n",
       "      <td>0</td>\n",
       "      <td>0</td>\n",
       "    </tr>\n",
       "    <tr>\n",
       "      <th>14360</th>\n",
       "      <td>03/17/2020</td>\n",
       "      <td>51810</td>\n",
       "      <td>Virginia Beach</td>\n",
       "      <td>Virginia Beach</td>\n",
       "      <td>4</td>\n",
       "      <td>0</td>\n",
       "      <td>0</td>\n",
       "    </tr>\n",
       "    <tr>\n",
       "      <th>14361</th>\n",
       "      <td>03/17/2020</td>\n",
       "      <td>51820</td>\n",
       "      <td>Waynesboro</td>\n",
       "      <td>Central Shenandoah</td>\n",
       "      <td>0</td>\n",
       "      <td>0</td>\n",
       "      <td>0</td>\n",
       "    </tr>\n",
       "    <tr>\n",
       "      <th>14362</th>\n",
       "      <td>03/17/2020</td>\n",
       "      <td>51830</td>\n",
       "      <td>Williamsburg</td>\n",
       "      <td>Peninsula</td>\n",
       "      <td>1</td>\n",
       "      <td>0</td>\n",
       "      <td>0</td>\n",
       "    </tr>\n",
       "    <tr>\n",
       "      <th>14363</th>\n",
       "      <td>03/17/2020</td>\n",
       "      <td>51840</td>\n",
       "      <td>Winchester</td>\n",
       "      <td>Lord Fairfax</td>\n",
       "      <td>0</td>\n",
       "      <td>0</td>\n",
       "      <td>0</td>\n",
       "    </tr>\n",
       "  </tbody>\n",
       "</table>\n",
       "<p>14364 rows × 7 columns</p>\n",
       "</div>"
      ],
      "text/plain": [
       "      Report Date   FIPS        Locality VDH Health District Total Cases  \\\n",
       "0      07/02/2020  51001        Accomack       Eastern Shore        1042   \n",
       "1      07/02/2020  51003       Albemarle    Thomas Jefferson         412   \n",
       "2      07/02/2020  51005       Alleghany           Alleghany          33   \n",
       "3      07/02/2020  51007          Amelia            Piedmont          44   \n",
       "4      07/02/2020  51009         Amherst    Central Virginia          36   \n",
       "...           ...    ...             ...                 ...         ...   \n",
       "14359  03/17/2020  51800         Suffolk   Western Tidewater           0   \n",
       "14360  03/17/2020  51810  Virginia Beach      Virginia Beach           4   \n",
       "14361  03/17/2020  51820      Waynesboro  Central Shenandoah           0   \n",
       "14362  03/17/2020  51830    Williamsburg           Peninsula           1   \n",
       "14363  03/17/2020  51840      Winchester        Lord Fairfax           0   \n",
       "\n",
       "      Hospitalizations Deaths  \n",
       "0                   72     14  \n",
       "1                   33      9  \n",
       "2                    5      2  \n",
       "3                   11      1  \n",
       "4                    3      0  \n",
       "...                ...    ...  \n",
       "14359                0      0  \n",
       "14360                0      0  \n",
       "14361                0      0  \n",
       "14362                0      0  \n",
       "14363                0      0  \n",
       "\n",
       "[14364 rows x 7 columns]"
      ]
     },
     "execution_count": 2,
     "metadata": {},
     "output_type": "execute_result"
    }
   ],
   "source": [
    "df"
   ]
  },
  {
   "cell_type": "markdown",
   "metadata": {},
   "source": [
    "## Impact of calling an eval function of every data frame row"
   ]
  },
  {
   "cell_type": "code",
   "execution_count": 3,
   "metadata": {},
   "outputs": [
    {
     "name": "stdout",
     "output_type": "stream",
     "text": [
      "Runtime 7.702656302019022 s\n"
     ]
    }
   ],
   "source": [
    "import time\n",
    "\n",
    "start = time.perf_counter()\n",
    "\n",
    "for i in range(10):\n",
    "    for rowid, values in df.iterrows():\n",
    "        values[2].lower()\n",
    "    \n",
    "end = time.perf_counter()\n",
    "\n",
    "print('Runtime {} s'.format(end -start))"
   ]
  },
  {
   "cell_type": "code",
   "execution_count": 4,
   "metadata": {},
   "outputs": [
    {
     "name": "stdout",
     "output_type": "stream",
     "text": [
      "Runtime 7.897803692962043 s\n"
     ]
    }
   ],
   "source": [
    "import time\n",
    "from openclean.function.eval.base import Col\n",
    "\n",
    "col = Col('Locality').prepare(df)\n",
    "\n",
    "start = time.perf_counter()\n",
    "\n",
    "for i in range(10):\n",
    "    for rowid, values in df.iterrows():\n",
    "        col.eval(values).lower()\n",
    "    \n",
    "end = time.perf_counter()\n",
    "\n",
    "print('Runtime {} s'.format(end -start))"
   ]
  },
  {
   "cell_type": "markdown",
   "metadata": {},
   "source": [
    "## Set Lookup vs. List Lookup vs. Dictionary Lookup"
   ]
  },
  {
   "cell_type": "code",
   "execution_count": 5,
   "metadata": {},
   "outputs": [],
   "source": [
    "from openclean.function.distinct import distinct\n",
    "\n",
    "vocabulary = distinct(df, 'Locality')"
   ]
  },
  {
   "cell_type": "code",
   "execution_count": 6,
   "metadata": {},
   "outputs": [],
   "source": [
    "values = set(list(vocabulary.keys()) + list(distinct(df, 'VDH Health District').keys()))"
   ]
  },
  {
   "cell_type": "code",
   "execution_count": 7,
   "metadata": {},
   "outputs": [
    {
     "name": "stdout",
     "output_type": "stream",
     "text": [
      "Runtime  for Counter/dict 1.8382479379652068 s\n"
     ]
    }
   ],
   "source": [
    "import time\n",
    "\n",
    "start = time.perf_counter()\n",
    "\n",
    "for i in range(100000):\n",
    "    found = 0\n",
    "    for v in values:\n",
    "        if v in vocabulary:\n",
    "            found += 1\n",
    "            \n",
    "end = time.perf_counter()\n",
    "\n",
    "print('Runtime  for Counter/dict {} s'.format(end -start))"
   ]
  },
  {
   "cell_type": "code",
   "execution_count": 8,
   "metadata": {},
   "outputs": [
    {
     "name": "stdout",
     "output_type": "stream",
     "text": [
      "Runtime  for list 14.772881913930178 s\n"
     ]
    }
   ],
   "source": [
    "start = time.perf_counter()\n",
    "\n",
    "vocablist = list(vocabulary.keys())\n",
    "\n",
    "for i in range(100000):\n",
    "    found = 0\n",
    "    for v in values:\n",
    "        if v in vocablist:\n",
    "            found += 1\n",
    "            \n",
    "end = time.perf_counter()\n",
    "\n",
    "print('Runtime  for list {} s'.format(end -start))"
   ]
  },
  {
   "cell_type": "code",
   "execution_count": 9,
   "metadata": {},
   "outputs": [
    {
     "name": "stdout",
     "output_type": "stream",
     "text": [
      "Runtime  for set 1.3019300369778648 s\n"
     ]
    }
   ],
   "source": [
    "start = time.perf_counter()\n",
    "\n",
    "vocabset = set(vocabulary.keys())\n",
    "\n",
    "for i in range(100000):\n",
    "    found = 0\n",
    "    for v in values:\n",
    "        if v in vocabset:\n",
    "            found += 1\n",
    "            \n",
    "end = time.perf_counter()\n",
    "\n",
    "print('Runtime  for set {} s'.format(end -start))"
   ]
  }
 ],
 "metadata": {
  "kernelspec": {
   "display_name": "Python 3",
   "language": "python",
   "name": "python3"
  },
  "language_info": {
   "codemirror_mode": {
    "name": "ipython",
    "version": 3
   },
   "file_extension": ".py",
   "mimetype": "text/x-python",
   "name": "python",
   "nbconvert_exporter": "python",
   "pygments_lexer": "ipython3",
   "version": "3.8.5"
  }
 },
 "nbformat": 4,
 "nbformat_minor": 4
}
