{
 "cells": [
  {
   "cell_type": "code",
   "execution_count": 5,
   "metadata": {},
   "outputs": [],
   "source": [
    "from openclean.data.load import dataset\n",
    "from openclean.op.constraint import EqIgnoreCase, IsEmpty\n",
    "from openclean.operator.transform.filter import Filter, Ignore"
   ]
  },
  {
   "cell_type": "code",
   "execution_count": 6,
   "metadata": {},
   "outputs": [],
   "source": [
    "ds = dataset('../data/DOB_Permit_Issuance.tsv')"
   ]
  },
  {
   "cell_type": "code",
   "execution_count": 7,
   "metadata": {},
   "outputs": [
    {
     "ename": "TypeError",
     "evalue": "apply() missing 1 required positional argument: 'state'",
     "output_type": "error",
     "traceback": [
      "\u001b[0;31m---------------------------------------------------------------------------\u001b[0m",
      "\u001b[0;31mTypeError\u001b[0m                                 Traceback (most recent call last)",
      "\u001b[0;32m<ipython-input-7-773fdc1c3c4c>\u001b[0m in \u001b[0;36m<module>\u001b[0;34m\u001b[0m\n\u001b[0;32m----> 1\u001b[0;31m \u001b[0mbrooklyn\u001b[0m \u001b[0;34m=\u001b[0m \u001b[0mFilter\u001b[0m\u001b[0;34m(\u001b[0m\u001b[0mEqIgnoreCase\u001b[0m\u001b[0;34m(\u001b[0m\u001b[0;34m'borough'\u001b[0m\u001b[0;34m,\u001b[0m \u001b[0;34m'Brooklyn'\u001b[0m\u001b[0;34m)\u001b[0m\u001b[0;34m)\u001b[0m\u001b[0;34m.\u001b[0m\u001b[0mapply\u001b[0m\u001b[0;34m(\u001b[0m\u001b[0mds\u001b[0m\u001b[0;34m)\u001b[0m\u001b[0;34m\u001b[0m\u001b[0;34m\u001b[0m\u001b[0m\n\u001b[0m",
      "\u001b[0;31mTypeError\u001b[0m: apply() missing 1 required positional argument: 'state'"
     ]
    }
   ],
   "source": [
    "brooklyn = Filter(EqIgnoreCase('borough', 'Brooklyn')).apply(ds)"
   ]
  },
  {
   "cell_type": "code",
   "execution_count": 8,
   "metadata": {},
   "outputs": [
    {
     "ename": "NameError",
     "evalue": "name 'brooklyn' is not defined",
     "output_type": "error",
     "traceback": [
      "\u001b[0;31m---------------------------------------------------------------------------\u001b[0m",
      "\u001b[0;31mNameError\u001b[0m                                 Traceback (most recent call last)",
      "\u001b[0;32m<ipython-input-8-d8b29e2a1d6d>\u001b[0m in \u001b[0;36m<module>\u001b[0;34m\u001b[0m\n\u001b[0;32m----> 1\u001b[0;31m \u001b[0mbrooklyn\u001b[0m\u001b[0;34m.\u001b[0m\u001b[0mhead\u001b[0m\u001b[0;34m(\u001b[0m\u001b[0;34m)\u001b[0m\u001b[0;34m\u001b[0m\u001b[0;34m\u001b[0m\u001b[0m\n\u001b[0m",
      "\u001b[0;31mNameError\u001b[0m: name 'brooklyn' is not defined"
     ]
    }
   ],
   "source": [
    "brooklyn.head()"
   ]
  },
  {
   "cell_type": "code",
   "execution_count": 3,
   "metadata": {},
   "outputs": [],
   "source": [
    "from openclean.op.group.fd import FDViolation"
   ]
  },
  {
   "cell_type": "code",
   "execution_count": 4,
   "metadata": {},
   "outputs": [
    {
     "ename": "NameError",
     "evalue": "name 'ds' is not defined",
     "output_type": "error",
     "traceback": [
      "\u001b[0;31m---------------------------------------------------------------------------\u001b[0m",
      "\u001b[0;31mNameError\u001b[0m                                 Traceback (most recent call last)",
      "\u001b[0;32m<ipython-input-4-909897cc6148>\u001b[0m in \u001b[0;36m<module>\u001b[0;34m\u001b[0m\n\u001b[0;32m----> 1\u001b[0;31m \u001b[0mviolations\u001b[0m \u001b[0;34m=\u001b[0m \u001b[0mFDViolation\u001b[0m\u001b[0;34m(\u001b[0m\u001b[0mlhs\u001b[0m\u001b[0;34m=\u001b[0m\u001b[0;34m[\u001b[0m\u001b[0;34m'borough'\u001b[0m\u001b[0;34m,\u001b[0m \u001b[0;34m'block'\u001b[0m\u001b[0;34m]\u001b[0m\u001b[0;34m,\u001b[0m \u001b[0mrhs\u001b[0m\u001b[0;34m=\u001b[0m\u001b[0;34m'zip_code'\u001b[0m\u001b[0;34m)\u001b[0m\u001b[0;34m.\u001b[0m\u001b[0mapply\u001b[0m\u001b[0;34m(\u001b[0m\u001b[0mds\u001b[0m\u001b[0;34m)\u001b[0m\u001b[0;34m\u001b[0m\u001b[0;34m\u001b[0m\u001b[0m\n\u001b[0m",
      "\u001b[0;31mNameError\u001b[0m: name 'ds' is not defined"
     ]
    }
   ],
   "source": [
    "violations = FDViolation(lhs=['borough', 'block'], rhs='zip_code').apply(ds)"
   ]
  },
  {
   "cell_type": "code",
   "execution_count": 1,
   "metadata": {},
   "outputs": [
    {
     "ename": "NameError",
     "evalue": "name 'violations' is not defined",
     "output_type": "error",
     "traceback": [
      "\u001b[0;31m---------------------------------------------------------------------------\u001b[0m",
      "\u001b[0;31mNameError\u001b[0m                                 Traceback (most recent call last)",
      "\u001b[0;32m<ipython-input-1-cffd3c4c1b47>\u001b[0m in \u001b[0;36m<module>\u001b[0;34m\u001b[0m\n\u001b[0;32m----> 1\u001b[0;31m \u001b[0;32mfor\u001b[0m \u001b[0mkey\u001b[0m\u001b[0;34m,\u001b[0m \u001b[0mf\u001b[0m \u001b[0;32min\u001b[0m \u001b[0mviolations\u001b[0m\u001b[0;34m:\u001b[0m\u001b[0;34m\u001b[0m\u001b[0;34m\u001b[0m\u001b[0m\n\u001b[0m\u001b[1;32m      2\u001b[0m     \u001b[0mprint\u001b[0m\u001b[0;34m(\u001b[0m\u001b[0mkey\u001b[0m\u001b[0;34m)\u001b[0m\u001b[0;34m\u001b[0m\u001b[0;34m\u001b[0m\u001b[0m\n\u001b[1;32m      3\u001b[0m     \u001b[0mprint\u001b[0m\u001b[0;34m(\u001b[0m\u001b[0mf\u001b[0m\u001b[0;34m[\u001b[0m\u001b[0;34m'zip_code'\u001b[0m\u001b[0;34m]\u001b[0m\u001b[0;34m)\u001b[0m\u001b[0;34m\u001b[0m\u001b[0;34m\u001b[0m\u001b[0m\n",
      "\u001b[0;31mNameError\u001b[0m: name 'violations' is not defined"
     ]
    }
   ],
   "source": [
    "for key, f in violations:\n",
    "    print(key)\n",
    "    print(f['zip_code'])"
   ]
  },
  {
   "cell_type": "code",
   "execution_count": null,
   "metadata": {},
   "outputs": [],
   "source": [
    "def has_outlier(df, state):\n",
    "    return len(state.outliers) == 0\n",
    "\n",
    "def get_outlier(df, state):\n",
    "    return state.prev.outliers[0]\n",
    "\n",
    "\n",
    "ForEach([\n",
    "    HighFrequencyOutlier('zip_code', threshold=0.75),\n",
    "    If(HasOutlier(), [\n",
    "        If(Confirm(message='Replace all values with most frequent one'), [\n",
    "            ReplaceAll('zip_code', GetOutlier())\n",
    "        ])\n",
    "    ])\n",
    "]).apply(violations)"
   ]
  },
  {
   "cell_type": "code",
   "execution_count": null,
   "metadata": {},
   "outputs": [],
   "source": [
    "ds = dataset('../data/DOB_Permit_Issuance.tsv')\n",
    "\n",
    "pipeline = [\n",
    "    Ignore(IsEmpty('borough')),\n",
    "    FDViolation(lhs=['borough', 'block'], rhs='zip_code'),\n",
    "    ForEach([\n",
    "        HighFrequencyOutlier('zip_code', threshold=0.75),\n",
    "        If(HasOutlier(), [\n",
    "            If(Confirm(message='Replace all values with most frequent one'), [\n",
    "                ReplaceAll('zip_code', GetOutlier())\n",
    "            ])\n",
    "        ])\n",
    "    ]),\n",
    "    Union(),\n",
    "    Merge(ds)\n",
    "]\n",
    "\n",
    "pipeline.apply(ds)"
   ]
  },
  {
   "cell_type": "code",
   "execution_count": null,
   "metadata": {},
   "outputs": [],
   "source": [
    "from openclean.op import Ignore, FDViolation, ...\n",
    "\n",
    "ds = dataset('../data/DOB_Permit_Issuance.tsv')\n",
    "\n",
    "non_empty = Ignore(ds, IsEmpty('borough'))  # Or Ignore(IsEmpty('borough')).apply(ds)\n",
    "violations = FDViolation(non_empty, lhs=['borough', 'block'], rhs='zip_code')\n",
    "\n",
    "result = pd.DataFrame(columns=ds.columns)\n",
    "for key, df in violations:\n",
    "    outlier = HighFrequencyOutlier(df, 'zip_code', threshold=0.75)\n",
    "    if outlier.size == 1:\n",
    "        if Confirm(df, message='Replace all values with most frequent one'):\n",
    "            result = Union(result, ReplaceAll(df, 'zip_code', outlier.iloc[0,0]))\n",
    "ds = Merge(ds, result)"
   ]
  },
  {
   "cell_type": "code",
   "execution_count": null,
   "metadata": {},
   "outputs": [],
   "source": [
    "@vizier.command(name='FDRepair')\n",
    "@vizier.argument(name='ds', type='dataset')\n",
    "@vizier.argument(name='lhs', type='collist')\n",
    "@vizier.argument(name='rhs', type='collist')\n",
    "def FDMajorityRepair(ds, lhs, rhs):\n",
    "    violations = FDViolation(non_empty, lhs=lhs, rhs=rhs)\n",
    "    result = pd.DataFrame(columns=ds.columns)\n",
    "    for key, df in violations:\n",
    "        outlier = HighFrequencyOutlier(df, rhs, threshold=0.75)\n",
    "        if outlier.size == 1:\n",
    "            if Confirm(df, message='Replace all values with most frequent one'):\n",
    "                result = Union(result, ReplaceAll(df, rhs, outlier.iloc[0]))\n",
    "    return result\n",
    "\n",
    "\n",
    "if __name__ == '__main__':\n",
    "    ds = dataset('../data/DOB_Permit_Issuance.tsv')\n",
    "    non_empty = Ignore(ds, IsEmpty('borough'))\n",
    "    repair = FDMajorityRepair(non_empty, ['borough', 'block'], 'zip_code')\n",
    "    ds = Merge(ds, repair)"
   ]
  }
 ],
 "metadata": {
  "kernelspec": {
   "display_name": "Python 3",
   "language": "python",
   "name": "python3"
  },
  "language_info": {
   "codemirror_mode": {
    "name": "ipython",
    "version": 3
   },
   "file_extension": ".py",
   "mimetype": "text/x-python",
   "name": "python",
   "nbconvert_exporter": "python",
   "pygments_lexer": "ipython3",
   "version": "3.8.1"
  }
 },
 "nbformat": 4,
 "nbformat_minor": 4
}
