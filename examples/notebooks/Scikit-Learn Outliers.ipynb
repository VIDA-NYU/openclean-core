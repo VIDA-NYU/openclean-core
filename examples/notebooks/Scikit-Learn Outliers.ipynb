{
 "cells": [
  {
   "cell_type": "code",
   "execution_count": 1,
   "metadata": {},
   "outputs": [],
   "source": [
    "import os\n",
    "\n",
    "os.environ['OPENCLEAN_DATA_DIR'] = '../data/'"
   ]
  },
  {
   "cell_type": "code",
   "execution_count": 2,
   "metadata": {},
   "outputs": [],
   "source": [
    "from openclean.data import load\n",
    "\n",
    "df = load('311-descriptor.csv')"
   ]
  },
  {
   "cell_type": "code",
   "execution_count": 3,
   "metadata": {
    "scrolled": true
   },
   "outputs": [
    {
     "data": {
      "text/html": [
       "<div>\n",
       "<style scoped>\n",
       "    .dataframe tbody tr th:only-of-type {\n",
       "        vertical-align: middle;\n",
       "    }\n",
       "\n",
       "    .dataframe tbody tr th {\n",
       "        vertical-align: top;\n",
       "    }\n",
       "\n",
       "    .dataframe thead th {\n",
       "        text-align: right;\n",
       "    }\n",
       "</style>\n",
       "<table border=\"1\" class=\"dataframe\">\n",
       "  <thead>\n",
       "    <tr style=\"text-align: right;\">\n",
       "      <th></th>\n",
       "      <th>descriptor</th>\n",
       "      <th>borough</th>\n",
       "      <th>city</th>\n",
       "      <th>street</th>\n",
       "    </tr>\n",
       "  </thead>\n",
       "  <tbody>\n",
       "    <tr>\n",
       "      <th>0</th>\n",
       "      <td>No Parking, Standing, Stopping</td>\n",
       "      <td>MANHATTAN</td>\n",
       "      <td>NEW YORK</td>\n",
       "      <td>BARCLAY STREET</td>\n",
       "    </tr>\n",
       "    <tr>\n",
       "      <th>1</th>\n",
       "      <td>No Parking, Standing, Stopping</td>\n",
       "      <td>BROOKLYN</td>\n",
       "      <td>BROOKLYN</td>\n",
       "      <td>EBONY COURT</td>\n",
       "    </tr>\n",
       "    <tr>\n",
       "      <th>2</th>\n",
       "      <td>Stop</td>\n",
       "      <td>BROOKLYN</td>\n",
       "      <td>BROOKLYN</td>\n",
       "      <td>86 STREET</td>\n",
       "    </tr>\n",
       "    <tr>\n",
       "      <th>3</th>\n",
       "      <td>Stop</td>\n",
       "      <td>BROOKLYN</td>\n",
       "      <td>BROOKLYN</td>\n",
       "      <td>86 STREET</td>\n",
       "    </tr>\n",
       "    <tr>\n",
       "      <th>4</th>\n",
       "      <td>Stop</td>\n",
       "      <td>STATEN ISLAND</td>\n",
       "      <td>STATEN ISLAND</td>\n",
       "      <td>WINCHESTER AVENUE</td>\n",
       "    </tr>\n",
       "  </tbody>\n",
       "</table>\n",
       "</div>"
      ],
      "text/plain": [
       "                       descriptor        borough           city  \\\n",
       "0  No Parking, Standing, Stopping      MANHATTAN       NEW YORK   \n",
       "1  No Parking, Standing, Stopping       BROOKLYN       BROOKLYN   \n",
       "2                            Stop       BROOKLYN       BROOKLYN   \n",
       "3                            Stop       BROOKLYN       BROOKLYN   \n",
       "4                            Stop  STATEN ISLAND  STATEN ISLAND   \n",
       "\n",
       "              street  \n",
       "0     BARCLAY STREET  \n",
       "1        EBONY COURT  \n",
       "2          86 STREET  \n",
       "3          86 STREET  \n",
       "4  WINCHESTER AVENUE  "
      ]
     },
     "execution_count": 3,
     "metadata": {},
     "output_type": "execute_result"
    }
   ],
   "source": [
    "df.head()"
   ]
  },
  {
   "cell_type": "code",
   "execution_count": 4,
   "metadata": {},
   "outputs": [],
   "source": [
    "from collections import Counter\n",
    "\n",
    "ensemble = Counter()"
   ]
  },
  {
   "cell_type": "code",
   "execution_count": 5,
   "metadata": {},
   "outputs": [],
   "source": [
    "from openclean.profiling.anomalies.sklearn import dbscan\n",
    "\n",
    "outliers = dbscan(df, 'street')"
   ]
  },
  {
   "cell_type": "code",
   "execution_count": 6,
   "metadata": {},
   "outputs": [
    {
     "data": {
      "text/plain": [
       "['5 AVENUE']"
      ]
     },
     "execution_count": 6,
     "metadata": {},
     "output_type": "execute_result"
    }
   ],
   "source": [
    "outliers"
   ]
  },
  {
   "cell_type": "code",
   "execution_count": 7,
   "metadata": {},
   "outputs": [],
   "source": [
    "ensemble.update(outliers)"
   ]
  },
  {
   "cell_type": "code",
   "execution_count": 8,
   "metadata": {},
   "outputs": [],
   "source": [
    "from openclean.profiling.anomalies.sklearn import isolation_forest\n",
    "\n",
    "outliers = isolation_forest(df, 'street')"
   ]
  },
  {
   "cell_type": "code",
   "execution_count": 9,
   "metadata": {},
   "outputs": [
    {
     "data": {
      "text/plain": [
       "['WEST HOUSTON STREET',\n",
       " '41 ROAD',\n",
       " '78 ROAD',\n",
       " '7 AVENUE',\n",
       " 'EXIT 25',\n",
       " 'BRUCKNER EXPRESSWAY ENTRANCE WB',\n",
       " 'WEST 39 STREET',\n",
       " 'GREENWICH',\n",
       " 'WOODS OF ARDEN ROAD',\n",
       " 'DEAD END',\n",
       " '2 AVE',\n",
       " 'AMSTERDAM AVE.',\n",
       " '230 ST',\n",
       " '138 ROAD',\n",
       " '169 STREET',\n",
       " 'E 125 ST',\n",
       " 'BARRYSTREET',\n",
       " '69 PLACE',\n",
       " '5 AVENUE',\n",
       " 'BROADWAY',\n",
       " 'AMSTERDAM',\n",
       " 'EXIT 21',\n",
       " 'E 9 ST',\n",
       " 'BEND',\n",
       " '164 STREET',\n",
       " 'MADISON AVENUE',\n",
       " 'CROSS BX EXPRESSWAY ENTRANCE WB']"
      ]
     },
     "execution_count": 9,
     "metadata": {},
     "output_type": "execute_result"
    }
   ],
   "source": [
    "outliers"
   ]
  },
  {
   "cell_type": "code",
   "execution_count": 10,
   "metadata": {},
   "outputs": [],
   "source": [
    "ensemble.update(outliers)"
   ]
  },
  {
   "cell_type": "code",
   "execution_count": 11,
   "metadata": {},
   "outputs": [],
   "source": [
    "from openclean.profiling.anomalies.sklearn import local_outlier_factor\n",
    "\n",
    "outliers = local_outlier_factor(df, 'street')"
   ]
  },
  {
   "cell_type": "code",
   "execution_count": 12,
   "metadata": {},
   "outputs": [
    {
     "data": {
      "text/plain": [
       "['MOTHER GASTON BOULEVARD',\n",
       " '1 AVENUE',\n",
       " 'WEST 25 STREET',\n",
       " 'FARRAGUT ROAD',\n",
       " 'WEST HOUSTON STREET',\n",
       " '41 ROAD',\n",
       " 'NORTH 10 STREET',\n",
       " 'WEST 140 STREET',\n",
       " 'EAST 2 STREET',\n",
       " 'WEST 141 STREET',\n",
       " 'WEST 99 STREET',\n",
       " 'WEST 4 STREET',\n",
       " '78 ROAD',\n",
       " 'EAST 124 STREET',\n",
       " '7 AVENUE',\n",
       " 'UNNAMED STREET',\n",
       " 'WEST 161 STREET',\n",
       " 'EXIT 25',\n",
       " 'WEST 3 STREET',\n",
       " 'BRUCKNER EXPRESSWAY ENTRANCE WB',\n",
       " 'WEST 39 STREET',\n",
       " 'GREENWICH',\n",
       " 'LIBERTY STREET',\n",
       " 'DEAD END',\n",
       " 'HAMILTON  AVE',\n",
       " 'STUYVESANT AVENUE',\n",
       " '2 AVE',\n",
       " 'WHITE PLAINS ROAD',\n",
       " 'AMSTERDAM AVE.',\n",
       " '230 ST',\n",
       " 'UNION STREET',\n",
       " 'PARK AVENUE',\n",
       " 'PURDY AVE',\n",
       " 'WEST 9 STREET',\n",
       " 'WEST 189 STREET',\n",
       " '138 ROAD',\n",
       " 'EAST 215 STREET',\n",
       " 'EAST 119 STREET',\n",
       " 'FRONT STREET',\n",
       " 'E 125 ST',\n",
       " 'STATE STREET',\n",
       " 'WEST 149 STREET',\n",
       " 'NORTH 9 STREET',\n",
       " 'ROE STREET',\n",
       " 'WOODROW ROAD',\n",
       " 'BARRYSTREET',\n",
       " 'EAST 66 STREET',\n",
       " 'WEST STREET',\n",
       " '2ND AVENUE',\n",
       " '5 AVENUE',\n",
       " 'BROADWAY',\n",
       " 'EAST 70 STREET',\n",
       " 'AMSTERDAM',\n",
       " 'LARUE AVENUE',\n",
       " 'EAST 16 STREET',\n",
       " 'WINCHESTER BOULEVARD',\n",
       " 'WEST 145 STREET',\n",
       " 'EXIT 21',\n",
       " 'WEST END AVENUE',\n",
       " 'E 9 ST',\n",
       " 'EAST 55 STREET',\n",
       " 'WEST 162 STREET',\n",
       " 'SOUTH 5 STREET',\n",
       " 'EAST 9 STREET',\n",
       " 'CORTLAND PARK EXIT 11',\n",
       " 'BEND',\n",
       " 'MADISON AVENUE',\n",
       " 'CROSS BX EXPRESSWAY ENTRANCE WB',\n",
       " 'EAST 3 STREET',\n",
       " 'ASTOR PLACE',\n",
       " '1 AVENUE LOOP']"
      ]
     },
     "execution_count": 12,
     "metadata": {},
     "output_type": "execute_result"
    }
   ],
   "source": [
    "outliers"
   ]
  },
  {
   "cell_type": "code",
   "execution_count": 13,
   "metadata": {},
   "outputs": [],
   "source": [
    "ensemble.update(outliers)"
   ]
  },
  {
   "cell_type": "code",
   "execution_count": 14,
   "metadata": {},
   "outputs": [],
   "source": [
    "from openclean.profiling.anomalies.sklearn import one_class_svm\n",
    "\n",
    "outliers = one_class_svm(df, 'street')"
   ]
  },
  {
   "cell_type": "code",
   "execution_count": 15,
   "metadata": {},
   "outputs": [
    {
     "data": {
      "text/plain": [
       "['EAST HOUSTON STREET',\n",
       " '166 STREET',\n",
       " 'WEST 125TH ST',\n",
       " 'AMSTERDAM AVENUE',\n",
       " 'MOTHER GASTON BOULEVARD',\n",
       " 'BRIGHTWATER COURT',\n",
       " '1 AVENUE',\n",
       " 'WEST 25 STREET',\n",
       " 'CLEARVIEW EXPRESSWAY',\n",
       " 'HURLBERT STREET',\n",
       " '129 STREET',\n",
       " '203 STREET',\n",
       " 'WEST HOUSTON STREET',\n",
       " '86 STREET',\n",
       " '41 ROAD',\n",
       " '43 AVENUE',\n",
       " '36 STREET',\n",
       " 'WEST 141 STREET',\n",
       " 'WEST 99 STREET',\n",
       " '78 ROAD',\n",
       " 'CROSS BRONX EXPRESSWAY',\n",
       " 'GREENPOINT AVENUE',\n",
       " 'YELLOWSTONE BOULEVARD',\n",
       " '7 AVENUE',\n",
       " 'GRAND CENTRAL PARKWAY',\n",
       " '48 AVENUE',\n",
       " 'WEST 161 STREET',\n",
       " 'EXIT 25',\n",
       " 'WEST 3 STREET',\n",
       " 'BRUCKNER EXPRESSWAY ENTRANCE WB',\n",
       " '222 STREET',\n",
       " 'WEST 39 STREET',\n",
       " 'GREENWICH',\n",
       " '228 STREET',\n",
       " 'VAN WYCK EXPRESSWAY EXIT',\n",
       " 'WOODS OF ARDEN ROAD',\n",
       " 'FDR DRIVE',\n",
       " 'LIBERTY STREET',\n",
       " 'GERRITSEN AVENUE',\n",
       " 'DRUMGOOLE ROAD EAST',\n",
       " 'NORTHERN BOULEVARD',\n",
       " 'DEAD END',\n",
       " 'RICHMOND TERRACE',\n",
       " 'STUYVESANT AVENUE',\n",
       " 'SHELL ROAD',\n",
       " 'WASHINGTON STREET',\n",
       " 'BLEECKER STREET',\n",
       " '55 STREET',\n",
       " '161 STREET',\n",
       " '2 AVE',\n",
       " 'WHITE PLAINS ROAD',\n",
       " '6 AVENUE',\n",
       " '230 ST',\n",
       " 'HYLAN BOULEVARD',\n",
       " '108 STREET',\n",
       " 'PARK AVENUE',\n",
       " '155 AVENUE',\n",
       " 'CROPSEY AVENUE',\n",
       " 'VAN NEST AVENUE',\n",
       " 'STORY AVENUE',\n",
       " '38 AVENUE',\n",
       " 'PURDY AVE',\n",
       " '77 STREET',\n",
       " '138 ROAD',\n",
       " '8 AVENUE',\n",
       " 'LOUISIANA AVENUE',\n",
       " '169 STREET',\n",
       " 'AVENUE P',\n",
       " 'EAST 119 STREET',\n",
       " 'FRONT STREET',\n",
       " 'E 125 ST',\n",
       " 'STATE STREET',\n",
       " 'YORK AVENUE',\n",
       " 'WALLABOUT STREET',\n",
       " '117 STREET',\n",
       " '153 AVENUE',\n",
       " '253 STREET',\n",
       " 'VAN ZANDT AVENUE',\n",
       " 'ROE STREET',\n",
       " 'WOODROW ROAD',\n",
       " 'BARRYSTREET',\n",
       " 'EAST 66 STREET',\n",
       " 'WEST STREET',\n",
       " 'QUEENS BOULEVARD',\n",
       " 'LITTLE NECK PARKWAY',\n",
       " '69 PLACE',\n",
       " 'BELT PARKWAY',\n",
       " '5 AVENUE',\n",
       " '267 STREET',\n",
       " '218 STREET',\n",
       " 'BROADWAY',\n",
       " 'EAST 70 STREET',\n",
       " 'AMSTERDAM',\n",
       " 'PARSONS BOULEVARD',\n",
       " 'LARUE AVENUE',\n",
       " 'EAST 16 STREET',\n",
       " 'WINCHESTER BOULEVARD',\n",
       " 'EXIT 21',\n",
       " '153 STREET',\n",
       " 'SOUTH ELLIOTT PLACE',\n",
       " 'E 9 ST',\n",
       " 'EAST 55 STREET',\n",
       " 'EBONY COURT',\n",
       " 'HENRY HUDSON PKWY WEST',\n",
       " 'WEST 162 STREET',\n",
       " 'METROPOLITAN AVENUE',\n",
       " 'WINCHESTER AVENUE',\n",
       " '39 AVENUE',\n",
       " 'ELIZABETH STREET',\n",
       " '112 STREET',\n",
       " '99 STREET',\n",
       " 'CORTLAND PARK EXIT 11',\n",
       " 'BEND',\n",
       " '216 STREET',\n",
       " '51 STREET',\n",
       " '164 STREET',\n",
       " 'VAN CORTLANDT PARK SOUTH',\n",
       " 'MADISON AVENUE',\n",
       " 'CROSS BX EXPRESSWAY ENTRANCE WB',\n",
       " 'DELAFIELD AVENUE',\n",
       " 'EAST 3 STREET',\n",
       " '232 STREET',\n",
       " 'SETON PLACE',\n",
       " 'ASTOR PLACE']"
      ]
     },
     "execution_count": 15,
     "metadata": {},
     "output_type": "execute_result"
    }
   ],
   "source": [
    "outliers"
   ]
  },
  {
   "cell_type": "code",
   "execution_count": 16,
   "metadata": {},
   "outputs": [],
   "source": [
    "ensemble.update(outliers)"
   ]
  },
  {
   "cell_type": "code",
   "execution_count": 17,
   "metadata": {},
   "outputs": [],
   "source": [
    "from openclean.profiling.anomalies.sklearn import robust_covariance\n",
    "\n",
    "outliers = robust_covariance(df, 'street')"
   ]
  },
  {
   "cell_type": "code",
   "execution_count": 18,
   "metadata": {},
   "outputs": [
    {
     "data": {
      "text/plain": [
       "['MOTHER GASTON BOULEVARD',\n",
       " 'BRUCKNER EXPRESSWAY ENTRANCE WB',\n",
       " '222 STREET',\n",
       " 'WEST 39 STREET',\n",
       " 'GREENWICH',\n",
       " 'VAN WYCK EXPRESSWAY EXIT',\n",
       " 'DEAD END',\n",
       " 'HAMILTON  AVE',\n",
       " '2 AVE',\n",
       " 'WHITE PLAINS ROAD',\n",
       " '230 ST',\n",
       " '138 ROAD',\n",
       " 'E 125 ST',\n",
       " 'BARRYSTREET',\n",
       " '5 AVENUE',\n",
       " 'BROADWAY',\n",
       " 'AMSTERDAM',\n",
       " 'WINCHESTER BOULEVARD',\n",
       " 'E 9 ST',\n",
       " 'HENRY HUDSON PKWY WEST',\n",
       " 'CORTLAND PARK EXIT 11',\n",
       " 'BEND',\n",
       " 'VAN CORTLANDT PARK SOUTH',\n",
       " 'MADISON AVENUE',\n",
       " 'CROSS BX EXPRESSWAY ENTRANCE WB']"
      ]
     },
     "execution_count": 18,
     "metadata": {},
     "output_type": "execute_result"
    }
   ],
   "source": [
    "outliers"
   ]
  },
  {
   "cell_type": "code",
   "execution_count": 19,
   "metadata": {},
   "outputs": [],
   "source": [
    "ensemble.update(outliers)"
   ]
  },
  {
   "cell_type": "code",
   "execution_count": 20,
   "metadata": {},
   "outputs": [
    {
     "name": "stdout",
     "output_type": "stream",
     "text": [
      "5\t5 AVENUE\n",
      "\n",
      "4\tBRUCKNER EXPRESSWAY ENTRANCE WB\n",
      "4\tWEST 39 STREET\n",
      "4\tGREENWICH\n",
      "4\tDEAD END\n",
      "4\t2 AVE\n",
      "4\t230 ST\n",
      "4\t138 ROAD\n",
      "4\tE 125 ST\n",
      "4\tBARRYSTREET\n",
      "4\tBROADWAY\n",
      "4\tAMSTERDAM\n",
      "4\tE 9 ST\n",
      "4\tBEND\n",
      "4\tMADISON AVENUE\n",
      "4\tCROSS BX EXPRESSWAY ENTRANCE WB\n",
      "\n",
      "3\tWEST HOUSTON STREET\n",
      "3\t41 ROAD\n",
      "3\t78 ROAD\n",
      "3\t7 AVENUE\n",
      "3\tEXIT 25\n",
      "3\tEXIT 21\n",
      "3\tMOTHER GASTON BOULEVARD\n",
      "3\tWHITE PLAINS ROAD\n",
      "3\tWINCHESTER BOULEVARD\n",
      "3\tCORTLAND PARK EXIT 11\n"
     ]
    }
   ],
   "source": [
    "prev = 0\n",
    "for value, count in ensemble.most_common():\n",
    "    if count < 3:\n",
    "        break\n",
    "    if count < prev:\n",
    "        print()\n",
    "    print('{}\\t{}'.format(count, value))\n",
    "    prev = count"
   ]
  },
  {
   "cell_type": "code",
   "execution_count": null,
   "metadata": {},
   "outputs": [],
   "source": []
  }
 ],
 "metadata": {
  "kernelspec": {
   "display_name": "Python 3",
   "language": "python",
   "name": "python3"
  },
  "language_info": {
   "codemirror_mode": {
    "name": "ipython",
    "version": 3
   },
   "file_extension": ".py",
   "mimetype": "text/x-python",
   "name": "python",
   "nbconvert_exporter": "python",
   "pygments_lexer": "ipython3",
   "version": "3.8.1"
  }
 },
 "nbformat": 4,
 "nbformat_minor": 4
}
