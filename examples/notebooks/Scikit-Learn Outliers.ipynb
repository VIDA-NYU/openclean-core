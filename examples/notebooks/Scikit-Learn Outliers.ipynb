{
 "cells": [
  {
   "cell_type": "code",
   "execution_count": 1,
   "metadata": {},
   "outputs": [],
   "source": [
    "from openclean.data import load\n",
    "\n",
    "df = load('311-descriptor.csv')"
   ]
  },
  {
   "cell_type": "code",
   "execution_count": 2,
   "metadata": {
    "scrolled": true
   },
   "outputs": [
    {
     "data": {
      "text/html": [
       "<div>\n",
       "<style scoped>\n",
       "    .dataframe tbody tr th:only-of-type {\n",
       "        vertical-align: middle;\n",
       "    }\n",
       "\n",
       "    .dataframe tbody tr th {\n",
       "        vertical-align: top;\n",
       "    }\n",
       "\n",
       "    .dataframe thead th {\n",
       "        text-align: right;\n",
       "    }\n",
       "</style>\n",
       "<table border=\"1\" class=\"dataframe\">\n",
       "  <thead>\n",
       "    <tr style=\"text-align: right;\">\n",
       "      <th></th>\n",
       "      <th>descriptor</th>\n",
       "      <th>borough</th>\n",
       "      <th>city</th>\n",
       "      <th>street</th>\n",
       "    </tr>\n",
       "  </thead>\n",
       "  <tbody>\n",
       "    <tr>\n",
       "      <th>0</th>\n",
       "      <td>No Parking, Standing, Stopping</td>\n",
       "      <td>MANHATTAN</td>\n",
       "      <td>NEW YORK</td>\n",
       "      <td>BARCLAY STREET</td>\n",
       "    </tr>\n",
       "    <tr>\n",
       "      <th>1</th>\n",
       "      <td>No Parking, Standing, Stopping</td>\n",
       "      <td>BROOKLYN</td>\n",
       "      <td>BROOKLYN</td>\n",
       "      <td>EBONY COURT</td>\n",
       "    </tr>\n",
       "    <tr>\n",
       "      <th>2</th>\n",
       "      <td>Stop</td>\n",
       "      <td>BROOKLYN</td>\n",
       "      <td>BROOKLYN</td>\n",
       "      <td>86 STREET</td>\n",
       "    </tr>\n",
       "    <tr>\n",
       "      <th>3</th>\n",
       "      <td>Stop</td>\n",
       "      <td>BROOKLYN</td>\n",
       "      <td>BROOKLYN</td>\n",
       "      <td>86 STREET</td>\n",
       "    </tr>\n",
       "    <tr>\n",
       "      <th>4</th>\n",
       "      <td>Stop</td>\n",
       "      <td>STATEN ISLAND</td>\n",
       "      <td>STATEN ISLAND</td>\n",
       "      <td>WINCHESTER AVENUE</td>\n",
       "    </tr>\n",
       "  </tbody>\n",
       "</table>\n",
       "</div>"
      ],
      "text/plain": [
       "                       descriptor        borough           city  \\\n",
       "0  No Parking, Standing, Stopping      MANHATTAN       NEW YORK   \n",
       "1  No Parking, Standing, Stopping       BROOKLYN       BROOKLYN   \n",
       "2                            Stop       BROOKLYN       BROOKLYN   \n",
       "3                            Stop       BROOKLYN       BROOKLYN   \n",
       "4                            Stop  STATEN ISLAND  STATEN ISLAND   \n",
       "\n",
       "              street  \n",
       "0     BARCLAY STREET  \n",
       "1        EBONY COURT  \n",
       "2          86 STREET  \n",
       "3          86 STREET  \n",
       "4  WINCHESTER AVENUE  "
      ]
     },
     "execution_count": 2,
     "metadata": {},
     "output_type": "execute_result"
    }
   ],
   "source": [
    "df.head()"
   ]
  },
  {
   "cell_type": "code",
   "execution_count": 3,
   "metadata": {},
   "outputs": [],
   "source": [
    "from collections import Counter\n",
    "\n",
    "ensemble = Counter()"
   ]
  },
  {
   "cell_type": "code",
   "execution_count": 4,
   "metadata": {},
   "outputs": [],
   "source": [
    "from openclean.data.stream import Stream\n",
    "from openclean.profiling.anomalies.sklearn import dbscan\n",
    "\n",
    "outliers = dbscan(df, 'street')"
   ]
  },
  {
   "cell_type": "code",
   "execution_count": 5,
   "metadata": {},
   "outputs": [
    {
     "data": {
      "text/plain": [
       "['5 AVENUE']"
      ]
     },
     "execution_count": 5,
     "metadata": {},
     "output_type": "execute_result"
    }
   ],
   "source": [
    "outliers"
   ]
  },
  {
   "cell_type": "code",
   "execution_count": 6,
   "metadata": {},
   "outputs": [],
   "source": [
    "ensemble.update(outliers)"
   ]
  },
  {
   "cell_type": "code",
   "execution_count": 7,
   "metadata": {},
   "outputs": [],
   "source": [
    "from openclean.profiling.anomalies.sklearn import isolation_forest\n",
    "\n",
    "outliers = isolation_forest(df, 'street')"
   ]
  },
  {
   "cell_type": "code",
   "execution_count": 8,
   "metadata": {},
   "outputs": [
    {
     "data": {
      "text/plain": [
       "['GREENWICH',\n",
       " 'CROSS BX EXPRESSWAY ENTRANCE WB',\n",
       " 'EXIT 25',\n",
       " '169 STREET',\n",
       " 'AMSTERDAM AVE.',\n",
       " 'WEST 39 STREET',\n",
       " 'E 9 ST',\n",
       " 'BARRYSTREET',\n",
       " '222 STREET',\n",
       " 'E 125 ST',\n",
       " 'WEST 162 STREET',\n",
       " 'BEND',\n",
       " 'CORTLAND PARK EXIT 11',\n",
       " 'MADISON AVENUE',\n",
       " '7 AVENUE',\n",
       " '164 STREET',\n",
       " '138 ROAD',\n",
       " 'BRUCKNER EXPRESSWAY ENTRANCE WB',\n",
       " '230 ST',\n",
       " '2 AVE',\n",
       " 'DEAD END',\n",
       " 'WEST HOUSTON STREET',\n",
       " 'AMSTERDAM',\n",
       " 'BROADWAY',\n",
       " '5 AVENUE']"
      ]
     },
     "execution_count": 8,
     "metadata": {},
     "output_type": "execute_result"
    }
   ],
   "source": [
    "outliers"
   ]
  },
  {
   "cell_type": "code",
   "execution_count": 9,
   "metadata": {},
   "outputs": [],
   "source": [
    "ensemble.update(outliers)"
   ]
  },
  {
   "cell_type": "code",
   "execution_count": 10,
   "metadata": {},
   "outputs": [],
   "source": [
    "from openclean.profiling.anomalies.sklearn import local_outlier_factor\n",
    "\n",
    "outliers = local_outlier_factor(df, 'street')"
   ]
  },
  {
   "cell_type": "code",
   "execution_count": 11,
   "metadata": {},
   "outputs": [
    {
     "data": {
      "text/plain": [
       "['GREENWICH',\n",
       " 'EAST 16 STREET',\n",
       " 'WEST 140 STREET',\n",
       " 'CROSS BX EXPRESSWAY ENTRANCE WB',\n",
       " 'WEST 25 STREET',\n",
       " 'EAST 119 STREET',\n",
       " 'PURDY AVE',\n",
       " 'EAST 2 STREET',\n",
       " 'WEST END AVENUE',\n",
       " 'EXIT 25',\n",
       " 'WEST 99 STREET',\n",
       " 'UNION STREET',\n",
       " 'EAST 3 STREET',\n",
       " '1 AVENUE LOOP',\n",
       " 'EAST 70 STREET',\n",
       " '78 ROAD',\n",
       " 'AMSTERDAM AVE.',\n",
       " 'STATE STREET',\n",
       " '1 AVENUE',\n",
       " 'WEST 39 STREET',\n",
       " 'E 9 ST',\n",
       " 'WEST 145 STREET',\n",
       " 'ASTOR PLACE',\n",
       " 'EAST 9 STREET',\n",
       " 'STUYVESANT AVENUE',\n",
       " 'LIBERTY STREET',\n",
       " 'HAMILTON  AVE',\n",
       " 'WEST 149 STREET',\n",
       " 'BARRYSTREET',\n",
       " 'WHITE PLAINS ROAD',\n",
       " 'FRONT STREET',\n",
       " 'E 125 ST',\n",
       " 'WEST 162 STREET',\n",
       " 'WEST 4 STREET',\n",
       " 'LARUE AVENUE',\n",
       " 'BEND',\n",
       " 'EAST 124 STREET',\n",
       " 'CORTLAND PARK EXIT 11',\n",
       " 'WEST 3 STREET',\n",
       " 'MADISON AVENUE',\n",
       " 'PARK AVENUE',\n",
       " 'WEST 189 STREET',\n",
       " '7 AVENUE',\n",
       " 'SOUTH 5 STREET',\n",
       " 'WINCHESTER BOULEVARD',\n",
       " 'NORTH 9 STREET',\n",
       " 'WEST 141 STREET',\n",
       " 'EAST 55 STREET',\n",
       " 'WEST STREET',\n",
       " 'UNNAMED STREET',\n",
       " 'FARRAGUT ROAD',\n",
       " '138 ROAD',\n",
       " 'BRUCKNER EXPRESSWAY ENTRANCE WB',\n",
       " 'MOTHER GASTON BOULEVARD',\n",
       " '230 ST',\n",
       " '2 AVE',\n",
       " 'WOODROW ROAD',\n",
       " 'DEAD END',\n",
       " 'EAST 215 STREET',\n",
       " 'WEST HOUSTON STREET',\n",
       " 'AMSTERDAM',\n",
       " 'EAST 66 STREET',\n",
       " '2ND AVENUE',\n",
       " 'BROADWAY',\n",
       " '5 AVENUE',\n",
       " 'WEST 9 STREET',\n",
       " '41 ROAD',\n",
       " 'ROE STREET',\n",
       " 'EXIT 21',\n",
       " 'NORTH 10 STREET',\n",
       " 'WEST 161 STREET']"
      ]
     },
     "execution_count": 11,
     "metadata": {},
     "output_type": "execute_result"
    }
   ],
   "source": [
    "outliers"
   ]
  },
  {
   "cell_type": "code",
   "execution_count": 12,
   "metadata": {},
   "outputs": [],
   "source": [
    "ensemble.update(outliers)"
   ]
  },
  {
   "cell_type": "code",
   "execution_count": 13,
   "metadata": {},
   "outputs": [],
   "source": [
    "from openclean.profiling.anomalies.sklearn import one_clas_svm\n",
    "\n",
    "outliers = one_clas_svm(df, 'street')"
   ]
  },
  {
   "cell_type": "code",
   "execution_count": 14,
   "metadata": {},
   "outputs": [
    {
     "data": {
      "text/plain": [
       "['WASHINGTON STREET',\n",
       " 'GREENWICH',\n",
       " '216 STREET',\n",
       " 'EAST 16 STREET',\n",
       " '99 STREET',\n",
       " '77 STREET',\n",
       " '129 STREET',\n",
       " '267 STREET',\n",
       " 'STORY AVENUE',\n",
       " 'CROSS BX EXPRESSWAY ENTRANCE WB',\n",
       " '153 AVENUE',\n",
       " 'WEST 25 STREET',\n",
       " 'EAST 119 STREET',\n",
       " 'PURDY AVE',\n",
       " 'EXIT 25',\n",
       " 'METROPOLITAN AVENUE',\n",
       " '166 STREET',\n",
       " '86 STREET',\n",
       " '117 STREET',\n",
       " 'WEST 99 STREET',\n",
       " 'WALLABOUT STREET',\n",
       " 'EAST 3 STREET',\n",
       " '43 AVENUE',\n",
       " 'PARSONS BOULEVARD',\n",
       " 'GERRITSEN AVENUE',\n",
       " 'SOUTH ELLIOTT PLACE',\n",
       " 'EAST 70 STREET',\n",
       " '78 ROAD',\n",
       " '169 STREET',\n",
       " 'STATE STREET',\n",
       " 'LOUISIANA AVENUE',\n",
       " '6 AVENUE',\n",
       " '1 AVENUE',\n",
       " 'DRUMGOOLE ROAD EAST',\n",
       " 'WEST 39 STREET',\n",
       " 'E 9 ST',\n",
       " 'WEST 125TH ST',\n",
       " 'ASTOR PLACE',\n",
       " 'QUEENS BOULEVARD',\n",
       " 'STUYVESANT AVENUE',\n",
       " '55 STREET',\n",
       " 'AVENUE P',\n",
       " 'LIBERTY STREET',\n",
       " 'AMSTERDAM AVENUE',\n",
       " 'HURLBERT STREET',\n",
       " 'LITTLE NECK PARKWAY',\n",
       " 'BARRYSTREET',\n",
       " 'WHITE PLAINS ROAD',\n",
       " 'SHELL ROAD',\n",
       " '51 STREET',\n",
       " '222 STREET',\n",
       " 'FRONT STREET',\n",
       " 'E 125 ST',\n",
       " 'WEST 162 STREET',\n",
       " 'NORTHERN BOULEVARD',\n",
       " 'LARUE AVENUE',\n",
       " 'BEND',\n",
       " 'CORTLAND PARK EXIT 11',\n",
       " 'WEST 3 STREET',\n",
       " 'MADISON AVENUE',\n",
       " '232 STREET',\n",
       " 'PARK AVENUE',\n",
       " 'HYLAN BOULEVARD',\n",
       " 'HENRY HUDSON PKWY WEST',\n",
       " '7 AVENUE',\n",
       " '153 STREET',\n",
       " '39 AVENUE',\n",
       " 'WOODS OF ARDEN ROAD',\n",
       " '218 STREET',\n",
       " '108 STREET',\n",
       " '164 STREET',\n",
       " 'DELAFIELD AVENUE',\n",
       " 'WINCHESTER BOULEVARD',\n",
       " '48 AVENUE',\n",
       " 'GREENPOINT AVENUE',\n",
       " 'WEST 141 STREET',\n",
       " 'EAST 55 STREET',\n",
       " '253 STREET',\n",
       " '8 AVENUE',\n",
       " 'WEST STREET',\n",
       " '38 AVENUE',\n",
       " 'CROPSEY AVENUE',\n",
       " 'VAN NEST AVENUE',\n",
       " '161 STREET',\n",
       " '36 STREET',\n",
       " 'YELLOWSTONE BOULEVARD',\n",
       " 'EBONY COURT',\n",
       " '138 ROAD',\n",
       " '203 STREET',\n",
       " 'BRUCKNER EXPRESSWAY ENTRANCE WB',\n",
       " '112 STREET',\n",
       " '155 AVENUE',\n",
       " 'MOTHER GASTON BOULEVARD',\n",
       " '230 ST',\n",
       " 'VAN ZANDT AVENUE',\n",
       " '2 AVE',\n",
       " 'BRIGHTWATER COURT',\n",
       " 'BLEECKER STREET',\n",
       " 'VAN CORTLANDT PARK SOUTH',\n",
       " 'RICHMOND TERRACE',\n",
       " 'WOODROW ROAD',\n",
       " 'DEAD END',\n",
       " 'YORK AVENUE',\n",
       " 'CLEARVIEW EXPRESSWAY',\n",
       " 'WEST HOUSTON STREET',\n",
       " 'BELT PARKWAY',\n",
       " '69 PLACE',\n",
       " 'AMSTERDAM',\n",
       " 'EAST 66 STREET',\n",
       " 'CROSS BRONX EXPRESSWAY',\n",
       " 'FDR DRIVE',\n",
       " 'EAST HOUSTON STREET',\n",
       " 'BROADWAY',\n",
       " '5 AVENUE',\n",
       " '41 ROAD',\n",
       " 'WINCHESTER AVENUE',\n",
       " 'ROE STREET',\n",
       " '228 STREET',\n",
       " 'EXIT 21',\n",
       " 'ELIZABETH STREET',\n",
       " 'SETON PLACE',\n",
       " 'WEST 161 STREET',\n",
       " 'VAN WYCK EXPRESSWAY EXIT',\n",
       " 'GRAND CENTRAL PARKWAY']"
      ]
     },
     "execution_count": 14,
     "metadata": {},
     "output_type": "execute_result"
    }
   ],
   "source": [
    "outliers"
   ]
  },
  {
   "cell_type": "code",
   "execution_count": 15,
   "metadata": {},
   "outputs": [],
   "source": [
    "ensemble.update(outliers)"
   ]
  },
  {
   "cell_type": "code",
   "execution_count": 16,
   "metadata": {},
   "outputs": [],
   "source": [
    "from openclean.profiling.anomalies.sklearn import robust_covariance\n",
    "\n",
    "outliers = robust_covariance(df, 'street')"
   ]
  },
  {
   "cell_type": "code",
   "execution_count": 17,
   "metadata": {},
   "outputs": [
    {
     "data": {
      "text/plain": [
       "['77 STREET',\n",
       " 'CROSS BX EXPRESSWAY ENTRANCE WB',\n",
       " 'WEST END AVENUE',\n",
       " 'EXIT 25',\n",
       " '169 STREET',\n",
       " '1 AVENUE',\n",
       " 'WEST 39 STREET',\n",
       " 'E 9 ST',\n",
       " 'ASTOR PLACE',\n",
       " '55 STREET',\n",
       " 'BARRYSTREET',\n",
       " 'E 125 ST',\n",
       " 'WEST 162 STREET',\n",
       " 'BEND',\n",
       " 'MADISON AVENUE',\n",
       " 'PARK AVENUE',\n",
       " '7 AVENUE',\n",
       " '164 STREET',\n",
       " 'BRUCKNER EXPRESSWAY ENTRANCE WB',\n",
       " '230 ST',\n",
       " '2 AVE',\n",
       " 'VAN CORTLANDT PARK SOUTH',\n",
       " 'DEAD END',\n",
       " 'BROADWAY',\n",
       " '5 AVENUE',\n",
       " 'VAN WYCK EXPRESSWAY EXIT']"
      ]
     },
     "execution_count": 17,
     "metadata": {},
     "output_type": "execute_result"
    }
   ],
   "source": [
    "outliers"
   ]
  },
  {
   "cell_type": "code",
   "execution_count": 18,
   "metadata": {},
   "outputs": [],
   "source": [
    "ensemble.update(outliers)"
   ]
  },
  {
   "cell_type": "code",
   "execution_count": 22,
   "metadata": {},
   "outputs": [
    {
     "name": "stdout",
     "output_type": "stream",
     "text": [
      "5\t5 AVENUE\n",
      "\n",
      "4\tCROSS BX EXPRESSWAY ENTRANCE WB\n",
      "4\tEXIT 25\n",
      "4\tWEST 39 STREET\n",
      "4\tE 9 ST\n",
      "4\tBARRYSTREET\n",
      "4\tE 125 ST\n",
      "4\tWEST 162 STREET\n",
      "4\tBEND\n",
      "4\tMADISON AVENUE\n",
      "4\t7 AVENUE\n",
      "4\tBRUCKNER EXPRESSWAY ENTRANCE WB\n",
      "4\t230 ST\n",
      "4\t2 AVE\n",
      "4\tDEAD END\n",
      "4\tBROADWAY\n",
      "\n",
      "3\tGREENWICH\n",
      "3\t169 STREET\n",
      "3\tCORTLAND PARK EXIT 11\n",
      "3\t164 STREET\n",
      "3\t138 ROAD\n",
      "3\tWEST HOUSTON STREET\n",
      "3\tAMSTERDAM\n",
      "3\t1 AVENUE\n",
      "3\tASTOR PLACE\n",
      "3\tPARK AVENUE\n"
     ]
    }
   ],
   "source": [
    "prev = 0\n",
    "for value, count in ensemble.most_common():\n",
    "    if count < 3:\n",
    "        break\n",
    "    if count < prev:\n",
    "        print()\n",
    "    print('{}\\t{}'.format(count, value))\n",
    "    prev = count"
   ]
  },
  {
   "cell_type": "code",
   "execution_count": null,
   "metadata": {},
   "outputs": [],
   "source": []
  }
 ],
 "metadata": {
  "kernelspec": {
   "display_name": "Python 3",
   "language": "python",
   "name": "python3"
  },
  "language_info": {
   "codemirror_mode": {
    "name": "ipython",
    "version": 3
   },
   "file_extension": ".py",
   "mimetype": "text/x-python",
   "name": "python",
   "nbconvert_exporter": "python",
   "pygments_lexer": "ipython3",
   "version": "3.8.1"
  }
 },
 "nbformat": 4,
 "nbformat_minor": 4
}
