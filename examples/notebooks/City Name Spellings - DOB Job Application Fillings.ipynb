{
 "cells": [
  {
   "cell_type": "code",
   "execution_count": 2,
   "metadata": {},
   "outputs": [],
   "source": [
    "from openclean.data.load import stream\n",
    "\n",
    "df = stream('ic3t-wcy2.tsv.gz')"
   ]
  },
  {
   "cell_type": "code",
   "execution_count": 3,
   "metadata": {},
   "outputs": [
    {
     "name": "stdout",
     "output_type": "stream",
     "text": [
      "0 Job #\n",
      "1 Doc #\n",
      "2 Borough\n",
      "3 House #\n",
      "4 Street Name\n",
      "5 Block\n",
      "6 Lot\n",
      "7 Bin #\n",
      "8 Job Type\n",
      "9 Job Status\n",
      "10 Job Status Descrp\n",
      "11 Latest Action Date\n",
      "12 Building Type\n",
      "13 Community - Board\n",
      "14 Cluster\n",
      "15 Landmarked\n",
      "16 Adult Estab\n",
      "17 Loft Board\n",
      "18 City Owned\n",
      "19 Little e\n",
      "20 PC Filed\n",
      "21 eFiling Filed\n",
      "22 Plumbing\n",
      "23 Mechanical\n",
      "24 Boiler\n",
      "25 Fuel Burning\n",
      "26 Fuel Storage\n",
      "27 Standpipe\n",
      "28 Sprinkler\n",
      "29 Fire Alarm\n",
      "30 Equipment\n",
      "31 Fire Suppression\n",
      "32 Curb Cut\n",
      "33 Other\n",
      "34 Other Description\n",
      "35 Applicant's First Name\n",
      "36 Applicant's Last Name\n",
      "37 Applicant Professional Title\n",
      "38 Applicant License #\n",
      "39 Professional Cert\n",
      "40 Pre- Filing Date\n",
      "41 Paid\n",
      "42 Fully Paid\n",
      "43 Assigned\n",
      "44 Approved\n",
      "45 Fully Permitted\n",
      "46 Initial Cost\n",
      "47 Total Est. Fee\n",
      "48 Fee Status\n",
      "49 Existing Zoning Sqft\n",
      "50 Proposed Zoning Sqft\n",
      "51 Horizontal Enlrgmt\n",
      "52 Vertical Enlrgmt\n",
      "53 Enlargement SQ Footage\n",
      "54 Street Frontage\n",
      "55 ExistingNo. of Stories\n",
      "56 Proposed No. of Stories\n",
      "57 Existing Height\n",
      "58 Proposed Height\n",
      "59 Existing Dwelling Units\n",
      "60 Proposed Dwelling Units\n",
      "61 Existing Occupancy\n",
      "62 Proposed Occupancy\n",
      "63 Site Fill\n",
      "64 Zoning Dist1\n",
      "65 Zoning Dist2\n",
      "66 Zoning Dist3\n",
      "67 Special District 1\n",
      "68 Special District 2\n",
      "69 Owner Type\n",
      "70 Non-Profit\n",
      "71 Owner's First Name\n",
      "72 Owner's Last Name\n",
      "73 Owner's Business Name\n",
      "74 Owner's House Number\n",
      "75 Owner'sHouse Street Name\n",
      "76 City\n",
      "77 State\n",
      "78 Zip\n",
      "79 Owner'sPhone #\n",
      "80 Job Description\n",
      "81 DOBRunDate\n",
      "82 JOB_S1_NO\n",
      "83 TOTAL_CONSTRUCTION_FLOOR_AREA\n",
      "84 WITHDRAWAL_FLAG\n",
      "85 SIGNOFF_DATE\n",
      "86 SPECIAL_ACTION_STATUS\n",
      "87 SPECIAL_ACTION_DATE\n",
      "88 BUILDING_CLASS\n",
      "89 JOB_NO_GOOD_COUNT\n",
      "90 GIS_LATITUDE\n",
      "91 GIS_LONGITUDE\n",
      "92 GIS_COUNCIL_DISTRICT\n",
      "93 GIS_CENSUS_TRACT\n",
      "94 GIS_NTA_NAME\n",
      "95 GIS_BIN\n"
     ]
    }
   ],
   "source": [
    "for i, col in enumerate(df.columns):\n",
    "    print('{} {}'.format(i, col))"
   ]
  },
  {
   "cell_type": "code",
   "execution_count": 4,
   "metadata": {},
   "outputs": [],
   "source": [
    "from openclean.function.eval.domain import IsNotIn\n",
    "\n",
    "df = df\\\n",
    "    .select('Borough', 'Street Name', 'City', 'State', 'Zip')\\\n",
    "    .limit(10000)"
   ]
  },
  {
   "cell_type": "code",
   "execution_count": 5,
   "metadata": {},
   "outputs": [],
   "source": [
    "from openclean.operator import apply\n",
    "\n",
    "df = apply(df, 'City', str.upper)"
   ]
  },
  {
   "cell_type": "code",
   "execution_count": 6,
   "metadata": {},
   "outputs": [],
   "source": [
    "from openclean. function.value.phonetic import Soundex\n",
    "from openclean.operator import groupby\n",
    "\n",
    "soundex = Soundex()\n",
    "\n",
    "groups = groupby(df, 'City', soundex)"
   ]
  },
  {
   "cell_type": "code",
   "execution_count": 7,
   "metadata": {},
   "outputs": [],
   "source": [
    "from openclean.function.eval.base import Col\n",
    "from openclean.operator import filter\n",
    "\n",
    "brooklyn = filter(groups.get(soundex('BROOKLYN')), Col('City') != 'BROOKLYN')"
   ]
  },
  {
   "cell_type": "code",
   "execution_count": 8,
   "metadata": {},
   "outputs": [
    {
     "data": {
      "text/html": [
       "<div>\n",
       "<style scoped>\n",
       "    .dataframe tbody tr th:only-of-type {\n",
       "        vertical-align: middle;\n",
       "    }\n",
       "\n",
       "    .dataframe tbody tr th {\n",
       "        vertical-align: top;\n",
       "    }\n",
       "\n",
       "    .dataframe thead th {\n",
       "        text-align: right;\n",
       "    }\n",
       "</style>\n",
       "<table border=\"1\" class=\"dataframe\">\n",
       "  <thead>\n",
       "    <tr style=\"text-align: right;\">\n",
       "      <th></th>\n",
       "      <th>Borough</th>\n",
       "      <th>Street Name</th>\n",
       "      <th>City</th>\n",
       "      <th>State</th>\n",
       "      <th>Zip</th>\n",
       "    </tr>\n",
       "  </thead>\n",
       "  <tbody>\n",
       "    <tr>\n",
       "      <th>9209</th>\n",
       "      <td>BRONX</td>\n",
       "      <td>EAST  148 STREET</td>\n",
       "      <td>BROOKLYM</td>\n",
       "      <td>NY</td>\n",
       "      <td>11205</td>\n",
       "    </tr>\n",
       "  </tbody>\n",
       "</table>\n",
       "</div>"
      ],
      "text/plain": [
       "     Borough       Street Name      City State    Zip\n",
       "9209   BRONX  EAST  148 STREET  BROOKLYM    NY  11205"
      ]
     },
     "execution_count": 8,
     "metadata": {},
     "output_type": "execute_result"
    }
   ],
   "source": [
    "brooklyn"
   ]
  }
 ],
 "metadata": {
  "kernelspec": {
   "display_name": "Python 3",
   "language": "python",
   "name": "python3"
  },
  "language_info": {
   "codemirror_mode": {
    "name": "ipython",
    "version": 3
   },
   "file_extension": ".py",
   "mimetype": "text/x-python",
   "name": "python",
   "nbconvert_exporter": "python",
   "pygments_lexer": "ipython3",
   "version": "3.8.5"
  }
 },
 "nbformat": 4,
 "nbformat_minor": 4
}
