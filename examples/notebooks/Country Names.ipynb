{
 "cells": [
  {
   "cell_type": "markdown",
   "metadata": {},
   "source": [
    "# Country Names Example\n",
    "\n",
    "This notebook contains an example that uses the list of country names provided by the restcountries project to identify potential misspelled names in the 'ITU ICT Development Index (IDI)'."
   ]
  },
  {
   "cell_type": "markdown",
   "metadata": {},
   "source": [
    "## Download Country Names Masterdata"
   ]
  },
  {
   "cell_type": "code",
   "execution_count": 1,
   "metadata": {},
   "outputs": [],
   "source": [
    "# Create a new local archive for the countries dataset. All archive data will be stored in\n",
    "# a sub-folder of the users home directory. Set the environment variable 'OPENCLEAN_MASTERDATA_DIR'\n",
    "# to change the default behaviour.\n",
    "\n",
    "import os\n",
    "\n",
    "from openclean.config import ENV_MASTERDATA_DIR\n",
    "\n",
    "os.environ[ENV_MASTERDATA_DIR] = './data'"
   ]
  },
  {
   "cell_type": "code",
   "execution_count": 2,
   "metadata": {},
   "outputs": [
    {
     "name": "stdout",
     "output_type": "stream",
     "text": [
      "             name alpha2Code alpha3Code    capital   region        subregion\n",
      "0     Afghanistan         AF        AFG      Kabul     Asia    Southern Asia\n",
      "1   Åland Islands         AX        ALA  Mariehamn   Europe  Northern Europe\n",
      "2         Albania         AL        ALB     Tirana   Europe  Southern Europe\n",
      "3         Algeria         DZ        DZA    Algiers   Africa  Northern Africa\n",
      "4  American Samoa         AS        ASM  Pago Pago  Oceania        Polynesia\n"
     ]
    },
    {
     "data": {
      "text/plain": [
       "<Snapshot (version=0 description='' at=2021-01-11 15:36:03.674996-05:00)>"
      ]
     },
     "execution_count": 2,
     "metadata": {},
     "output_type": "execute_result"
    }
   ],
   "source": [
    "# Download the current listing of country names in the world.\n",
    "\n",
    "from openclean.data.source.restcountries import RestcountriesRepository, COUNTRIES\n",
    "\n",
    "import openclean.data.masterdata as masterdata\n",
    "\n",
    "countries = RestcountriesRepository().dataset(COUNTRIES).load()\n",
    "\n",
    "print(countries.head())\n",
    "\n",
    "archive = masterdata.create('restcountries', primary_key=['alpha3Code'], replace=True)\n",
    "archive.commit(countries)"
   ]
  },
  {
   "cell_type": "markdown",
   "metadata": {},
   "source": [
    "## Identify Country Name Outliers in ITU ICT Development Index (IDI)"
   ]
  },
  {
   "cell_type": "code",
   "execution_count": 3,
   "metadata": {},
   "outputs": [
    {
     "data": {
      "text/html": [
       "<div>\n",
       "<style scoped>\n",
       "    .dataframe tbody tr th:only-of-type {\n",
       "        vertical-align: middle;\n",
       "    }\n",
       "\n",
       "    .dataframe tbody tr th {\n",
       "        vertical-align: top;\n",
       "    }\n",
       "\n",
       "    .dataframe thead th {\n",
       "        text-align: right;\n",
       "    }\n",
       "</style>\n",
       "<table border=\"1\" class=\"dataframe\">\n",
       "  <thead>\n",
       "    <tr style=\"text-align: right;\">\n",
       "      <th></th>\n",
       "      <th>year</th>\n",
       "      <th>country_id</th>\n",
       "      <th>country_name</th>\n",
       "      <th>sub_index</th>\n",
       "      <th>value_type</th>\n",
       "      <th>value</th>\n",
       "    </tr>\n",
       "  </thead>\n",
       "  <tbody>\n",
       "    <tr>\n",
       "      <th>0</th>\n",
       "      <td>2015</td>\n",
       "      <td>KOR</td>\n",
       "      <td>Korea (Rep.)</td>\n",
       "      <td>NaN</td>\n",
       "      <td>rank</td>\n",
       "      <td>1.0</td>\n",
       "    </tr>\n",
       "    <tr>\n",
       "      <th>1</th>\n",
       "      <td>2015</td>\n",
       "      <td>DNK</td>\n",
       "      <td>Denmark</td>\n",
       "      <td>NaN</td>\n",
       "      <td>rank</td>\n",
       "      <td>2.0</td>\n",
       "    </tr>\n",
       "    <tr>\n",
       "      <th>2</th>\n",
       "      <td>2015</td>\n",
       "      <td>ISL</td>\n",
       "      <td>Iceland</td>\n",
       "      <td>NaN</td>\n",
       "      <td>rank</td>\n",
       "      <td>3.0</td>\n",
       "    </tr>\n",
       "    <tr>\n",
       "      <th>3</th>\n",
       "      <td>2015</td>\n",
       "      <td>GBR</td>\n",
       "      <td>United Kingdom</td>\n",
       "      <td>NaN</td>\n",
       "      <td>rank</td>\n",
       "      <td>4.0</td>\n",
       "    </tr>\n",
       "    <tr>\n",
       "      <th>4</th>\n",
       "      <td>2015</td>\n",
       "      <td>SWE</td>\n",
       "      <td>Sweden</td>\n",
       "      <td>NaN</td>\n",
       "      <td>rank</td>\n",
       "      <td>5.0</td>\n",
       "    </tr>\n",
       "  </tbody>\n",
       "</table>\n",
       "</div>"
      ],
      "text/plain": [
       "   year country_id    country_name sub_index value_type  value\n",
       "0  2015        KOR    Korea (Rep.)       NaN       rank    1.0\n",
       "1  2015        DNK         Denmark       NaN       rank    2.0\n",
       "2  2015        ISL         Iceland       NaN       rank    3.0\n",
       "3  2015        GBR  United Kingdom       NaN       rank    4.0\n",
       "4  2015        SWE          Sweden       NaN       rank    5.0"
      ]
     },
     "execution_count": 3,
     "metadata": {},
     "output_type": "execute_result"
    }
   ],
   "source": [
    "# Download the latest version of the 'ITU ICT Development Index (IDI)' from Socrata.\n",
    "\n",
    "import os\n",
    "\n",
    "from openclean.data.source.socrata import Socrata\n",
    "\n",
    "idi = Socrata().dataset('3bxy-wfk9').load()\n",
    "idi.head()"
   ]
  },
  {
   "cell_type": "code",
   "execution_count": 4,
   "metadata": {},
   "outputs": [
    {
     "data": {
      "text/plain": [
       "['Korea (Rep.)',\n",
       " 'United Kingdom',\n",
       " 'Hong Kong, China',\n",
       " 'United States',\n",
       " 'Macao, China',\n",
       " 'TFYR Macedonia',\n",
       " 'Antigua & Barbuda',\n",
       " 'St. Kitts and Nevis',\n",
       " 'Moldova',\n",
       " 'St. Vincent and the Grenadines',\n",
       " 'Trinidad & Tobago',\n",
       " 'Venezuela',\n",
       " 'St. Lucia',\n",
       " 'Iran (I.R.)',\n",
       " 'Cape Verde',\n",
       " 'Dominican Rep.',\n",
       " 'Bolivia',\n",
       " 'Syria',\n",
       " \"C™te d'Ivoire\",\n",
       " 'Lao P.D.R.',\n",
       " 'Congo (Rep.)',\n",
       " 'Tanzania',\n",
       " 'Congo (Dem. Rep.)']"
      ]
     },
     "execution_count": 4,
     "metadata": {},
     "output_type": "execute_result"
    }
   ],
   "source": [
    "# Use the restcountries country names as the ground truth domain to identify names in the\n",
    "# IDI that do not occur in the grounth truth.\n",
    "\n",
    "from openclean.profiling.anomalies.domain import domain_outliers\n",
    "\n",
    "unknown_countries = domain_outliers(idi, 'country_name', countries['name'])\n",
    "\n",
    "unknown_countries"
   ]
  },
  {
   "cell_type": "markdown",
   "metadata": {},
   "source": [
    "## Repair Contry Name Outliers in ITU ICT Development Index (IDI)"
   ]
  },
  {
   "cell_type": "code",
   "execution_count": 5,
   "metadata": {},
   "outputs": [
    {
     "data": {
      "text/plain": [
       "[]"
      ]
     },
     "execution_count": 5,
     "metadata": {},
     "output_type": "execute_result"
    }
   ],
   "source": [
    "# Use the restcountries country codes as the ground truth domain to identify country identifier in the\n",
    "# IDI that do not occur in the grounth truth.\n",
    "\n",
    "unknown_codes = domain_outliers(idi, 'country_id', countries['alpha3Code'])\n",
    "\n",
    "unknown_codes"
   ]
  },
  {
   "cell_type": "code",
   "execution_count": 6,
   "metadata": {},
   "outputs": [
    {
     "name": "stdout",
     "output_type": "stream",
     "text": [
      "Replace {} with {}\n",
      "------------------\n",
      "'Korea (Rep.)' -> 'Korea (Republic of)'\n",
      "'United Kingdom' -> 'United Kingdom of Great Britain and Northern Ireland'\n",
      "'Hong Kong, China' -> 'Hong Kong'\n",
      "'United States' -> 'United States of America'\n",
      "'Macao, China' -> 'Macao'\n",
      "'TFYR Macedonia' -> 'Macedonia (the former Yugoslav Republic of)'\n",
      "'Antigua & Barbuda' -> 'Antigua and Barbuda'\n",
      "'St. Kitts and Nevis' -> 'Saint Kitts and Nevis'\n",
      "'Moldova' -> 'Moldova (Republic of)'\n",
      "'St. Vincent and the Grenadines' -> 'Saint Vincent and the Grenadines'\n",
      "'Trinidad & Tobago' -> 'Trinidad and Tobago'\n",
      "'Venezuela' -> 'Venezuela (Bolivarian Republic of)'\n",
      "'St. Lucia' -> 'Saint Lucia'\n",
      "'Iran (I.R.)' -> 'Iran (Islamic Republic of)'\n",
      "'Cape Verde' -> 'Cabo Verde'\n",
      "'Dominican Rep.' -> 'Dominican Republic'\n",
      "'Bolivia' -> 'Bolivia (Plurinational State of)'\n",
      "'Syria' -> 'Syrian Arab Republic'\n",
      "'C™te d'Ivoire' -> 'Côte d'Ivoire'\n",
      "'Lao P.D.R.' -> 'Lao People's Democratic Republic'\n",
      "'Congo (Rep.)' -> 'Congo'\n",
      "'Tanzania' -> 'Tanzania, United Republic of'\n",
      "'Congo (Dem. Rep.)' -> 'Congo (Democratic Republic of the)'\n"
     ]
    }
   ],
   "source": [
    "# User the country codes in the IDI datasets to create a mapping from the identified outliers in IDI to the\n",
    "# country name in the ground truth dataset.\n",
    "\n",
    "import pandas as pd\n",
    "\n",
    "from openclean.data.util import repair_mapping\n",
    "\n",
    "# Create a dictionary that maps the 'unknown' country names from the IDI dataset to the respective\n",
    "# ground truth name based on the contry code.\n",
    "\n",
    "df = pd.merge(idi, countries, left_on='country_id', right_on='alpha3Code')\n",
    "lookup = repair_mapping(df, key='country_name', value='name')\n",
    "\n",
    "print('Replace {} with {}\\n------------------')\n",
    "for key, value in lookup.items():\n",
    "    print(\"'{}' -> '{}'\".format(key, value))"
   ]
  },
  {
   "cell_type": "code",
   "execution_count": 7,
   "metadata": {},
   "outputs": [],
   "source": [
    "# Use the mapping to replace unknown country names in IDI with their respective\n",
    "# ground truth value.\n",
    "\n",
    "from openclean.function.eval.domain import Lookup\n",
    "from openclean.operator.transform.update import update\n",
    "\n",
    "idi_repaired = update(idi, 'country_name', Lookup('country_name', lookup))"
   ]
  },
  {
   "cell_type": "code",
   "execution_count": 8,
   "metadata": {},
   "outputs": [
    {
     "data": {
      "text/html": [
       "<div>\n",
       "<style scoped>\n",
       "    .dataframe tbody tr th:only-of-type {\n",
       "        vertical-align: middle;\n",
       "    }\n",
       "\n",
       "    .dataframe tbody tr th {\n",
       "        vertical-align: top;\n",
       "    }\n",
       "\n",
       "    .dataframe thead th {\n",
       "        text-align: right;\n",
       "    }\n",
       "</style>\n",
       "<table border=\"1\" class=\"dataframe\">\n",
       "  <thead>\n",
       "    <tr style=\"text-align: right;\">\n",
       "      <th></th>\n",
       "      <th>year</th>\n",
       "      <th>country_id</th>\n",
       "      <th>country_name</th>\n",
       "      <th>sub_index</th>\n",
       "      <th>value_type</th>\n",
       "      <th>value</th>\n",
       "    </tr>\n",
       "  </thead>\n",
       "  <tbody>\n",
       "    <tr>\n",
       "      <th>0</th>\n",
       "      <td>2015</td>\n",
       "      <td>KOR</td>\n",
       "      <td>Korea (Republic of)</td>\n",
       "      <td>NaN</td>\n",
       "      <td>rank</td>\n",
       "      <td>1</td>\n",
       "    </tr>\n",
       "    <tr>\n",
       "      <th>1</th>\n",
       "      <td>2015</td>\n",
       "      <td>DNK</td>\n",
       "      <td>Denmark</td>\n",
       "      <td>NaN</td>\n",
       "      <td>rank</td>\n",
       "      <td>2</td>\n",
       "    </tr>\n",
       "    <tr>\n",
       "      <th>2</th>\n",
       "      <td>2015</td>\n",
       "      <td>ISL</td>\n",
       "      <td>Iceland</td>\n",
       "      <td>NaN</td>\n",
       "      <td>rank</td>\n",
       "      <td>3</td>\n",
       "    </tr>\n",
       "    <tr>\n",
       "      <th>3</th>\n",
       "      <td>2015</td>\n",
       "      <td>GBR</td>\n",
       "      <td>United Kingdom of Great Britain and Northern I...</td>\n",
       "      <td>NaN</td>\n",
       "      <td>rank</td>\n",
       "      <td>4</td>\n",
       "    </tr>\n",
       "    <tr>\n",
       "      <th>4</th>\n",
       "      <td>2015</td>\n",
       "      <td>SWE</td>\n",
       "      <td>Sweden</td>\n",
       "      <td>NaN</td>\n",
       "      <td>rank</td>\n",
       "      <td>5</td>\n",
       "    </tr>\n",
       "  </tbody>\n",
       "</table>\n",
       "</div>"
      ],
      "text/plain": [
       "   year country_id                                       country_name  \\\n",
       "0  2015        KOR                                Korea (Republic of)   \n",
       "1  2015        DNK                                            Denmark   \n",
       "2  2015        ISL                                            Iceland   \n",
       "3  2015        GBR  United Kingdom of Great Britain and Northern I...   \n",
       "4  2015        SWE                                             Sweden   \n",
       "\n",
       "  sub_index value_type value  \n",
       "0       NaN       rank     1  \n",
       "1       NaN       rank     2  \n",
       "2       NaN       rank     3  \n",
       "3       NaN       rank     4  \n",
       "4       NaN       rank     5  "
      ]
     },
     "execution_count": 8,
     "metadata": {},
     "output_type": "execute_result"
    }
   ],
   "source": [
    "idi_repaired.head()"
   ]
  }
 ],
 "metadata": {
  "kernelspec": {
   "display_name": "Python 3",
   "language": "python",
   "name": "python3"
  },
  "language_info": {
   "codemirror_mode": {
    "name": "ipython",
    "version": 3
   },
   "file_extension": ".py",
   "mimetype": "text/x-python",
   "name": "python",
   "nbconvert_exporter": "python",
   "pygments_lexer": "ipython3",
   "version": "3.8.5"
  }
 },
 "nbformat": 4,
 "nbformat_minor": 4
}
