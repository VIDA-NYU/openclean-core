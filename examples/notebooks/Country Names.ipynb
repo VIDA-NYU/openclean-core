{
 "cells": [
  {
   "cell_type": "code",
   "execution_count": 1,
   "metadata": {},
   "outputs": [],
   "source": [
    "from openclean.data import load\n",
    "\n",
    "df = load('3bxy-wfk9.tsv.gz')"
   ]
  },
  {
   "cell_type": "code",
   "execution_count": 2,
   "metadata": {},
   "outputs": [
    {
     "data": {
      "text/html": [
       "<div>\n",
       "<style scoped>\n",
       "    .dataframe tbody tr th:only-of-type {\n",
       "        vertical-align: middle;\n",
       "    }\n",
       "\n",
       "    .dataframe tbody tr th {\n",
       "        vertical-align: top;\n",
       "    }\n",
       "\n",
       "    .dataframe thead th {\n",
       "        text-align: right;\n",
       "    }\n",
       "</style>\n",
       "<table border=\"1\" class=\"dataframe\">\n",
       "  <thead>\n",
       "    <tr style=\"text-align: right;\">\n",
       "      <th></th>\n",
       "      <th>year</th>\n",
       "      <th>country_id</th>\n",
       "      <th>country_name</th>\n",
       "      <th>sub_index</th>\n",
       "      <th>value_type</th>\n",
       "      <th>value</th>\n",
       "    </tr>\n",
       "  </thead>\n",
       "  <tbody>\n",
       "    <tr>\n",
       "      <th>0</th>\n",
       "      <td>2015</td>\n",
       "      <td>KOR</td>\n",
       "      <td>Korea (Rep.)</td>\n",
       "      <td></td>\n",
       "      <td>rank</td>\n",
       "      <td>1</td>\n",
       "    </tr>\n",
       "    <tr>\n",
       "      <th>1</th>\n",
       "      <td>2015</td>\n",
       "      <td>DNK</td>\n",
       "      <td>Denmark</td>\n",
       "      <td></td>\n",
       "      <td>rank</td>\n",
       "      <td>2</td>\n",
       "    </tr>\n",
       "    <tr>\n",
       "      <th>2</th>\n",
       "      <td>2015</td>\n",
       "      <td>ISL</td>\n",
       "      <td>Iceland</td>\n",
       "      <td></td>\n",
       "      <td>rank</td>\n",
       "      <td>3</td>\n",
       "    </tr>\n",
       "    <tr>\n",
       "      <th>3</th>\n",
       "      <td>2015</td>\n",
       "      <td>GBR</td>\n",
       "      <td>United Kingdom</td>\n",
       "      <td></td>\n",
       "      <td>rank</td>\n",
       "      <td>4</td>\n",
       "    </tr>\n",
       "    <tr>\n",
       "      <th>4</th>\n",
       "      <td>2015</td>\n",
       "      <td>SWE</td>\n",
       "      <td>Sweden</td>\n",
       "      <td></td>\n",
       "      <td>rank</td>\n",
       "      <td>5</td>\n",
       "    </tr>\n",
       "  </tbody>\n",
       "</table>\n",
       "</div>"
      ],
      "text/plain": [
       "   year country_id    country_name sub_index value_type value\n",
       "0  2015        KOR    Korea (Rep.)                 rank     1\n",
       "1  2015        DNK         Denmark                 rank     2\n",
       "2  2015        ISL         Iceland                 rank     3\n",
       "3  2015        GBR  United Kingdom                 rank     4\n",
       "4  2015        SWE          Sweden                 rank     5"
      ]
     },
     "execution_count": 2,
     "metadata": {},
     "output_type": "execute_result"
    }
   ],
   "source": [
    "df.head()"
   ]
  },
  {
   "cell_type": "code",
   "execution_count": 3,
   "metadata": {},
   "outputs": [
    {
     "data": {
      "text/html": [
       "<div>\n",
       "<style scoped>\n",
       "    .dataframe tbody tr th:only-of-type {\n",
       "        vertical-align: middle;\n",
       "    }\n",
       "\n",
       "    .dataframe tbody tr th {\n",
       "        vertical-align: top;\n",
       "    }\n",
       "\n",
       "    .dataframe thead th {\n",
       "        text-align: right;\n",
       "    }\n",
       "</style>\n",
       "<table border=\"1\" class=\"dataframe\">\n",
       "  <thead>\n",
       "    <tr style=\"text-align: right;\">\n",
       "      <th></th>\n",
       "      <th>name</th>\n",
       "      <th>alpha2Code</th>\n",
       "      <th>alpha3Code</th>\n",
       "      <th>capital</th>\n",
       "      <th>region</th>\n",
       "      <th>subregion</th>\n",
       "    </tr>\n",
       "  </thead>\n",
       "  <tbody>\n",
       "    <tr>\n",
       "      <th>0</th>\n",
       "      <td>Afghanistan</td>\n",
       "      <td>AF</td>\n",
       "      <td>AFG</td>\n",
       "      <td>Kabul</td>\n",
       "      <td>Asia</td>\n",
       "      <td>Southern Asia</td>\n",
       "    </tr>\n",
       "    <tr>\n",
       "      <th>1</th>\n",
       "      <td>Åland Islands</td>\n",
       "      <td>AX</td>\n",
       "      <td>ALA</td>\n",
       "      <td>Mariehamn</td>\n",
       "      <td>Europe</td>\n",
       "      <td>Northern Europe</td>\n",
       "    </tr>\n",
       "    <tr>\n",
       "      <th>2</th>\n",
       "      <td>Albania</td>\n",
       "      <td>AL</td>\n",
       "      <td>ALB</td>\n",
       "      <td>Tirana</td>\n",
       "      <td>Europe</td>\n",
       "      <td>Southern Europe</td>\n",
       "    </tr>\n",
       "    <tr>\n",
       "      <th>3</th>\n",
       "      <td>Algeria</td>\n",
       "      <td>DZ</td>\n",
       "      <td>DZA</td>\n",
       "      <td>Algiers</td>\n",
       "      <td>Africa</td>\n",
       "      <td>Northern Africa</td>\n",
       "    </tr>\n",
       "    <tr>\n",
       "      <th>4</th>\n",
       "      <td>American Samoa</td>\n",
       "      <td>AS</td>\n",
       "      <td>ASM</td>\n",
       "      <td>Pago Pago</td>\n",
       "      <td>Oceania</td>\n",
       "      <td>Polynesia</td>\n",
       "    </tr>\n",
       "  </tbody>\n",
       "</table>\n",
       "</div>"
      ],
      "text/plain": [
       "             name alpha2Code alpha3Code    capital   region        subregion\n",
       "0     Afghanistan         AF        AFG      Kabul     Asia    Southern Asia\n",
       "1   Åland Islands         AX        ALA  Mariehamn   Europe  Northern Europe\n",
       "2         Albania         AL        ALB     Tirana   Europe  Southern Europe\n",
       "3         Algeria         DZ        DZA    Algiers   Africa  Northern Africa\n",
       "4  American Samoa         AS        ASM  Pago Pago  Oceania        Polynesia"
      ]
     },
     "execution_count": 3,
     "metadata": {},
     "output_type": "execute_result"
    }
   ],
   "source": [
    "from openclean.data import masterdata\n",
    "\n",
    "# masterdata.download('restcountries.eu')\n",
    "countries_groundtruth = load('restcountries.eu')\n",
    "countries_groundtruth.head()"
   ]
  },
  {
   "cell_type": "code",
   "execution_count": 4,
   "metadata": {},
   "outputs": [
    {
     "name": "stdout",
     "output_type": "stream",
     "text": [
      "Feature({'Africa': 0.24, 'Americas': 0.228, 'Europe': 0.212, 'Asia': 0.2, 'Oceania': 0.108, '': 0.008, 'Polar': 0.004})\n",
      "['', 'Polar']\n"
     ]
    }
   ],
   "source": [
    "from openclean.function.value.comp import lt\n",
    "from openclean.function.value.normalize import divide_by_total\n",
    "from openclean.profiling.anomalies.frequency import frequency_outliers\n",
    "from openclean.profiling.distinct import distinct\n",
    "\n",
    "top_regions = distinct(countries_groundtruth, 'region').normalize(divide_by_total)\n",
    "# top_regions = apply(distinct(countries_groundtruth, 'region'), 'count', divide_by_total)\n",
    "print(top_regions)\n",
    "rare_region = frequency_outliers(countries_groundtruth, 'region', lt(0.1))\n",
    "print(rare_region)"
   ]
  },
  {
   "cell_type": "code",
   "execution_count": 5,
   "metadata": {},
   "outputs": [],
   "source": [
    "country_names = countries_groundtruth['name']  # or df_restcountries['name']\n",
    "country_codes = countries_groundtruth['alpha3Code']"
   ]
  },
  {
   "cell_type": "code",
   "execution_count": 6,
   "metadata": {},
   "outputs": [
    {
     "data": {
      "text/plain": [
       "250"
      ]
     },
     "execution_count": 6,
     "metadata": {},
     "output_type": "execute_result"
    }
   ],
   "source": [
    "country_names.count()"
   ]
  },
  {
   "cell_type": "code",
   "execution_count": 7,
   "metadata": {},
   "outputs": [],
   "source": [
    "from openclean.profiling.anomalies import domain_outlier\n",
    "unknown_countries = domain_outlier(df, 'country_name', country_names)"
   ]
  },
  {
   "cell_type": "code",
   "execution_count": 8,
   "metadata": {},
   "outputs": [
    {
     "data": {
      "text/plain": [
       "['Bolivia',\n",
       " 'Venezuela',\n",
       " 'Macao, China',\n",
       " \"C™te d'Ivoire\",\n",
       " 'Dominican Rep.',\n",
       " 'Congo (Dem. Rep.)',\n",
       " 'St. Vincent and the Grenadines',\n",
       " 'United Kingdom',\n",
       " 'Congo (Rep.)',\n",
       " 'Lao P.D.R.',\n",
       " 'St. Lucia',\n",
       " 'St. Kitts and Nevis',\n",
       " 'Antigua & Barbuda',\n",
       " 'Iran (I.R.)',\n",
       " 'Moldova',\n",
       " 'United States',\n",
       " 'Cape Verde',\n",
       " 'Syria',\n",
       " 'Korea (Rep.)',\n",
       " 'Tanzania',\n",
       " 'Hong Kong, China',\n",
       " 'Trinidad & Tobago',\n",
       " 'TFYR Macedonia']"
      ]
     },
     "execution_count": 8,
     "metadata": {},
     "output_type": "execute_result"
    }
   ],
   "source": [
    "unknown_countries"
   ]
  },
  {
   "cell_type": "code",
   "execution_count": 9,
   "metadata": {},
   "outputs": [],
   "source": [
    "unknown_codes = domain_outlier(df, 'country_id', country_codes)"
   ]
  },
  {
   "cell_type": "code",
   "execution_count": 10,
   "metadata": {},
   "outputs": [
    {
     "data": {
      "text/plain": [
       "[]"
      ]
     },
     "execution_count": 10,
     "metadata": {},
     "output_type": "execute_result"
    }
   ],
   "source": [
    "unknown_codes"
   ]
  },
  {
   "cell_type": "code",
   "execution_count": 11,
   "metadata": {},
   "outputs": [],
   "source": [
    "from openclean.function.predicate.domain import IsNotIn\n",
    "from openclean.operator.transform.filter import filter\n",
    "\n",
    "df1 = filter(df, IsNotIn('country_name', country_names))"
   ]
  },
  {
   "cell_type": "code",
   "execution_count": 12,
   "metadata": {},
   "outputs": [
    {
     "data": {
      "text/html": [
       "<div>\n",
       "<style scoped>\n",
       "    .dataframe tbody tr th:only-of-type {\n",
       "        vertical-align: middle;\n",
       "    }\n",
       "\n",
       "    .dataframe tbody tr th {\n",
       "        vertical-align: top;\n",
       "    }\n",
       "\n",
       "    .dataframe thead th {\n",
       "        text-align: right;\n",
       "    }\n",
       "</style>\n",
       "<table border=\"1\" class=\"dataframe\">\n",
       "  <thead>\n",
       "    <tr style=\"text-align: right;\">\n",
       "      <th></th>\n",
       "      <th>year</th>\n",
       "      <th>country_id</th>\n",
       "      <th>country_name</th>\n",
       "      <th>sub_index</th>\n",
       "      <th>value_type</th>\n",
       "      <th>value</th>\n",
       "    </tr>\n",
       "  </thead>\n",
       "  <tbody>\n",
       "    <tr>\n",
       "      <th>0</th>\n",
       "      <td>2015</td>\n",
       "      <td>KOR</td>\n",
       "      <td>Korea (Rep.)</td>\n",
       "      <td></td>\n",
       "      <td>rank</td>\n",
       "      <td>1</td>\n",
       "    </tr>\n",
       "    <tr>\n",
       "      <th>3</th>\n",
       "      <td>2015</td>\n",
       "      <td>GBR</td>\n",
       "      <td>United Kingdom</td>\n",
       "      <td></td>\n",
       "      <td>rank</td>\n",
       "      <td>4</td>\n",
       "    </tr>\n",
       "    <tr>\n",
       "      <th>8</th>\n",
       "      <td>2015</td>\n",
       "      <td>HKG</td>\n",
       "      <td>Hong Kong, China</td>\n",
       "      <td></td>\n",
       "      <td>rank</td>\n",
       "      <td>9</td>\n",
       "    </tr>\n",
       "    <tr>\n",
       "      <th>14</th>\n",
       "      <td>2015</td>\n",
       "      <td>USA</td>\n",
       "      <td>United States</td>\n",
       "      <td></td>\n",
       "      <td>rank</td>\n",
       "      <td>15</td>\n",
       "    </tr>\n",
       "    <tr>\n",
       "      <th>23</th>\n",
       "      <td>2015</td>\n",
       "      <td>MAC</td>\n",
       "      <td>Macao, China</td>\n",
       "      <td></td>\n",
       "      <td>rank</td>\n",
       "      <td>24</td>\n",
       "    </tr>\n",
       "  </tbody>\n",
       "</table>\n",
       "</div>"
      ],
      "text/plain": [
       "    year country_id      country_name sub_index value_type value\n",
       "0   2015        KOR      Korea (Rep.)                 rank     1\n",
       "3   2015        GBR    United Kingdom                 rank     4\n",
       "8   2015        HKG  Hong Kong, China                 rank     9\n",
       "14  2015        USA     United States                 rank    15\n",
       "23  2015        MAC      Macao, China                 rank    24"
      ]
     },
     "execution_count": 12,
     "metadata": {},
     "output_type": "execute_result"
    }
   ],
   "source": [
    "df1.head()"
   ]
  },
  {
   "cell_type": "code",
   "execution_count": 13,
   "metadata": {},
   "outputs": [],
   "source": [
    "from openclean.data.transform import to_lookup\n",
    "code_to_name = to_lookup(countries_groundtruth, 'alpha3Code', 'name')"
   ]
  },
  {
   "cell_type": "code",
   "execution_count": 14,
   "metadata": {},
   "outputs": [
    {
     "data": {
      "text/plain": [
       "{'AFG': 'Afghanistan',\n",
       " 'ALA': 'Åland Islands',\n",
       " 'ALB': 'Albania',\n",
       " 'DZA': 'Algeria',\n",
       " 'ASM': 'American Samoa',\n",
       " 'AND': 'Andorra',\n",
       " 'AGO': 'Angola',\n",
       " 'AIA': 'Anguilla',\n",
       " 'ATA': 'Antarctica',\n",
       " 'ATG': 'Antigua and Barbuda',\n",
       " 'ARG': 'Argentina',\n",
       " 'ARM': 'Armenia',\n",
       " 'ABW': 'Aruba',\n",
       " 'AUS': 'Australia',\n",
       " 'AUT': 'Austria',\n",
       " 'AZE': 'Azerbaijan',\n",
       " 'BHS': 'Bahamas',\n",
       " 'BHR': 'Bahrain',\n",
       " 'BGD': 'Bangladesh',\n",
       " 'BRB': 'Barbados',\n",
       " 'BLR': 'Belarus',\n",
       " 'BEL': 'Belgium',\n",
       " 'BLZ': 'Belize',\n",
       " 'BEN': 'Benin',\n",
       " 'BMU': 'Bermuda',\n",
       " 'BTN': 'Bhutan',\n",
       " 'BOL': 'Bolivia (Plurinational State of)',\n",
       " 'BES': 'Bonaire, Sint Eustatius and Saba',\n",
       " 'BIH': 'Bosnia and Herzegovina',\n",
       " 'BWA': 'Botswana',\n",
       " 'BVT': 'Bouvet Island',\n",
       " 'BRA': 'Brazil',\n",
       " 'IOT': 'British Indian Ocean Territory',\n",
       " 'UMI': 'United States Minor Outlying Islands',\n",
       " 'VGB': 'Virgin Islands (British)',\n",
       " 'VIR': 'Virgin Islands (U.S.)',\n",
       " 'BRN': 'Brunei Darussalam',\n",
       " 'BGR': 'Bulgaria',\n",
       " 'BFA': 'Burkina Faso',\n",
       " 'BDI': 'Burundi',\n",
       " 'KHM': 'Cambodia',\n",
       " 'CMR': 'Cameroon',\n",
       " 'CAN': 'Canada',\n",
       " 'CPV': 'Cabo Verde',\n",
       " 'CYM': 'Cayman Islands',\n",
       " 'CAF': 'Central African Republic',\n",
       " 'TCD': 'Chad',\n",
       " 'CHL': 'Chile',\n",
       " 'CHN': 'China',\n",
       " 'CXR': 'Christmas Island',\n",
       " 'CCK': 'Cocos (Keeling) Islands',\n",
       " 'COL': 'Colombia',\n",
       " 'COM': 'Comoros',\n",
       " 'COG': 'Congo',\n",
       " 'COD': 'Congo (Democratic Republic of the)',\n",
       " 'COK': 'Cook Islands',\n",
       " 'CRI': 'Costa Rica',\n",
       " 'HRV': 'Croatia',\n",
       " 'CUB': 'Cuba',\n",
       " 'CUW': 'Curaçao',\n",
       " 'CYP': 'Cyprus',\n",
       " 'CZE': 'Czech Republic',\n",
       " 'DNK': 'Denmark',\n",
       " 'DJI': 'Djibouti',\n",
       " 'DMA': 'Dominica',\n",
       " 'DOM': 'Dominican Republic',\n",
       " 'ECU': 'Ecuador',\n",
       " 'EGY': 'Egypt',\n",
       " 'SLV': 'El Salvador',\n",
       " 'GNQ': 'Equatorial Guinea',\n",
       " 'ERI': 'Eritrea',\n",
       " 'EST': 'Estonia',\n",
       " 'ETH': 'Ethiopia',\n",
       " 'FLK': 'Falkland Islands (Malvinas)',\n",
       " 'FRO': 'Faroe Islands',\n",
       " 'FJI': 'Fiji',\n",
       " 'FIN': 'Finland',\n",
       " 'FRA': 'France',\n",
       " 'GUF': 'French Guiana',\n",
       " 'PYF': 'French Polynesia',\n",
       " 'ATF': 'French Southern Territories',\n",
       " 'GAB': 'Gabon',\n",
       " 'GMB': 'Gambia',\n",
       " 'GEO': 'Georgia',\n",
       " 'DEU': 'Germany',\n",
       " 'GHA': 'Ghana',\n",
       " 'GIB': 'Gibraltar',\n",
       " 'GRC': 'Greece',\n",
       " 'GRL': 'Greenland',\n",
       " 'GRD': 'Grenada',\n",
       " 'GLP': 'Guadeloupe',\n",
       " 'GUM': 'Guam',\n",
       " 'GTM': 'Guatemala',\n",
       " 'GGY': 'Guernsey',\n",
       " 'GIN': 'Guinea',\n",
       " 'GNB': 'Guinea-Bissau',\n",
       " 'GUY': 'Guyana',\n",
       " 'HTI': 'Haiti',\n",
       " 'HMD': 'Heard Island and McDonald Islands',\n",
       " 'VAT': 'Holy See',\n",
       " 'HND': 'Honduras',\n",
       " 'HKG': 'Hong Kong',\n",
       " 'HUN': 'Hungary',\n",
       " 'ISL': 'Iceland',\n",
       " 'IND': 'India',\n",
       " 'IDN': 'Indonesia',\n",
       " 'CIV': \"Côte d'Ivoire\",\n",
       " 'IRN': 'Iran (Islamic Republic of)',\n",
       " 'IRQ': 'Iraq',\n",
       " 'IRL': 'Ireland',\n",
       " 'IMN': 'Isle of Man',\n",
       " 'ISR': 'Israel',\n",
       " 'ITA': 'Italy',\n",
       " 'JAM': 'Jamaica',\n",
       " 'JPN': 'Japan',\n",
       " 'JEY': 'Jersey',\n",
       " 'JOR': 'Jordan',\n",
       " 'KAZ': 'Kazakhstan',\n",
       " 'KEN': 'Kenya',\n",
       " 'KIR': 'Kiribati',\n",
       " 'KWT': 'Kuwait',\n",
       " 'KGZ': 'Kyrgyzstan',\n",
       " 'LAO': \"Lao People's Democratic Republic\",\n",
       " 'LVA': 'Latvia',\n",
       " 'LBN': 'Lebanon',\n",
       " 'LSO': 'Lesotho',\n",
       " 'LBR': 'Liberia',\n",
       " 'LBY': 'Libya',\n",
       " 'LIE': 'Liechtenstein',\n",
       " 'LTU': 'Lithuania',\n",
       " 'LUX': 'Luxembourg',\n",
       " 'MAC': 'Macao',\n",
       " 'MKD': 'Macedonia (the former Yugoslav Republic of)',\n",
       " 'MDG': 'Madagascar',\n",
       " 'MWI': 'Malawi',\n",
       " 'MYS': 'Malaysia',\n",
       " 'MDV': 'Maldives',\n",
       " 'MLI': 'Mali',\n",
       " 'MLT': 'Malta',\n",
       " 'MHL': 'Marshall Islands',\n",
       " 'MTQ': 'Martinique',\n",
       " 'MRT': 'Mauritania',\n",
       " 'MUS': 'Mauritius',\n",
       " 'MYT': 'Mayotte',\n",
       " 'MEX': 'Mexico',\n",
       " 'FSM': 'Micronesia (Federated States of)',\n",
       " 'MDA': 'Moldova (Republic of)',\n",
       " 'MCO': 'Monaco',\n",
       " 'MNG': 'Mongolia',\n",
       " 'MNE': 'Montenegro',\n",
       " 'MSR': 'Montserrat',\n",
       " 'MAR': 'Morocco',\n",
       " 'MOZ': 'Mozambique',\n",
       " 'MMR': 'Myanmar',\n",
       " 'NAM': 'Namibia',\n",
       " 'NRU': 'Nauru',\n",
       " 'NPL': 'Nepal',\n",
       " 'NLD': 'Netherlands',\n",
       " 'NCL': 'New Caledonia',\n",
       " 'NZL': 'New Zealand',\n",
       " 'NIC': 'Nicaragua',\n",
       " 'NER': 'Niger',\n",
       " 'NGA': 'Nigeria',\n",
       " 'NIU': 'Niue',\n",
       " 'NFK': 'Norfolk Island',\n",
       " 'PRK': \"Korea (Democratic People's Republic of)\",\n",
       " 'MNP': 'Northern Mariana Islands',\n",
       " 'NOR': 'Norway',\n",
       " 'OMN': 'Oman',\n",
       " 'PAK': 'Pakistan',\n",
       " 'PLW': 'Palau',\n",
       " 'PSE': 'Palestine, State of',\n",
       " 'PAN': 'Panama',\n",
       " 'PNG': 'Papua New Guinea',\n",
       " 'PRY': 'Paraguay',\n",
       " 'PER': 'Peru',\n",
       " 'PHL': 'Philippines',\n",
       " 'PCN': 'Pitcairn',\n",
       " 'POL': 'Poland',\n",
       " 'PRT': 'Portugal',\n",
       " 'PRI': 'Puerto Rico',\n",
       " 'QAT': 'Qatar',\n",
       " 'KOS': 'Republic of Kosovo',\n",
       " 'REU': 'Réunion',\n",
       " 'ROU': 'Romania',\n",
       " 'RUS': 'Russian Federation',\n",
       " 'RWA': 'Rwanda',\n",
       " 'BLM': 'Saint Barthélemy',\n",
       " 'SHN': 'Saint Helena, Ascension and Tristan da Cunha',\n",
       " 'KNA': 'Saint Kitts and Nevis',\n",
       " 'LCA': 'Saint Lucia',\n",
       " 'MAF': 'Saint Martin (French part)',\n",
       " 'SPM': 'Saint Pierre and Miquelon',\n",
       " 'VCT': 'Saint Vincent and the Grenadines',\n",
       " 'WSM': 'Samoa',\n",
       " 'SMR': 'San Marino',\n",
       " 'STP': 'Sao Tome and Principe',\n",
       " 'SAU': 'Saudi Arabia',\n",
       " 'SEN': 'Senegal',\n",
       " 'SRB': 'Serbia',\n",
       " 'SYC': 'Seychelles',\n",
       " 'SLE': 'Sierra Leone',\n",
       " 'SGP': 'Singapore',\n",
       " 'SXM': 'Sint Maarten (Dutch part)',\n",
       " 'SVK': 'Slovakia',\n",
       " 'SVN': 'Slovenia',\n",
       " 'SLB': 'Solomon Islands',\n",
       " 'SOM': 'Somalia',\n",
       " 'ZAF': 'South Africa',\n",
       " 'SGS': 'South Georgia and the South Sandwich Islands',\n",
       " 'KOR': 'Korea (Republic of)',\n",
       " 'SSD': 'South Sudan',\n",
       " 'ESP': 'Spain',\n",
       " 'LKA': 'Sri Lanka',\n",
       " 'SDN': 'Sudan',\n",
       " 'SUR': 'Suriname',\n",
       " 'SJM': 'Svalbard and Jan Mayen',\n",
       " 'SWZ': 'Swaziland',\n",
       " 'SWE': 'Sweden',\n",
       " 'CHE': 'Switzerland',\n",
       " 'SYR': 'Syrian Arab Republic',\n",
       " 'TWN': 'Taiwan',\n",
       " 'TJK': 'Tajikistan',\n",
       " 'TZA': 'Tanzania, United Republic of',\n",
       " 'THA': 'Thailand',\n",
       " 'TLS': 'Timor-Leste',\n",
       " 'TGO': 'Togo',\n",
       " 'TKL': 'Tokelau',\n",
       " 'TON': 'Tonga',\n",
       " 'TTO': 'Trinidad and Tobago',\n",
       " 'TUN': 'Tunisia',\n",
       " 'TUR': 'Turkey',\n",
       " 'TKM': 'Turkmenistan',\n",
       " 'TCA': 'Turks and Caicos Islands',\n",
       " 'TUV': 'Tuvalu',\n",
       " 'UGA': 'Uganda',\n",
       " 'UKR': 'Ukraine',\n",
       " 'ARE': 'United Arab Emirates',\n",
       " 'GBR': 'United Kingdom of Great Britain and Northern Ireland',\n",
       " 'USA': 'United States of America',\n",
       " 'URY': 'Uruguay',\n",
       " 'UZB': 'Uzbekistan',\n",
       " 'VUT': 'Vanuatu',\n",
       " 'VEN': 'Venezuela (Bolivarian Republic of)',\n",
       " 'VNM': 'Viet Nam',\n",
       " 'WLF': 'Wallis and Futuna',\n",
       " 'ESH': 'Western Sahara',\n",
       " 'YEM': 'Yemen',\n",
       " 'ZMB': 'Zambia',\n",
       " 'ZWE': 'Zimbabwe'}"
      ]
     },
     "execution_count": 14,
     "metadata": {},
     "output_type": "execute_result"
    }
   ],
   "source": [
    "code_to_name"
   ]
  },
  {
   "cell_type": "code",
   "execution_count": 15,
   "metadata": {},
   "outputs": [
    {
     "ename": "IndentationError",
     "evalue": "expected an indented block (update.py, line 58)",
     "output_type": "error",
     "traceback": [
      "Traceback \u001b[0;36m(most recent call last)\u001b[0m:\n",
      "  File \u001b[1;32m\"/home/heiko/bin/anaconda3/envs/openclean/lib/python3.8/site-packages/IPython/core/interactiveshell.py\"\u001b[0m, line \u001b[1;32m3331\u001b[0m, in \u001b[1;35mrun_code\u001b[0m\n    exec(code_obj, self.user_global_ns, self.user_ns)\n",
      "\u001b[0;36m  File \u001b[0;32m\"<ipython-input-15-385264523d5a>\"\u001b[0;36m, line \u001b[0;32m2\u001b[0;36m, in \u001b[0;35m<module>\u001b[0;36m\u001b[0m\n\u001b[0;31m    from openclean.operator.transform.update import update\u001b[0m\n",
      "\u001b[0;36m  File \u001b[0;32m\"/home/heiko/projects/openclean/library/openclean/operator/transform/update.py\"\u001b[0;36m, line \u001b[0;32m58\u001b[0m\n\u001b[0;31m    def swap(df, col1, col2):\u001b[0m\n\u001b[0m    ^\u001b[0m\n\u001b[0;31mIndentationError\u001b[0m\u001b[0;31m:\u001b[0m expected an indented block\n"
     ]
    }
   ],
   "source": [
    "from openclean.function.replace import Lookup\n",
    "from openclean.operator.transform.update import update\n",
    "\n",
    "df2 = update(df1, 'country_name', Lookup('country_id', code_to_name))"
   ]
  },
  {
   "cell_type": "code",
   "execution_count": null,
   "metadata": {},
   "outputs": [],
   "source": [
    "df2.head()"
   ]
  },
  {
   "cell_type": "code",
   "execution_count": null,
   "metadata": {},
   "outputs": [],
   "source": [
    "from openclean.operator.transform.mapping import mapping\n",
    "\n",
    "country_to_country = mapping(df1, 'country_name', Lookup('country_id', code_to_name))"
   ]
  },
  {
   "cell_type": "code",
   "execution_count": null,
   "metadata": {},
   "outputs": [],
   "source": [
    "country_to_country"
   ]
  },
  {
   "cell_type": "code",
   "execution_count": null,
   "metadata": {},
   "outputs": [],
   "source": [
    "country_to_country = country_to_country.drop(1).drop(11)"
   ]
  },
  {
   "cell_type": "code",
   "execution_count": null,
   "metadata": {},
   "outputs": [],
   "source": [
    "country_to_country"
   ]
  },
  {
   "cell_type": "code",
   "execution_count": null,
   "metadata": {},
   "outputs": [],
   "source": [
    "df2 = update(df1, 'country_name', Lookup('country_name', country_to_country))"
   ]
  },
  {
   "cell_type": "code",
   "execution_count": null,
   "metadata": {},
   "outputs": [],
   "source": [
    "df2.head()"
   ]
  }
 ],
 "metadata": {
  "kernelspec": {
   "display_name": "Python 3",
   "language": "python",
   "name": "python3"
  },
  "language_info": {
   "codemirror_mode": {
    "name": "ipython",
    "version": 3
   },
   "file_extension": ".py",
   "mimetype": "text/x-python",
   "name": "python",
   "nbconvert_exporter": "python",
   "pygments_lexer": "ipython3",
   "version": "3.8.1"
  }
 },
 "nbformat": 4,
 "nbformat_minor": 4
}
