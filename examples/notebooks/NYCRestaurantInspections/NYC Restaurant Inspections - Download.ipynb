{
 "cells": [
  {
   "cell_type": "markdown",
   "metadata": {},
   "source": [
    "# Download the Demo Data\n",
    "\n",
    "This notebook contains the code to download all the data files that are necessary for the **openclean - NYC Restaurant Inspections Demo**.\n",
    "\n",
    "All files are stored in a subfolder `data`."
   ]
  },
  {
   "cell_type": "code",
   "execution_count": 1,
   "metadata": {},
   "outputs": [],
   "source": [
    "# Create the data subfolder if it does not exist.\n",
    "\n",
    "import os\n",
    "\n",
    "os.makedirs('data', exist_ok=True)"
   ]
  },
  {
   "cell_type": "code",
   "execution_count": 2,
   "metadata": {},
   "outputs": [],
   "source": [
    "# Define the URLs for all data files that will be downloaded.\n",
    "\n",
    "URL_DATA = 'http://cds-swg1.cims.nyu.edu/data/43nn-pn8j.tsv.gz'"
   ]
  },
  {
   "cell_type": "code",
   "execution_count": 3,
   "metadata": {},
   "outputs": [],
   "source": [
    "# Download the tab-delimited CSV file that contains the\n",
    "# DOHMH New York City Restaurant Inspection Results dataset\n",
    "# that was downloaded from the Socrata API on Sept. 27, 2019.\n",
    "\n",
    "import requests\n",
    "\n",
    "r = requests.get(URL_DATA)\n",
    "with open(os.path.join('data', '43nn-pn8j.tsv.gz'), 'wb') as f:\n",
    "    f.write(r.content)"
   ]
  }
 ],
 "metadata": {
  "kernelspec": {
   "display_name": "Python 3",
   "language": "python",
   "name": "python3"
  },
  "language_info": {
   "codemirror_mode": {
    "name": "ipython",
    "version": 3
   },
   "file_extension": ".py",
   "mimetype": "text/x-python",
   "name": "python",
   "nbconvert_exporter": "python",
   "pygments_lexer": "ipython3",
   "version": "3.8.5"
  }
 },
 "nbformat": 4,
 "nbformat_minor": 4
}
