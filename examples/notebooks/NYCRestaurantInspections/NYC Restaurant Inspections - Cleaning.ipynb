{
 "cells": [
  {
   "cell_type": "markdown",
   "metadata": {},
   "source": [
    "# DOHMH New York City Restaurant Inspection Results\n",
    "\n",
    "## Data Cleaning\n",
    "\n",
    "Our goal is to reproduce a previous [study from 2014 that looks at the distribution of restaurant inspection grades in New York City](https://iquantny.tumblr.com/post/76928412519/think-nyc-restaurant-grading-is-flawed-heres). For our study, we use data that was downloaded in Sept. 2019.\n",
    "\n",
    "We performed some basic [data profiling steps](https://github.com/VIDA-NYU/openclean-core/blob/master/examples/notebooks/NYCRestaurantInspections/NYC%20Restaurant%20Inspections%20-%20Profiling.ipynb) to get an understanding of the data and to identify a some initial data cleaning task."
   ]
  },
  {
   "cell_type": "code",
   "execution_count": 1,
   "metadata": {},
   "outputs": [],
   "source": [
    "# Open the downloaded dataset to extract the relevant columns and records.\n",
    "\n",
    "import os\n",
    "\n",
    "from openclean.data.load import stream\n",
    "\n",
    "ds = stream(os.path.join('data', '43nn-pn8j.tsv.gz'))"
   ]
  },
  {
   "cell_type": "markdown",
   "metadata": {},
   "source": [
    "## Extract Relevant Records\n",
    "\n",
    "Get the data records for the data strudy. Perform initial cleaning guided by the profing step."
   ]
  },
  {
   "cell_type": "code",
   "execution_count": 2,
   "metadata": {},
   "outputs": [],
   "source": [
    "# We will only consider the following columns from the full dataset.\n",
    "\n",
    "columns=[\n",
    "    'CAMIS',\n",
    "    'DBA',\n",
    "    'BORO',\n",
    "    'BUILDING',\n",
    "    'STREET',\n",
    "    'ZIPCODE',\n",
    "    'CUISINE DESCRIPTION',\n",
    "    'INSPECTION DATE',\n",
    "    'VIOLATION CODE',\n",
    "    'CRITICAL FLAG',\n",
    "    'SCORE',\n",
    "    'GRADE',\n",
    "    'INSPECTION TYPE'\n",
    "]\n",
    "ds = ds.select(*columns)"
   ]
  },
  {
   "cell_type": "code",
   "execution_count": 3,
   "metadata": {},
   "outputs": [],
   "source": [
    "# During data profiling we decided to\n",
    "#\n",
    "# - replace the 'BORO' for records that have value '0' and a 'ZIPCODE' in ['11249', '10168', '10285'].\n",
    "# - remove records ...\n",
    "#   + for new establishments ('INSPECTION DATE' == 1900/1/1)\n",
    "#   + with empty 'SCORE's\n",
    "#   + 'BORO' == 'N/A'\n",
    "\n",
    "from datetime import datetime\n",
    "from openclean.function.eval.base import Col\n",
    "from openclean.function.eval.datatype import Datetime\n",
    "from openclean.function.eval.logic import And\n",
    "from openclean.function.eval.null import IsNotEmpty\n",
    "from openclean.function.eval.mapping import Lookup\n",
    "\n",
    "# Date that identifies new establishments that have not\n",
    "# been inspected.\n",
    "new_establ_date = datetime(1900, 1, 1)\n",
    "\n",
    "boro_0_mapping = {'11249': 'Brooklyn', '10168': 'Manhattan', '10285': 'Manhattan'}\n",
    "\n",
    "# Filter and update the data in the stream. Then perform atype casting and\n",
    "# generate the pandas data frame with the selected records that we will be\n",
    "# using for the remainder of our study.\n",
    "\n",
    "df = ds\\\n",
    "    .filter(And(Col('BORO') != 'N/A', Datetime('INSPECTION DATE') != new_establ_date, IsNotEmpty('SCORE')))\\\n",
    "    .update('BORO', Lookup('ZIPCODE', boro_0_mapping, default=Col('BORO')))\\\n",
    "    .typecast()\\\n",
    "    .to_df()\n"
   ]
  },
  {
   "cell_type": "code",
   "execution_count": 4,
   "metadata": {},
   "outputs": [
    {
     "data": {
      "text/plain": [
       "(375085, 13)"
      ]
     },
     "execution_count": 4,
     "metadata": {},
     "output_type": "execute_result"
    }
   ],
   "source": [
    "# What is the size of the resulting dataset?\n",
    "\n",
    "df.shape"
   ]
  },
  {
   "cell_type": "code",
   "execution_count": 5,
   "metadata": {},
   "outputs": [
    {
     "data": {
      "text/plain": [
       "(375078, 13)"
      ]
     },
     "execution_count": 5,
     "metadata": {},
     "output_type": "execute_result"
    }
   ],
   "source": [
    "# Remove any exact duplicates from the dataset.\n",
    "\n",
    "df = df.drop_duplicates()\n",
    "df.shape"
   ]
  },
  {
   "cell_type": "code",
   "execution_count": 6,
   "metadata": {},
   "outputs": [],
   "source": [
    "# Profile the dataset.\n",
    "\n",
    "from openclean.profiling.dataset import dataset_profile\n",
    "\n",
    "profile = dataset_profile(df)"
   ]
  },
  {
   "cell_type": "code",
   "execution_count": 7,
   "metadata": {},
   "outputs": [
    {
     "data": {
      "text/html": [
       "<div>\n",
       "<style scoped>\n",
       "    .dataframe tbody tr th:only-of-type {\n",
       "        vertical-align: middle;\n",
       "    }\n",
       "\n",
       "    .dataframe tbody tr th {\n",
       "        vertical-align: top;\n",
       "    }\n",
       "\n",
       "    .dataframe thead th {\n",
       "        text-align: right;\n",
       "    }\n",
       "</style>\n",
       "<table border=\"1\" class=\"dataframe\">\n",
       "  <thead>\n",
       "    <tr style=\"text-align: right;\">\n",
       "      <th></th>\n",
       "      <th>total</th>\n",
       "      <th>empty</th>\n",
       "      <th>distinct</th>\n",
       "      <th>uniqueness</th>\n",
       "      <th>entropy</th>\n",
       "    </tr>\n",
       "  </thead>\n",
       "  <tbody>\n",
       "    <tr>\n",
       "      <th>CAMIS</th>\n",
       "      <td>375078</td>\n",
       "      <td>0</td>\n",
       "      <td>25530</td>\n",
       "      <td>0.068066</td>\n",
       "      <td>14.296316</td>\n",
       "    </tr>\n",
       "    <tr>\n",
       "      <th>DBA</th>\n",
       "      <td>375078</td>\n",
       "      <td>0</td>\n",
       "      <td>20468</td>\n",
       "      <td>0.054570</td>\n",
       "      <td>13.627345</td>\n",
       "    </tr>\n",
       "    <tr>\n",
       "      <th>BORO</th>\n",
       "      <td>375078</td>\n",
       "      <td>0</td>\n",
       "      <td>5</td>\n",
       "      <td>0.000013</td>\n",
       "      <td>1.998406</td>\n",
       "    </tr>\n",
       "    <tr>\n",
       "      <th>BUILDING</th>\n",
       "      <td>375078</td>\n",
       "      <td>224</td>\n",
       "      <td>7166</td>\n",
       "      <td>0.019117</td>\n",
       "      <td>11.707591</td>\n",
       "    </tr>\n",
       "    <tr>\n",
       "      <th>STREET</th>\n",
       "      <td>375078</td>\n",
       "      <td>0</td>\n",
       "      <td>3191</td>\n",
       "      <td>0.008508</td>\n",
       "      <td>9.835756</td>\n",
       "    </tr>\n",
       "    <tr>\n",
       "      <th>ZIPCODE</th>\n",
       "      <td>375078</td>\n",
       "      <td>5316</td>\n",
       "      <td>224</td>\n",
       "      <td>0.000606</td>\n",
       "      <td>7.029375</td>\n",
       "    </tr>\n",
       "    <tr>\n",
       "      <th>CUISINE DESCRIPTION</th>\n",
       "      <td>375078</td>\n",
       "      <td>0</td>\n",
       "      <td>84</td>\n",
       "      <td>0.000224</td>\n",
       "      <td>4.726841</td>\n",
       "    </tr>\n",
       "    <tr>\n",
       "      <th>INSPECTION DATE</th>\n",
       "      <td>375078</td>\n",
       "      <td>0</td>\n",
       "      <td>1301</td>\n",
       "      <td>0.003469</td>\n",
       "      <td>9.821872</td>\n",
       "    </tr>\n",
       "    <tr>\n",
       "      <th>VIOLATION CODE</th>\n",
       "      <td>375078</td>\n",
       "      <td>1590</td>\n",
       "      <td>73</td>\n",
       "      <td>0.000195</td>\n",
       "      <td>4.396638</td>\n",
       "    </tr>\n",
       "    <tr>\n",
       "      <th>CRITICAL FLAG</th>\n",
       "      <td>375078</td>\n",
       "      <td>2793</td>\n",
       "      <td>2</td>\n",
       "      <td>0.000005</td>\n",
       "      <td>0.983115</td>\n",
       "    </tr>\n",
       "    <tr>\n",
       "      <th>SCORE</th>\n",
       "      <td>375078</td>\n",
       "      <td>0</td>\n",
       "      <td>136</td>\n",
       "      <td>0.000363</td>\n",
       "      <td>5.340192</td>\n",
       "    </tr>\n",
       "    <tr>\n",
       "      <th>GRADE</th>\n",
       "      <td>375078</td>\n",
       "      <td>176567</td>\n",
       "      <td>7</td>\n",
       "      <td>0.000035</td>\n",
       "      <td>1.119769</td>\n",
       "    </tr>\n",
       "    <tr>\n",
       "      <th>INSPECTION TYPE</th>\n",
       "      <td>375078</td>\n",
       "      <td>0</td>\n",
       "      <td>17</td>\n",
       "      <td>0.000045</td>\n",
       "      <td>1.618490</td>\n",
       "    </tr>\n",
       "  </tbody>\n",
       "</table>\n",
       "</div>"
      ],
      "text/plain": [
       "                      total   empty  distinct  uniqueness    entropy\n",
       "CAMIS                375078       0     25530    0.068066  14.296316\n",
       "DBA                  375078       0     20468    0.054570  13.627345\n",
       "BORO                 375078       0         5    0.000013   1.998406\n",
       "BUILDING             375078     224      7166    0.019117  11.707591\n",
       "STREET               375078       0      3191    0.008508   9.835756\n",
       "ZIPCODE              375078    5316       224    0.000606   7.029375\n",
       "CUISINE DESCRIPTION  375078       0        84    0.000224   4.726841\n",
       "INSPECTION DATE      375078       0      1301    0.003469   9.821872\n",
       "VIOLATION CODE       375078    1590        73    0.000195   4.396638\n",
       "CRITICAL FLAG        375078    2793         2    0.000005   0.983115\n",
       "SCORE                375078       0       136    0.000363   5.340192\n",
       "GRADE                375078  176567         7    0.000035   1.119769\n",
       "INSPECTION TYPE      375078       0        17    0.000045   1.618490"
      ]
     },
     "execution_count": 7,
     "metadata": {},
     "output_type": "execute_result"
    }
   ],
   "source": [
    "profile.stats()"
   ]
  },
  {
   "cell_type": "code",
   "execution_count": 8,
   "metadata": {},
   "outputs": [
    {
     "data": {
      "text/html": [
       "<div>\n",
       "<style scoped>\n",
       "    .dataframe tbody tr th:only-of-type {\n",
       "        vertical-align: middle;\n",
       "    }\n",
       "\n",
       "    .dataframe tbody tr th {\n",
       "        vertical-align: top;\n",
       "    }\n",
       "\n",
       "    .dataframe thead th {\n",
       "        text-align: right;\n",
       "    }\n",
       "</style>\n",
       "<table border=\"1\" class=\"dataframe\">\n",
       "  <thead>\n",
       "    <tr style=\"text-align: right;\">\n",
       "      <th></th>\n",
       "      <th>date</th>\n",
       "      <th>int</th>\n",
       "      <th>str</th>\n",
       "    </tr>\n",
       "  </thead>\n",
       "  <tbody>\n",
       "    <tr>\n",
       "      <th>CAMIS</th>\n",
       "      <td>0</td>\n",
       "      <td>375078</td>\n",
       "      <td>0</td>\n",
       "    </tr>\n",
       "    <tr>\n",
       "      <th>DBA</th>\n",
       "      <td>9</td>\n",
       "      <td>52</td>\n",
       "      <td>375017</td>\n",
       "    </tr>\n",
       "    <tr>\n",
       "      <th>BORO</th>\n",
       "      <td>0</td>\n",
       "      <td>0</td>\n",
       "      <td>375078</td>\n",
       "    </tr>\n",
       "    <tr>\n",
       "      <th>BUILDING</th>\n",
       "      <td>170</td>\n",
       "      <td>365018</td>\n",
       "      <td>9666</td>\n",
       "    </tr>\n",
       "    <tr>\n",
       "      <th>STREET</th>\n",
       "      <td>0</td>\n",
       "      <td>0</td>\n",
       "      <td>375078</td>\n",
       "    </tr>\n",
       "    <tr>\n",
       "      <th>ZIPCODE</th>\n",
       "      <td>0</td>\n",
       "      <td>369762</td>\n",
       "      <td>0</td>\n",
       "    </tr>\n",
       "    <tr>\n",
       "      <th>CUISINE DESCRIPTION</th>\n",
       "      <td>0</td>\n",
       "      <td>0</td>\n",
       "      <td>375078</td>\n",
       "    </tr>\n",
       "    <tr>\n",
       "      <th>INSPECTION DATE</th>\n",
       "      <td>375078</td>\n",
       "      <td>0</td>\n",
       "      <td>0</td>\n",
       "    </tr>\n",
       "    <tr>\n",
       "      <th>VIOLATION CODE</th>\n",
       "      <td>0</td>\n",
       "      <td>0</td>\n",
       "      <td>373488</td>\n",
       "    </tr>\n",
       "    <tr>\n",
       "      <th>CRITICAL FLAG</th>\n",
       "      <td>0</td>\n",
       "      <td>0</td>\n",
       "      <td>372285</td>\n",
       "    </tr>\n",
       "    <tr>\n",
       "      <th>SCORE</th>\n",
       "      <td>0</td>\n",
       "      <td>375078</td>\n",
       "      <td>0</td>\n",
       "    </tr>\n",
       "    <tr>\n",
       "      <th>GRADE</th>\n",
       "      <td>0</td>\n",
       "      <td>0</td>\n",
       "      <td>198511</td>\n",
       "    </tr>\n",
       "    <tr>\n",
       "      <th>INSPECTION TYPE</th>\n",
       "      <td>0</td>\n",
       "      <td>0</td>\n",
       "      <td>375078</td>\n",
       "    </tr>\n",
       "  </tbody>\n",
       "</table>\n",
       "</div>"
      ],
      "text/plain": [
       "                       date     int     str\n",
       "CAMIS                     0  375078       0\n",
       "DBA                       9      52  375017\n",
       "BORO                      0       0  375078\n",
       "BUILDING                170  365018    9666\n",
       "STREET                    0       0  375078\n",
       "ZIPCODE                   0  369762       0\n",
       "CUISINE DESCRIPTION       0       0  375078\n",
       "INSPECTION DATE      375078       0       0\n",
       "VIOLATION CODE            0       0  373488\n",
       "CRITICAL FLAG             0       0  372285\n",
       "SCORE                     0  375078       0\n",
       "GRADE                     0       0  198511\n",
       "INSPECTION TYPE           0       0  375078"
      ]
     },
     "execution_count": 8,
     "metadata": {},
     "output_type": "execute_result"
    }
   ],
   "source": [
    "profile.types()"
   ]
  },
  {
   "cell_type": "markdown",
   "metadata": {},
   "source": [
    "### FD Violations\n",
    "\n",
    "We want to make sure that certain constraints hold on the data before we start generating the charts.\n",
    "\n",
    "From the [dataset description](https://data.cityofnewyork.us/Health/DOHMH-New-York-City-Restaurant-Inspection-Results/43nn-pn8j): \"*... When an inspection results in more than one violation, values for associated fields are repeated for each additional violation record.*\"\n",
    "\n",
    "There might be multiple records in the dataset for each business ('CAMIS') and inspection date. We want to ensure that the score that a business gets for an inspection is the same accross all records for that individual inspection, i.e., **CAMIS, INSPECTION DATE -> SCORE**.\n",
    "\n",
    "The unique business identifier should also uniquely identify all the inspection idenpendent (statis) attributes in the dataset, i.e., **CAMIS -> DBA, BORO, BUILDING, STREET, ZIPCODE, CUISINE DESCRIPTION**.\n",
    "\n",
    "One would also assume that the inspection score determines the inspection grade, i.e., **SCORE -> GRADE**."
   ]
  },
  {
   "cell_type": "code",
   "execution_count": 9,
   "metadata": {},
   "outputs": [
    {
     "name": "stdout",
     "output_type": "stream",
     "text": [
      "# of violations for FD(CAMIS, INSPECTION DATE -> SCORE) is 8\n"
     ]
    }
   ],
   "source": [
    "# FD1: CAMIS, INSPECTION DATE -> SCORE\n",
    "\n",
    "from openclean.operator.map.violations import fd_violations\n",
    "fd1_violations = fd_violations(df, ['CAMIS', 'INSPECTION DATE'], 'SCORE')\n",
    "\n",
    "print('# of violations for FD(CAMIS, INSPECTION DATE -> SCORE) is {}'.format(len(fd1_violations)))"
   ]
  },
  {
   "cell_type": "code",
   "execution_count": 10,
   "metadata": {},
   "outputs": [
    {
     "name": "stdout",
     "output_type": "stream",
     "text": [
      "          CAMIS INSPECTION DATE VIOLATION CODE  SCORE\n",
      "4569   41702610      2017-07-17                    29\n",
      "78197  41702610      2017-07-17                     0\n",
      "\n",
      "           CAMIS INSPECTION DATE VIOLATION CODE  SCORE\n",
      "14420   40911114      2017-11-04            04N     20\n",
      "31755   40911114      2017-11-04            08C     20\n",
      "49122   40911114      2017-11-04            04M     15\n",
      "56000   40911114      2017-11-04            08A     20\n",
      "69598   40911114      2017-11-04            04N     15\n",
      "112737  40911114      2017-11-04            08A     15\n",
      "148895  40911114      2017-11-04            08C     15\n",
      "167080  40911114      2017-11-04            04M     20\n",
      "274101  40911114      2017-11-04            06C     20\n",
      "\n",
      "           CAMIS INSPECTION DATE VIOLATION CODE  SCORE\n",
      "29316   41720266      2018-03-14            02B      0\n",
      "298918  41720266      2018-03-14            02B      9\n",
      "\n",
      "           CAMIS INSPECTION DATE VIOLATION CODE  SCORE\n",
      "66064   50065982      2018-03-23            08A     12\n",
      "210211  50065982      2018-03-23                     0\n",
      "353272  50065982      2018-03-23            04L     12\n",
      "\n",
      "           CAMIS INSPECTION DATE VIOLATION CODE  SCORE\n",
      "73769   50048062      2018-10-30            05H     28\n",
      "330432  50048062      2018-10-30                     0\n",
      "\n",
      "           CAMIS INSPECTION DATE VIOLATION CODE  SCORE\n",
      "147186  50032911      2019-06-22            04L     12\n",
      "218146  50032911      2019-06-22            10B     12\n",
      "338555  50032911      2019-06-22            02G      7\n",
      "347659  50032911      2019-06-22            08A     12\n",
      "\n",
      "           CAMIS INSPECTION DATE VIOLATION CODE  SCORE\n",
      "150184  41485450      2018-04-12            06B     16\n",
      "187310  41485450      2018-04-12            08A      0\n",
      "231219  41485450      2018-04-12            04L      0\n",
      "262845  41485450      2018-04-12            06B      0\n",
      "306394  41485450      2018-04-12            08A     16\n",
      "316178  41485450      2018-04-12            04L     16\n",
      "\n",
      "           CAMIS INSPECTION DATE VIOLATION CODE  SCORE\n",
      "248195  50004682      2017-04-11                    38\n",
      "383438  50004682      2017-04-11                     0\n",
      "\n"
     ]
    }
   ],
   "source": [
    "# Have a look at the different sets of violations.\n",
    "\n",
    "for key, gr in fd1_violations.items():\n",
    "    print(gr[['CAMIS', 'INSPECTION DATE', 'VIOLATION CODE', 'SCORE']])\n",
    "    print()"
   ]
  },
  {
   "cell_type": "markdown",
   "metadata": {},
   "source": [
    "#### Violation Repair Strategy\n",
    "\n",
    "First, we are goin to take a closer look at records where the score is zero. Are there other records with score zero and if how many? Should we remove all records with a score of zero? Are there other records that we may want to get rid of (e.g., score - 1).\n",
    "\n",
    "For the two groups that have violations without zero we use majority voting to update the data."
   ]
  },
  {
   "cell_type": "code",
   "execution_count": 11,
   "metadata": {},
   "outputs": [
    {
     "data": {
      "text/plain": [
       "1626"
      ]
     },
     "execution_count": 11,
     "metadata": {},
     "output_type": "execute_result"
    }
   ],
   "source": [
    "# How many records are there where the 'SCORE' is zero?\n",
    "\n",
    "df['SCORE'].value_counts().loc[0]"
   ]
  },
  {
   "cell_type": "code",
   "execution_count": 12,
   "metadata": {},
   "outputs": [
    {
     "data": {
      "text/plain": [
       "       1579\n",
       "08A       6\n",
       "10F       5\n",
       "04L       5\n",
       "06C       4\n",
       "02B       4\n",
       "02G       3\n",
       "22F       3\n",
       "06D       3\n",
       "22G       2\n",
       "06B       2\n",
       "10B       2\n",
       "04K       1\n",
       "04N       1\n",
       "04H       1\n",
       "10D       1\n",
       "05A       1\n",
       "09B       1\n",
       "04M       1\n",
       "04F       1\n",
       "Name: VIOLATION CODE, dtype: int64"
      ]
     },
     "execution_count": 12,
     "metadata": {},
     "output_type": "execute_result"
    }
   ],
   "source": [
    "# What are the VIOLATION CODES for score zero?\n",
    "\n",
    "df.loc[df['SCORE'] == 0]['VIOLATION CODE'].value_counts()"
   ]
  },
  {
   "cell_type": "code",
   "execution_count": 13,
   "metadata": {},
   "outputs": [
    {
     "data": {
      "text/plain": [
       "08A    11\n",
       "02G    10\n",
       "04L     8\n",
       "06D     8\n",
       "02B     7\n",
       "06C     7\n",
       "10F     7\n",
       "06E     6\n",
       "05D     4\n",
       "04H     4\n",
       "10B     3\n",
       "04A     3\n",
       "04M     3\n",
       "10H     2\n",
       "10I     2\n",
       "06F     2\n",
       "06A     2\n",
       "09B     2\n",
       "04N     2\n",
       "04C     1\n",
       "06B     1\n",
       "04K     1\n",
       "08C     1\n",
       "03A     1\n",
       "07A     1\n",
       "09C     1\n",
       "Name: VIOLATION CODE, dtype: int64"
      ]
     },
     "execution_count": 13,
     "metadata": {},
     "output_type": "execute_result"
    }
   ],
   "source": [
    "# There are also scores of -1\n",
    "\n",
    "df.loc[df['SCORE'] == -1]['VIOLATION CODE'].value_counts()"
   ]
  },
  {
   "cell_type": "code",
   "execution_count": 14,
   "metadata": {},
   "outputs": [],
   "source": [
    "# Delete records with score lower or equal zero or empty violation code.\n",
    "\n",
    "from openclean.function.eval.logic import Or\n",
    "from openclean.function.eval.null import IsEmpty\n",
    "from openclean.operator.transform.filter import delete\n",
    "\n",
    "df = delete(df, Or(IsEmpty('VIOLATION CODE'), Col('SCORE') <= 0))\n",
    "\n",
    "# What is the pandas equivalent ??? These are the rows we want to delete:\n",
    "# df[df['VIOLATION CODE'].isnull() | df['SCORE'] <= 0]"
   ]
  },
  {
   "cell_type": "code",
   "execution_count": 15,
   "metadata": {},
   "outputs": [
    {
     "data": {
      "text/plain": [
       "(373341, 13)"
      ]
     },
     "execution_count": 15,
     "metadata": {},
     "output_type": "execute_result"
    }
   ],
   "source": [
    "df.shape"
   ]
  },
  {
   "cell_type": "code",
   "execution_count": 16,
   "metadata": {},
   "outputs": [
    {
     "name": "stdout",
     "output_type": "stream",
     "text": [
      "# of violations for FD(CAMIS -> DBA, BORO, BUILDING, STREET, ZIPCODE, CUISINE DESCRIPTION) is 0\n"
     ]
    }
   ],
   "source": [
    "# FD2: AMIS -> DBA, BORO, BUILDING, STREET, ZIPCODE, CUISINE DESCRIPTION\n",
    "\n",
    "from openclean.operator.map.violations import fd_violations\n",
    "\n",
    "fd2_violations = fd_violations(df, 'CAMIS', ['DBA', 'BORO', 'BUILDING', 'STREET', 'ZIPCODE', 'CUISINE DESCRIPTION'])\n",
    "\n",
    "print('# of violations for FD(CAMIS -> DBA, BORO, BUILDING, STREET, ZIPCODE, CUISINE DESCRIPTION) is {}'.format(len(fd2_violations)))"
   ]
  },
  {
   "cell_type": "code",
   "execution_count": 17,
   "metadata": {},
   "outputs": [
    {
     "name": "stdout",
     "output_type": "stream",
     "text": [
      "# of violations for FD(SCORE -> GRADE) is 95\n"
     ]
    }
   ],
   "source": [
    "# FD 3: SCORE -> GRADE\n",
    "\n",
    "from openclean.operator.map.violations import fd_violations\n",
    "fd3_violations = fd_violations(df, 'SCORE', 'GRADE')\n",
    "\n",
    "print('# of violations for FD(SCORE -> GRADE) is {}'.format(len(fd3_violations)))"
   ]
  },
  {
   "cell_type": "markdown",
   "metadata": {},
   "source": [
    "Grades appear to be empty for restaurants that did not receive a grade 'A' in the first inspection (see example records below). FD 3 is therefore not expected to hold."
   ]
  },
  {
   "cell_type": "markdown",
   "metadata": {},
   "source": [
    "### Prepare Data for Plotting\n",
    "\n",
    "Create a datset with 'CAMIS', 'BORO', 'CUISINE', 'DATE', 'TYPE', 'SCORE' with one row per (business, inspection date)."
   ]
  },
  {
   "cell_type": "code",
   "execution_count": 18,
   "metadata": {},
   "outputs": [],
   "source": [
    "from openclean.operator.map.groupby import groupby\n",
    "\n",
    "establishments = groupby(df, 'CAMIS')"
   ]
  },
  {
   "cell_type": "code",
   "execution_count": 19,
   "metadata": {},
   "outputs": [
    {
     "data": {
      "text/plain": [
       "25508"
      ]
     },
     "execution_count": 19,
     "metadata": {},
     "output_type": "execute_result"
    }
   ],
   "source": [
    "# Total number of businesses.\n",
    "\n",
    "len(establishments)"
   ]
  },
  {
   "cell_type": "code",
   "execution_count": 20,
   "metadata": {},
   "outputs": [
    {
     "data": {
      "text/plain": [
       "[50069505,\n",
       " 50069510,\n",
       " 50069517,\n",
       " 50069518,\n",
       " 50069519,\n",
       " 50069532,\n",
       " 41680924,\n",
       " 50069534,\n",
       " 50069539,\n",
       " 41418789]"
      ]
     },
     "execution_count": 20,
     "metadata": {},
     "output_type": "execute_result"
    }
   ],
   "source": [
    "list(establishments.keys())[:10]"
   ]
  },
  {
   "cell_type": "code",
   "execution_count": 21,
   "metadata": {
    "scrolled": false
   },
   "outputs": [
    {
     "data": {
      "text/html": [
       "<div>\n",
       "<style scoped>\n",
       "    .dataframe tbody tr th:only-of-type {\n",
       "        vertical-align: middle;\n",
       "    }\n",
       "\n",
       "    .dataframe tbody tr th {\n",
       "        vertical-align: top;\n",
       "    }\n",
       "\n",
       "    .dataframe thead th {\n",
       "        text-align: right;\n",
       "    }\n",
       "</style>\n",
       "<table border=\"1\" class=\"dataframe\">\n",
       "  <thead>\n",
       "    <tr style=\"text-align: right;\">\n",
       "      <th></th>\n",
       "      <th>INSPECTION DATE</th>\n",
       "      <th>VIOLATION CODE</th>\n",
       "      <th>SCORE</th>\n",
       "      <th>GRADE</th>\n",
       "      <th>INSPECTION TYPE</th>\n",
       "    </tr>\n",
       "  </thead>\n",
       "  <tbody>\n",
       "    <tr>\n",
       "      <th>366185</th>\n",
       "      <td>2017-10-25</td>\n",
       "      <td>04H</td>\n",
       "      <td>14</td>\n",
       "      <td></td>\n",
       "      <td>Pre-permit (Operational) / Initial Inspection</td>\n",
       "    </tr>\n",
       "    <tr>\n",
       "      <th>281900</th>\n",
       "      <td>2017-10-25</td>\n",
       "      <td>09B</td>\n",
       "      <td>14</td>\n",
       "      <td></td>\n",
       "      <td>Pre-permit (Operational) / Initial Inspection</td>\n",
       "    </tr>\n",
       "    <tr>\n",
       "      <th>183023</th>\n",
       "      <td>2017-10-25</td>\n",
       "      <td>04M</td>\n",
       "      <td>14</td>\n",
       "      <td></td>\n",
       "      <td>Pre-permit (Operational) / Initial Inspection</td>\n",
       "    </tr>\n",
       "    <tr>\n",
       "      <th>139880</th>\n",
       "      <td>2017-10-25</td>\n",
       "      <td>04N</td>\n",
       "      <td>14</td>\n",
       "      <td></td>\n",
       "      <td>Pre-permit (Operational) / Initial Inspection</td>\n",
       "    </tr>\n",
       "    <tr>\n",
       "      <th>353141</th>\n",
       "      <td>2018-01-25</td>\n",
       "      <td>04M</td>\n",
       "      <td>13</td>\n",
       "      <td>A</td>\n",
       "      <td>Pre-permit (Operational) / Re-inspection</td>\n",
       "    </tr>\n",
       "    <tr>\n",
       "      <th>319668</th>\n",
       "      <td>2018-01-25</td>\n",
       "      <td>10F</td>\n",
       "      <td>13</td>\n",
       "      <td>A</td>\n",
       "      <td>Pre-permit (Operational) / Re-inspection</td>\n",
       "    </tr>\n",
       "    <tr>\n",
       "      <th>77643</th>\n",
       "      <td>2018-01-25</td>\n",
       "      <td>08A</td>\n",
       "      <td>13</td>\n",
       "      <td>A</td>\n",
       "      <td>Pre-permit (Operational) / Re-inspection</td>\n",
       "    </tr>\n",
       "    <tr>\n",
       "      <th>100147</th>\n",
       "      <td>2018-09-06</td>\n",
       "      <td>06A</td>\n",
       "      <td>29</td>\n",
       "      <td></td>\n",
       "      <td>Cycle Inspection / Initial Inspection</td>\n",
       "    </tr>\n",
       "    <tr>\n",
       "      <th>99727</th>\n",
       "      <td>2018-09-06</td>\n",
       "      <td>04M</td>\n",
       "      <td>29</td>\n",
       "      <td></td>\n",
       "      <td>Cycle Inspection / Initial Inspection</td>\n",
       "    </tr>\n",
       "    <tr>\n",
       "      <th>5178</th>\n",
       "      <td>2018-09-06</td>\n",
       "      <td>06D</td>\n",
       "      <td>29</td>\n",
       "      <td></td>\n",
       "      <td>Cycle Inspection / Initial Inspection</td>\n",
       "    </tr>\n",
       "    <tr>\n",
       "      <th>27540</th>\n",
       "      <td>2018-09-06</td>\n",
       "      <td>08A</td>\n",
       "      <td>29</td>\n",
       "      <td></td>\n",
       "      <td>Cycle Inspection / Initial Inspection</td>\n",
       "    </tr>\n",
       "    <tr>\n",
       "      <th>14200</th>\n",
       "      <td>2018-09-06</td>\n",
       "      <td>02G</td>\n",
       "      <td>29</td>\n",
       "      <td></td>\n",
       "      <td>Cycle Inspection / Initial Inspection</td>\n",
       "    </tr>\n",
       "    <tr>\n",
       "      <th>316525</th>\n",
       "      <td>2018-10-11</td>\n",
       "      <td>10F</td>\n",
       "      <td>16</td>\n",
       "      <td>B</td>\n",
       "      <td>Cycle Inspection / Re-inspection</td>\n",
       "    </tr>\n",
       "    <tr>\n",
       "      <th>256577</th>\n",
       "      <td>2018-10-11</td>\n",
       "      <td>04M</td>\n",
       "      <td>16</td>\n",
       "      <td>B</td>\n",
       "      <td>Cycle Inspection / Re-inspection</td>\n",
       "    </tr>\n",
       "    <tr>\n",
       "      <th>50228</th>\n",
       "      <td>2018-10-11</td>\n",
       "      <td>08A</td>\n",
       "      <td>16</td>\n",
       "      <td>B</td>\n",
       "      <td>Cycle Inspection / Re-inspection</td>\n",
       "    </tr>\n",
       "    <tr>\n",
       "      <th>31524</th>\n",
       "      <td>2018-10-25</td>\n",
       "      <td>04M</td>\n",
       "      <td>19</td>\n",
       "      <td></td>\n",
       "      <td>Cycle Inspection / Compliance Inspection</td>\n",
       "    </tr>\n",
       "    <tr>\n",
       "      <th>99626</th>\n",
       "      <td>2018-10-25</td>\n",
       "      <td>02G</td>\n",
       "      <td>19</td>\n",
       "      <td></td>\n",
       "      <td>Cycle Inspection / Compliance Inspection</td>\n",
       "    </tr>\n",
       "    <tr>\n",
       "      <th>144423</th>\n",
       "      <td>2018-10-25</td>\n",
       "      <td>08A</td>\n",
       "      <td>19</td>\n",
       "      <td></td>\n",
       "      <td>Cycle Inspection / Compliance Inspection</td>\n",
       "    </tr>\n",
       "    <tr>\n",
       "      <th>163789</th>\n",
       "      <td>2018-10-25</td>\n",
       "      <td>10F</td>\n",
       "      <td>19</td>\n",
       "      <td></td>\n",
       "      <td>Cycle Inspection / Compliance Inspection</td>\n",
       "    </tr>\n",
       "    <tr>\n",
       "      <th>350874</th>\n",
       "      <td>2019-03-26</td>\n",
       "      <td>08A</td>\n",
       "      <td>38</td>\n",
       "      <td></td>\n",
       "      <td>Cycle Inspection / Initial Inspection</td>\n",
       "    </tr>\n",
       "    <tr>\n",
       "      <th>352736</th>\n",
       "      <td>2019-03-26</td>\n",
       "      <td>10H</td>\n",
       "      <td>38</td>\n",
       "      <td></td>\n",
       "      <td>Cycle Inspection / Initial Inspection</td>\n",
       "    </tr>\n",
       "    <tr>\n",
       "      <th>10908</th>\n",
       "      <td>2019-03-26</td>\n",
       "      <td>04L</td>\n",
       "      <td>38</td>\n",
       "      <td></td>\n",
       "      <td>Cycle Inspection / Initial Inspection</td>\n",
       "    </tr>\n",
       "    <tr>\n",
       "      <th>292380</th>\n",
       "      <td>2019-03-28</td>\n",
       "      <td>04M</td>\n",
       "      <td>9</td>\n",
       "      <td>P</td>\n",
       "      <td>Cycle Inspection / Reopening Inspection</td>\n",
       "    </tr>\n",
       "    <tr>\n",
       "      <th>156516</th>\n",
       "      <td>2019-03-28</td>\n",
       "      <td>08A</td>\n",
       "      <td>9</td>\n",
       "      <td>P</td>\n",
       "      <td>Cycle Inspection / Reopening Inspection</td>\n",
       "    </tr>\n",
       "    <tr>\n",
       "      <th>185409</th>\n",
       "      <td>2019-07-25</td>\n",
       "      <td>04L</td>\n",
       "      <td>13</td>\n",
       "      <td>A</td>\n",
       "      <td>Cycle Inspection / Re-inspection</td>\n",
       "    </tr>\n",
       "    <tr>\n",
       "      <th>358159</th>\n",
       "      <td>2019-07-25</td>\n",
       "      <td>10E</td>\n",
       "      <td>13</td>\n",
       "      <td>A</td>\n",
       "      <td>Cycle Inspection / Re-inspection</td>\n",
       "    </tr>\n",
       "    <tr>\n",
       "      <th>32923</th>\n",
       "      <td>2019-07-25</td>\n",
       "      <td>08A</td>\n",
       "      <td>13</td>\n",
       "      <td>A</td>\n",
       "      <td>Cycle Inspection / Re-inspection</td>\n",
       "    </tr>\n",
       "  </tbody>\n",
       "</table>\n",
       "</div>"
      ],
      "text/plain": [
       "       INSPECTION DATE VIOLATION CODE  SCORE GRADE  \\\n",
       "366185      2017-10-25            04H     14         \n",
       "281900      2017-10-25            09B     14         \n",
       "183023      2017-10-25            04M     14         \n",
       "139880      2017-10-25            04N     14         \n",
       "353141      2018-01-25            04M     13     A   \n",
       "319668      2018-01-25            10F     13     A   \n",
       "77643       2018-01-25            08A     13     A   \n",
       "100147      2018-09-06            06A     29         \n",
       "99727       2018-09-06            04M     29         \n",
       "5178        2018-09-06            06D     29         \n",
       "27540       2018-09-06            08A     29         \n",
       "14200       2018-09-06            02G     29         \n",
       "316525      2018-10-11            10F     16     B   \n",
       "256577      2018-10-11            04M     16     B   \n",
       "50228       2018-10-11            08A     16     B   \n",
       "31524       2018-10-25            04M     19         \n",
       "99626       2018-10-25            02G     19         \n",
       "144423      2018-10-25            08A     19         \n",
       "163789      2018-10-25            10F     19         \n",
       "350874      2019-03-26            08A     38         \n",
       "352736      2019-03-26            10H     38         \n",
       "10908       2019-03-26            04L     38         \n",
       "292380      2019-03-28            04M      9     P   \n",
       "156516      2019-03-28            08A      9     P   \n",
       "185409      2019-07-25            04L     13     A   \n",
       "358159      2019-07-25            10E     13     A   \n",
       "32923       2019-07-25            08A     13     A   \n",
       "\n",
       "                                      INSPECTION TYPE  \n",
       "366185  Pre-permit (Operational) / Initial Inspection  \n",
       "281900  Pre-permit (Operational) / Initial Inspection  \n",
       "183023  Pre-permit (Operational) / Initial Inspection  \n",
       "139880  Pre-permit (Operational) / Initial Inspection  \n",
       "353141       Pre-permit (Operational) / Re-inspection  \n",
       "319668       Pre-permit (Operational) / Re-inspection  \n",
       "77643        Pre-permit (Operational) / Re-inspection  \n",
       "100147          Cycle Inspection / Initial Inspection  \n",
       "99727           Cycle Inspection / Initial Inspection  \n",
       "5178            Cycle Inspection / Initial Inspection  \n",
       "27540           Cycle Inspection / Initial Inspection  \n",
       "14200           Cycle Inspection / Initial Inspection  \n",
       "316525               Cycle Inspection / Re-inspection  \n",
       "256577               Cycle Inspection / Re-inspection  \n",
       "50228                Cycle Inspection / Re-inspection  \n",
       "31524        Cycle Inspection / Compliance Inspection  \n",
       "99626        Cycle Inspection / Compliance Inspection  \n",
       "144423       Cycle Inspection / Compliance Inspection  \n",
       "163789       Cycle Inspection / Compliance Inspection  \n",
       "350874          Cycle Inspection / Initial Inspection  \n",
       "352736          Cycle Inspection / Initial Inspection  \n",
       "10908           Cycle Inspection / Initial Inspection  \n",
       "292380        Cycle Inspection / Reopening Inspection  \n",
       "156516        Cycle Inspection / Reopening Inspection  \n",
       "185409               Cycle Inspection / Re-inspection  \n",
       "358159               Cycle Inspection / Re-inspection  \n",
       "32923                Cycle Inspection / Re-inspection  "
      ]
     },
     "execution_count": 21,
     "metadata": {},
     "output_type": "execute_result"
    }
   ],
   "source": [
    "# Show inspection data for a single business.\n",
    "\n",
    "establishments.get(50069505)[['INSPECTION DATE', 'VIOLATION CODE', 'SCORE', 'GRADE', 'INSPECTION TYPE']].sort_values('INSPECTION DATE')"
   ]
  },
  {
   "cell_type": "code",
   "execution_count": null,
   "metadata": {},
   "outputs": [],
   "source": [
    "# This is where we could use a customizable aggregator function\n",
    "\n",
    "inspections = groupby(df, ['CAMIS', 'INSPECTION DATE'])\n",
    "\n",
    "def my_agg(df):\n",
    "    # If conflict in df['SCORE'] select most frequent value\n",
    "    # Select only the columns we are interested in\n",
    "    # Return a single row per group\n",
    "    return single_row\n",
    "\n",
    "df_clean = aggregate(inspections, func=my_agg, schema=['CAMIS', 'BORO', 'CUISINE', 'DATE', 'TYPE', 'SCORE'])"
   ]
  }
 ],
 "metadata": {
  "kernelspec": {
   "display_name": "Python 3",
   "language": "python",
   "name": "python3"
  },
  "language_info": {
   "codemirror_mode": {
    "name": "ipython",
    "version": 3
   },
   "file_extension": ".py",
   "mimetype": "text/x-python",
   "name": "python",
   "nbconvert_exporter": "python",
   "pygments_lexer": "ipython3",
   "version": "3.8.5"
  }
 },
 "nbformat": 4,
 "nbformat_minor": 4
}
