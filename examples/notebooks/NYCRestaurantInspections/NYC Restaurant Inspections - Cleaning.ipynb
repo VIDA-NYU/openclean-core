{
 "cells": [
  {
   "cell_type": "markdown",
   "metadata": {},
   "source": [
    "# DOHMH New York City Restaurant Inspection Results\n",
    "\n",
    "## Data Cleaning\n",
    "\n",
    "Our goal is to ..."
   ]
  },
  {
   "cell_type": "code",
   "execution_count": null,
   "metadata": {},
   "outputs": [],
   "source": [
    "columns=['CAMIS',\n",
    " 'DBA',\n",
    " 'BORO',\n",
    " 'BUILDING',\n",
    " 'STREET',\n",
    " 'ZIPCODE',\n",
    " 'PHONE',\n",
    " 'CUISINE DESCRIPTION',\n",
    " 'INSPECTION DATE',\n",
    " 'VIOLATION CODE',\n",
    " 'CRITICAL FLAG',\n",
    " 'SCORE',\n",
    " 'GRADE',\n",
    " 'GRADE DATE',\n",
    " 'RECORD DATE',\n",
    " 'INSPECTION TYPE',\n",
    " 'BBL',\n",
    " 'NTA']\n",
    "\n",
    "ds.select(*columns).head()"
   ]
  },
  {
   "cell_type": "code",
   "execution_count": null,
   "metadata": {},
   "outputs": [],
   "source": [
    "df = ds.select(*columns).to_df()\n",
    "df.shape"
   ]
  },
  {
   "cell_type": "code",
   "execution_count": null,
   "metadata": {},
   "outputs": [],
   "source": [
    "df = df.drop_duplicates()\n",
    "df.shape"
   ]
  },
  {
   "cell_type": "code",
   "execution_count": null,
   "metadata": {},
   "outputs": [],
   "source": [
    "from openclean.operator.map.violations import fd_violations\n",
    "groups = fd_violations(df, ['CAMIS', 'INSPECTION DATE'], 'SCORE')"
   ]
  }
 ],
 "metadata": {
  "kernelspec": {
   "display_name": "Python 3",
   "language": "python",
   "name": "python3"
  },
  "language_info": {
   "codemirror_mode": {
    "name": "ipython",
    "version": 3
   },
   "file_extension": ".py",
   "mimetype": "text/x-python",
   "name": "python",
   "nbconvert_exporter": "python",
   "pygments_lexer": "ipython3",
   "version": "3.8.5"
  }
 },
 "nbformat": 4,
 "nbformat_minor": 4
}
