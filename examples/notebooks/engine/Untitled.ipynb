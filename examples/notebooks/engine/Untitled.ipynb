{
 "cells": [
  {
   "cell_type": "code",
   "execution_count": 1,
   "metadata": {},
   "outputs": [],
   "source": [
    "from openclean.engine.base import DB\n",
    "\n",
    "db = DB()"
   ]
  },
  {
   "cell_type": "code",
   "execution_count": 3,
   "metadata": {},
   "outputs": [],
   "source": [
    "from openclean.engine.library.parameter import Int\n",
    "\n",
    "@db.register.eval(name='add_number', parameters=[Int('n')])\n",
    "def add_n(value, n=10):\n",
    "    return value + n"
   ]
  },
  {
   "cell_type": "code",
   "execution_count": 4,
   "metadata": {},
   "outputs": [
    {
     "data": {
      "text/plain": [
       "[{'name': 'lower',\n",
       "  'namespace': 'string',\n",
       "  'label': None,\n",
       "  'help': None,\n",
       "  'columns': 1,\n",
       "  'outputs': 1,\n",
       "  'parameters': []},\n",
       " {'name': 'upper',\n",
       "  'namespace': 'string',\n",
       "  'label': None,\n",
       "  'help': None,\n",
       "  'columns': 1,\n",
       "  'outputs': 1,\n",
       "  'parameters': []},\n",
       " {'name': 'capitalize',\n",
       "  'namespace': 'string',\n",
       "  'label': None,\n",
       "  'help': None,\n",
       "  'columns': 1,\n",
       "  'outputs': 1,\n",
       "  'parameters': []},\n",
       " {'name': 'add_number',\n",
       "  'namespace': None,\n",
       "  'label': None,\n",
       "  'help': None,\n",
       "  'columns': 1,\n",
       "  'outputs': 1,\n",
       "  'parameters': [{'dtype': 'int',\n",
       "    'name': 'n',\n",
       "    'index': 0,\n",
       "    'label': None,\n",
       "    'help': None,\n",
       "    'defaultValue': None,\n",
       "    'isRequired': False,\n",
       "    'group': None}]}]"
      ]
     },
     "execution_count": 4,
     "metadata": {},
     "output_type": "execute_result"
    }
   ],
   "source": [
    "db.register.serialize()"
   ]
  },
  {
   "cell_type": "code",
   "execution_count": null,
   "metadata": {},
   "outputs": [],
   "source": [
    "type(add_n)"
   ]
  },
  {
   "cell_type": "code",
   "execution_count": null,
   "metadata": {},
   "outputs": [],
   "source": [
    "add_n(3, n=4)"
   ]
  },
  {
   "cell_type": "code",
   "execution_count": null,
   "metadata": {},
   "outputs": [],
   "source": [
    "add_n.__name__"
   ]
  },
  {
   "cell_type": "code",
   "execution_count": null,
   "metadata": {},
   "outputs": [],
   "source": [
    "add_n(3)"
   ]
  },
  {
   "cell_type": "code",
   "execution_count": null,
   "metadata": {},
   "outputs": [],
   "source": []
  }
 ],
 "metadata": {
  "kernelspec": {
   "display_name": "Python 3",
   "language": "python",
   "name": "python3"
  },
  "language_info": {
   "codemirror_mode": {
    "name": "ipython",
    "version": 3
   },
   "file_extension": ".py",
   "mimetype": "text/x-python",
   "name": "python",
   "nbconvert_exporter": "python",
   "pygments_lexer": "ipython3",
   "version": "3.8.5"
  }
 },
 "nbformat": 4,
 "nbformat_minor": 4
}
