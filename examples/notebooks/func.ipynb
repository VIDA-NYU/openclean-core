{
 "cells": [
  {
   "cell_type": "code",
   "execution_count": 1,
   "metadata": {},
   "outputs": [],
   "source": [
    "from openclean import dataset\n",
    "from openclean.util import head, tail\n",
    "from openclean.base.query import select"
   ]
  },
  {
   "cell_type": "code",
   "execution_count": 2,
   "metadata": {},
   "outputs": [],
   "source": [
    "ds = dataset('./examples/data/DOB_Permit_Issuance.tsv')"
   ]
  },
  {
   "cell_type": "code",
   "execution_count": 3,
   "metadata": {},
   "outputs": [
    {
     "name": "stdout",
     "output_type": "stream",
     "text": [
      "permittee_s_license__\towner_s_business_type\tborough\texpiration_date\tzip_code\tpermittee_s_business_name\tjob_start_date\thouse__\tblock\tstate\twork_type\tjob_doc___\tpermittee_s_last_name\tbin__\towner_s_house__\tcommunity_board\towner_s_house_street_name\tbldg_type\tjob_type\tpermit_subtype\tissuance_date\towner_s_last_name\tcity\tpermit_status\tpermit_sequence__\tsite_fill\tpermittee_s_phone__\tstreet_name\tpermittee_s_first_name\tlot\tpermittee_s_license_type\tfiling_status\towner_s_business_name\tjob__\tdobrundate\tfiling_date\tpermit_type\towner_s_phone__\tresidential\towner_s_first_name\towner_s_zip_code\tself_cert\tspecial_district_1\tnon_profit\tsite_safety_mgr_s_last_name\tsite_safety_mgr_s_first_name\tsuperintendent_business_name\tsuperintendent_first___last_name\tpermittee_s_other_title\toil_gas\tspecial_district_2\tsite_safety_mgr_business_name\thic_license\tact_as_superintendent\n",
      "0613516\tCONDO/CO-OP\tMANHATTAN\t06/10/2016\t10013\tLUVA OF NY LLC\t03/22/2016\t366\t00172\tNY\tOT\t01\tPASEK\t1001862\t666\t101\tBROADWAY\t2\tA2\tOT\t2016-03-22T12:00:00\tFREIREICH\tNEW YORK\tISSUED\t01\tNOT APPLICABLE\t3474156914\tBROADWAY\tANDRZEJ\t00001\tGENERAL CONTRACTOR\tINITIAL\tCOLLECT POND HOUSE, INC.\t122672152\t2016-03-23T12:00:00\t03/22/2016\tEW\t2125295688\tYES\tANDREW\t10012\t\t\t\t\t\t\t\t\t\t\t\t\t\n",
      "0001029\tINDIVIDUAL\tQUEENS\t01/01/2014\t11416\tGEM TOOL INC\t10/08/2013\t97-21\t09403\tNY\tOT\t01\tEMANUELE\t4197671\t97-21\t409\t101ST STREET\t2\tA2\tOT\t2013-10-08T12:00:00\tLEO\tOZONE PARK\tISSUED\t01\tNOT APPLICABLE\t8453362666\t101ST STREET\tJOSEPH\t00043\tGENERAL CONTRACTOR\tINITIAL\tSAL & SON AUTO BODY\t420904212\t2013-10-09T12:00:00\t10/08/2013\tEW\t7188458546\t\tSALVATORE\t11416\tY\t\t\t\t\t\t\t\t\t\t\t\t\n"
     ]
    }
   ],
   "source": [
    "head(ds, n=2).show()"
   ]
  },
  {
   "cell_type": "code",
   "execution_count": 4,
   "metadata": {},
   "outputs": [],
   "source": [
    "btype_borough = select(ds, columns=['owner_s_business_type', 'borough'])"
   ]
  },
  {
   "cell_type": "code",
   "execution_count": 5,
   "metadata": {},
   "outputs": [
    {
     "name": "stdout",
     "output_type": "stream",
     "text": [
      "owner_s_business_type\tborough\n",
      "CONDO/CO-OP\tMANHATTAN\n",
      "INDIVIDUAL\tQUEENS\n",
      "INDIVIDUAL\tQUEENS\n",
      "CONDO/CO-OP\tMANHATTAN\n",
      "CONDO/CO-OP\tMANHATTAN\n",
      "CORPORATION\tQUEENS\n",
      "INDIVIDUAL\tQUEENS\n",
      "INDIVIDUAL\tQUEENS\n",
      "CORPORATION\tMANHATTAN\n",
      "INDIVIDUAL\tSTATEN ISLAND\n"
     ]
    }
   ],
   "source": [
    "head(btype_borough).show()"
   ]
  },
  {
   "cell_type": "code",
   "execution_count": null,
   "metadata": {},
   "outputs": [],
   "source": []
  }
 ],
 "metadata": {
  "kernelspec": {
   "display_name": "Python 3",
   "language": "python",
   "name": "python3"
  },
  "language_info": {
   "codemirror_mode": {
    "name": "ipython",
    "version": 3
   },
   "file_extension": ".py",
   "mimetype": "text/x-python",
   "name": "python",
   "nbconvert_exporter": "python",
   "pygments_lexer": "ipython3",
   "version": "3.8.1"
  }
 },
 "nbformat": 4,
 "nbformat_minor": 4
}
