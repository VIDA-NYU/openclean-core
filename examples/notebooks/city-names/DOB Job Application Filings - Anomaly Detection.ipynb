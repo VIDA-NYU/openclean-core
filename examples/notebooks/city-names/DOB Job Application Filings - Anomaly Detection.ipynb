{
 "cells": [
  {
   "cell_type": "markdown",
   "metadata": {},
   "source": [
    "# Statistical Outliers in City names\n",
    "\n",
    "This notebook demonstrates the use of anomaly detection operators that are implemented by the [scikit-learn machine learning library](https://scikit-learn.org/stable/). There are five different anomaly detection operators that are included in **openclean**. Here we use a simple ensemble approach that applies all five operators to a sample of the *DOB Job Application Filing* dataset and counts for each value the number of operators that classified the value as an outlier.\n"
   ]
  },
  {
   "cell_type": "code",
   "execution_count": 1,
   "metadata": {},
   "outputs": [],
   "source": [
    "# Use the 'DOB Job Application Filings - Download' notebook to download the\n",
    "# 'DOB Job Application Filings' dataset for this example.\n",
    "\n",
    "datafile = './ic3t-wcy2.tsv.gz'\n",
    "\n",
    "# As an alternative, you can also use the smaller dataset sample that is\n",
    "# included in the repository.\n",
    "#\n",
    "# datafile = './data/ic3t-wcy2.tsv.gz'"
   ]
  },
  {
   "cell_type": "code",
   "execution_count": 2,
   "metadata": {},
   "outputs": [],
   "source": [
    "# Use a random sample of 10,000 records for this example.\n",
    "\n",
    "from openclean.pipeline import stream\n",
    "\n",
    "df = stream(datafile).select('City ').update('City ', str.upper).sample(10000, seed=42).to_df()"
   ]
  },
  {
   "cell_type": "code",
   "execution_count": 3,
   "metadata": {},
   "outputs": [
    {
     "data": {
      "text/plain": [
       "NEW YORK        3680\n",
       "BROOKLYN        1594\n",
       "QUEENS           538\n",
       "BRONX            470\n",
       "NY               462\n",
       "                ... \n",
       "FAR ROCKAWY        1\n",
       "OLD BRIDGE         1\n",
       "MARLTON            1\n",
       "WILLIAMSBURG       1\n",
       "NANUET             1\n",
       "Name: City , Length: 513, dtype: int64"
      ]
     },
     "execution_count": 3,
     "metadata": {},
     "output_type": "execute_result"
    }
   ],
   "source": [
    "# Print (a subset of) the distinct city names in the sample.\n",
    "\n",
    "df['City '].value_counts()"
   ]
  },
  {
   "cell_type": "code",
   "execution_count": 4,
   "metadata": {},
   "outputs": [],
   "source": [
    "# Use a counter to maintain count of how many anomaly detection operators\n",
    "# classified each value as an outlier.\n",
    "\n",
    "from collections import Counter\n",
    "\n",
    "ensemble = Counter()"
   ]
  },
  {
   "cell_type": "code",
   "execution_count": 5,
   "metadata": {},
   "outputs": [],
   "source": [
    "# Apply fife different anomaly detection operators to the values in the city column.\n",
    "# Here we use a default value embedding that ignores the frequency of each value (since\n",
    "# in this NYC Open Dataset city names like NEW YORK and any of the five boroughs are\n",
    "# more frequent that other names).\n",
    "\n",
    "from openclean.embedding.feature.default import UniqueSetEmbedding\n",
    "from openclean.profiling.anomalies.sklearn import (\n",
    "    dbscan,\n",
    "    isolation_forest,\n",
    "    local_outlier_factor,\n",
    "    one_class_svm,\n",
    "    robust_covariance\n",
    ")\n",
    "\n",
    "for f in [dbscan, isolation_forest, local_outlier_factor, one_class_svm, robust_covariance]:\n",
    "    ensemble.update(f(df, 'City ', features=UniqueSetEmbedding()))\n"
   ]
  },
  {
   "cell_type": "code",
   "execution_count": 6,
   "metadata": {},
   "outputs": [
    {
     "name": "stdout",
     "output_type": "stream",
     "text": [
      "4\tLIC.\n",
      "\tN Y\n",
      "\tB'KLYN\n",
      "\t_BK\n",
      "\tQUEEN S\n",
      "\tL.I.CITY\n",
      "\tSUITE 2107 NY\n",
      "\tNEW CANAAN\n",
      "\tHOLLIS HILLS\n",
      "\tS.I.\n",
      "\tMIAMI\n",
      "\tL.I.C\n",
      "\tFLUSHING MEADOW\n",
      "\tNEW  YORK\n",
      "\tS.I.,NY\n",
      "\tBKLYN.\n",
      "\tL.I.C.\n",
      "\tN.Y.\n",
      "\tSI,NY\n",
      "\n",
      "3\tROCKVILLE_CENTR\n",
      "\tS.OZONE PARK\n",
      "\tJACKSON HTS.\n",
      "\tS. OZONE PARK\n",
      "\tBOONTON\n",
      "\tMT. KISCO\n",
      "\tATLANTA\n",
      "\tNEW YORK,\n",
      "\tMANHATTAN\n",
      "\tMINEOLA,\n",
      "\tNEW YORK  CITY\n",
      "\tBROOKLYN,\n",
      "\tFLUS. MEADOWS\n",
      "\tPHILADELPHIA\n",
      "\tCINCINNATI\n",
      "\tLONG ISL. CITY\n",
      "\tNEW  YOURK\n",
      "\tLONG ISLN. CITY\n",
      "\tMC LEAN\n",
      "\tRICHMOND-HILL\n",
      "\tMT.VERNON\n",
      "\tNEW YORK\\\n",
      "\tSO. OZONE PARK\n",
      "\tNEW YORK, NY\n"
     ]
    }
   ],
   "source": [
    "# Output values that have been classified as outliers by at least three out of the\n",
    "# five operators.\n",
    "\n",
    "prev = 0\n",
    "for value, count in ensemble.most_common():\n",
    "    if count < 3:\n",
    "        break\n",
    "    if count < prev:\n",
    "        print()\n",
    "    if count != prev:\n",
    "        print('{}\\t{}'.format(count, value))\n",
    "    else:\n",
    "        print('\\t{}'.format(value))\n",
    "    prev = count"
   ]
  }
 ],
 "metadata": {
  "kernelspec": {
   "display_name": "Python 3",
   "language": "python",
   "name": "python3"
  },
  "language_info": {
   "codemirror_mode": {
    "name": "ipython",
    "version": 3
   },
   "file_extension": ".py",
   "mimetype": "text/x-python",
   "name": "python",
   "nbconvert_exporter": "python",
   "pygments_lexer": "ipython3",
   "version": "3.8.5"
  },
  "pycharm": {
   "stem_cell": {
    "cell_type": "raw",
    "source": [],
    "metadata": {
     "collapsed": false
    }
   }
  }
 },
 "nbformat": 4,
 "nbformat_minor": 4
}