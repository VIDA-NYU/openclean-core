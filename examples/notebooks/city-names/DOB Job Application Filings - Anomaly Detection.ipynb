{
 "cells": [
  {
   "cell_type": "markdown",
   "metadata": {},
   "source": [
    "# Discover Statistical Outliers in the City Name Column\n",
    "\n",
    "This notebook demonstrates the use of anomaly detection operators that are implemented by the [scikit-learn machine learning library](https://scikit-learn.org/stable/). There are five different anomaly detection operators that are included in **openclean**. Here we use a simple ensemble approach that applies all five operators to a sample of the *DOB Job Application Filing* dataset and counts for each value the number of operators that classified the value as an outlier.\n"
   ]
  },
  {
   "cell_type": "code",
   "execution_count": 1,
   "metadata": {},
   "outputs": [],
   "source": [
    "# Use the 'DOB Job Application Filings - Download' notebook to download the\n",
    "# 'DOB Job Application Filings' dataset for this example.\n",
    "\n",
    "datafile = './ic3t-wcy2.tsv.gz'\n"
   ]
  },
  {
   "cell_type": "code",
   "execution_count": 2,
   "metadata": {},
   "outputs": [],
   "source": [
    "# Use a random sample of 10,000 records for this example.\n",
    "\n",
    "from openclean.pipeline import stream\n",
    "\n",
    "df = stream(datafile).select('City ').update('City ', str.upper).sample(10000, seed=42).to_df()"
   ]
  },
  {
   "cell_type": "code",
   "execution_count": 3,
   "metadata": {},
   "outputs": [
    {
     "data": {
      "text/plain": [
       "NEW YORK      3713\n",
       "BROOKLYN      1577\n",
       "QUEENS         542\n",
       "NY             459\n",
       "BRONX          433\n",
       "              ... \n",
       "ENGELWOOD        1\n",
       "NEW CANAAN       1\n",
       "EATONTOWN        1\n",
       "FLORAL           1\n",
       "CALVERTON        1\n",
       "Name: City , Length: 508, dtype: int64"
      ]
     },
     "execution_count": 3,
     "metadata": {},
     "output_type": "execute_result"
    }
   ],
   "source": [
    "# Print (a subset of) the distinct city names in the sample.\n",
    "\n",
    "df['City '].value_counts()"
   ]
  },
  {
   "cell_type": "code",
   "execution_count": 4,
   "metadata": {},
   "outputs": [],
   "source": [
    "# Use a counter to maintain count of how many anomaly detection operators\n",
    "# classified each value as an outlier.\n",
    "\n",
    "from collections import Counter\n",
    "\n",
    "ensemble = Counter()"
   ]
  },
  {
   "cell_type": "code",
   "execution_count": 5,
   "metadata": {},
   "outputs": [],
   "source": [
    "# Apply fife different anomaly detection operators to the values in the city column.\n",
    "# Here we use a default value embedding that ignores the frequency of each value (since\n",
    "# in this NYC Open Dataset city names like NEW YORK and any of the five boroughs are\n",
    "# more frequent that other names).\n",
    "\n",
    "from openclean.embedding.feature.default import UniqueSetEmbedding\n",
    "from openclean.profiling.anomalies.sklearn import (\n",
    "    dbscan,\n",
    "    isolation_forest,\n",
    "    local_outlier_factor,\n",
    "    one_class_svm,\n",
    "    robust_covariance\n",
    ")\n",
    "\n",
    "for f in [dbscan, isolation_forest, local_outlier_factor, one_class_svm, robust_covariance]:\n",
    "    ensemble.update(f(df, 'City ', features=UniqueSetEmbedding()))\n"
   ]
  },
  {
   "cell_type": "code",
   "execution_count": 6,
   "metadata": {},
   "outputs": [
    {
     "name": "stdout",
     "output_type": "stream",
     "text": [
      "5\t6132\n",
      "\n",
      "4\tB'KLYN\n",
      "\tL.I. CITY\n",
      "\tL.I.C\n",
      "\tNB.Y.\n",
      "\tNEW  YORK\n",
      "\tN.Y.C.\n",
      "\tN.Y.\n",
      "\tBRONX,\n",
      "\tSI,NY\n",
      "\tL.I.C.\n",
      "\tS.I.\n",
      "\tBRO0KLYN\n",
      "\tN Y\n",
      "\tN.Y\n",
      "\tQUEENS,\n",
      "\t521 FIFTH AVENU\n",
      "\n",
      "3\tLONG IS. CITY\n",
      "\tNEW YORK, NY\n",
      "\tHENAU(SWITZERLA\n",
      "\tFLUSHING MEADOW\n",
      "\tNEW YOR\n",
      "\tHOLLIS HILLS\n",
      "\tWILLIAMSBURG,\n",
      "\tS. OZONE PARK\n",
      "\tFLORAL  PARK\n",
      "\tNEW YORK,\n",
      "\tE. JERSEY CITY\n",
      "\tSO. OZONE PARK\n",
      "\tNEW HYPDE PK.\n",
      "\tRICHMOND-HILL\n",
      "\tBROOKLYN,\n",
      "\tST HELIER, BVI\n",
      "\tFLUSHING,QUEENS\n",
      "\tMIAMI\n",
      "\tNW YORK\n",
      "\tNEEWARK,\n",
      "\tLONG ISL. CITY\n",
      "\tMT.VERNON\n",
      "\tLI CITY\n",
      "\tPHILADELPHIA\n"
     ]
    }
   ],
   "source": [
    "# Output values that have been classified as outliers by at least three out of the\n",
    "# five operators.\n",
    "\n",
    "prev = 0\n",
    "for value, count in ensemble.most_common():\n",
    "    if count < 3:\n",
    "        break\n",
    "    if count < prev:\n",
    "        print()\n",
    "    if count != prev:\n",
    "        print('{}\\t{}'.format(count, value))\n",
    "    else:\n",
    "        print('\\t{}'.format(value))\n",
    "    prev = count"
   ]
  }
 ],
 "metadata": {
  "kernelspec": {
   "display_name": "Python 3",
   "language": "python",
   "name": "python3"
  },
  "language_info": {
   "codemirror_mode": {
    "name": "ipython",
    "version": 3
   },
   "file_extension": ".py",
   "mimetype": "text/x-python",
   "name": "python",
   "nbconvert_exporter": "python",
   "pygments_lexer": "ipython3",
   "version": "3.8.5"
  }
 },
 "nbformat": 4,
 "nbformat_minor": 4
}
