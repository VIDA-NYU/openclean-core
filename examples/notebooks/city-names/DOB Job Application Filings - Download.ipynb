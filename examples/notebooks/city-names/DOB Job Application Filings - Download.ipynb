{
 "cells": [
  {
   "cell_type": "markdown",
   "metadata": {},
   "source": [
    "# Downloading DOB Job Application Filings from Socrata"
   ]
  },
  {
   "cell_type": "code",
   "execution_count": 1,
   "metadata": {
    "pycharm": {
     "is_executing": true
    }
   },
   "outputs": [],
   "source": [
    "# Download the full 'DOB Job Application Filings' dataset.\n",
    "\n",
    "import gzip\n",
    "\n",
    "from openclean.data.source.socrata import Socrata\n",
    "\n",
    "\n",
    "outfile = './ic3t-wcy2.tsv.gz'\n",
    "\n",
    "with gzip.open(outfile, 'wb') as f:\n",
    "    Socrata().dataset('ic3t-wcy2').write(f)"
   ]
  },
  {
   "cell_type": "code",
   "execution_count": 2,
   "metadata": {
    "pycharm": {
     "is_executing": true
    }
   },
   "outputs": [
    {
     "name": "stdout",
     "output_type": "stream",
     "text": [
      "Schema\n",
      "------\n",
      "  'Job #'\n",
      "  'Doc #'\n",
      "  'Borough'\n",
      "  'House #'\n",
      "  'Street Name'\n",
      "  'Block'\n",
      "  'Lot'\n",
      "  'Bin #'\n",
      "  'Job Type'\n",
      "  'Job Status'\n",
      "  'Job Status Descrp'\n",
      "  'Latest Action Date'\n",
      "  'Building Type'\n",
      "  'Community - Board'\n",
      "  'Cluster'\n",
      "  'Landmarked'\n",
      "  'Adult Estab'\n",
      "  'Loft Board'\n",
      "  'City Owned'\n",
      "  'Little e'\n",
      "  'PC Filed'\n",
      "  'eFiling Filed'\n",
      "  'Plumbing'\n",
      "  'Mechanical'\n",
      "  'Boiler'\n",
      "  'Fuel Burning'\n",
      "  'Fuel Storage'\n",
      "  'Standpipe'\n",
      "  'Sprinkler'\n",
      "  'Fire Alarm'\n",
      "  'Equipment'\n",
      "  'Fire Suppression'\n",
      "  'Curb Cut'\n",
      "  'Other'\n",
      "  'Other Description'\n",
      "  'Applicant's First Name'\n",
      "  'Applicant's Last Name'\n",
      "  'Applicant Professional Title'\n",
      "  'Applicant License #'\n",
      "  'Professional Cert'\n",
      "  'Pre- Filing Date'\n",
      "  'Paid'\n",
      "  'Fully Paid'\n",
      "  'Assigned'\n",
      "  'Approved'\n",
      "  'Fully Permitted'\n",
      "  'Initial Cost'\n",
      "  'Total Est. Fee'\n",
      "  'Fee Status'\n",
      "  'Existing Zoning Sqft'\n",
      "  'Proposed Zoning Sqft'\n",
      "  'Horizontal Enlrgmt'\n",
      "  'Vertical Enlrgmt'\n",
      "  'Enlargement SQ Footage'\n",
      "  'Street Frontage'\n",
      "  'ExistingNo. of Stories'\n",
      "  'Proposed No. of Stories'\n",
      "  'Existing Height'\n",
      "  'Proposed Height'\n",
      "  'Existing Dwelling Units'\n",
      "  'Proposed Dwelling Units'\n",
      "  'Existing Occupancy'\n",
      "  'Proposed Occupancy'\n",
      "  'Site Fill'\n",
      "  'Zoning Dist1'\n",
      "  'Zoning Dist2'\n",
      "  'Zoning Dist3'\n",
      "  'Special District 1'\n",
      "  'Special District 2'\n",
      "  'Owner Type'\n",
      "  'Non-Profit'\n",
      "  'Owner's First Name'\n",
      "  'Owner's Last Name'\n",
      "  'Owner's Business Name'\n",
      "  'Owner's House Number'\n",
      "  'Owner'sHouse Street Name'\n",
      "  'City '\n",
      "  'State'\n",
      "  'Zip'\n",
      "  'Owner'sPhone #'\n",
      "  'Job Description'\n",
      "  'DOBRunDate'\n",
      "  'JOB_S1_NO'\n",
      "  'TOTAL_CONSTRUCTION_FLOOR_AREA'\n",
      "  'WITHDRAWAL_FLAG'\n",
      "  'SIGNOFF_DATE'\n",
      "  'SPECIAL_ACTION_STATUS'\n",
      "  'SPECIAL_ACTION_DATE'\n",
      "  'BUILDING_CLASS'\n",
      "  'JOB_NO_GOOD_COUNT'\n",
      "  'GIS_LATITUDE'\n",
      "  'GIS_LONGITUDE'\n",
      "  'GIS_COUNCIL_DISTRICT'\n",
      "  'GIS_CENSUS_TRACT'\n",
      "  'GIS_NTA_NAME'\n",
      "  'GIS_BIN'\n",
      "\n",
      "1762407 rows.\n"
     ]
    }
   ],
   "source": [
    "# Verify that the download was successful. Print dataset columns and number of rows.\n",
    "# This example makes use of the streaming option to avoid loading the full data frame\n",
    "# into memory.\n",
    "\n",
    "from openclean.pipeline import stream\n",
    "\n",
    "df = stream(outfile)\n",
    "\n",
    "\n",
    "print('Schema\\n------')\n",
    "for col in df.columns:\n",
    "    print(\"  '{}'\".format(col))\n",
    "    \n",
    "print('\\n{} rows.'.format(df.count()))"
   ]
  },
  {
   "cell_type": "code",
   "execution_count": null,
   "metadata": {},
   "outputs": [],
   "source": []
  }
 ],
 "metadata": {
  "kernelspec": {
   "display_name": ".venv",
   "language": "python",
   "name": ".venv"
  },
  "language_info": {
   "codemirror_mode": {
    "name": "ipython",
    "version": 3
   },
   "file_extension": ".py",
   "mimetype": "text/x-python",
   "name": "python",
   "nbconvert_exporter": "python",
   "pygments_lexer": "ipython3",
   "version": "3.7.4"
  },
  "pycharm": {
   "stem_cell": {
    "cell_type": "raw",
    "source": [],
    "metadata": {
     "collapsed": false
    }
   }
  }
 },
 "nbformat": 4,
 "nbformat_minor": 4
}